{
 "cells": [
  {
   "cell_type": "code",
   "execution_count": 5,
   "id": "bc64df48-e75e-466b-ae04-9406aa04783b",
   "metadata": {},
   "outputs": [],
   "source": [
    "import ROOT\n",
    "import os\n",
    "import uproot"
   ]
  },
  {
   "cell_type": "code",
   "execution_count": 10,
   "id": "e7b9914d-aa01-43bc-b4a5-9965b168fbc1",
   "metadata": {},
   "outputs": [
    {
     "name": "stdout",
     "output_type": "stream",
     "text": [
      "['d01-x01-y01', 'd02-x01-y01', 'd03-x01-y01', 'd04-x01-y01', 'd05-x01-y01', 'd06-x01-y01', 'd07-x01-y01', 'd08-x01-y01', 'd09-x01-y01', 'd10-x01-y01', 'd11-x01-y01', 'd12-x01-y01', 'd13-x01-y01', 'd14-x01-y01', 'd15-x01-y01', 'd16-x01-y01', 'd17-x01-y01', 'd18-x01-y01', 'd19-x01-y01', 'd20-x01-y01', 'd21-x01-y01', 'd22-x01-y01', 'd23-x01-y01', 'd24-x01-y01', 'd25-x01-y01', 'd26-x01-y01', 'd27-x01-y01', 'd28-x01-y01', 'd29-x01-y01', 'd30-x01-y01', 'd31-x01-y01', 'd32-x01-y01', 'd33-x01-y01', 'd34-x01-y01', 'd35-x01-y01', 'd36-x01-y01', 'd37-x01-y01', 'd38-x01-y01', 'd39-x01-y01', 'd40-x01-y01', 'd41-x01-y01', 'd42-x01-y01', 'd43-x01-y01']\n"
     ]
    }
   ],
   "source": [
    "l=[]\n",
    "for i in range(1,44):\n",
    "    l.append('d{:02d}-x01-y01'.format(i) )\n",
    "print(l)"
   ]
  },
  {
   "cell_type": "code",
   "execution_count": 11,
   "id": "c6fb7df9-5f00-48dd-8adc-eddd28c58535",
   "metadata": {},
   "outputs": [],
   "source": [
    "data_hist_path = os.path.join(os.getcwd(), 'rivet_histograms', 'data', 'ALEPH_1996_S3486095.root')\n",
    "data_hist= ROOT.TFile(data_hist_path, \"READ\")"
   ]
  },
  {
   "cell_type": "code",
   "execution_count": 12,
   "id": "7c666f34-e5f6-4a7a-b833-fccd906d33dd",
   "metadata": {},
   "outputs": [],
   "source": [
    "tree_name_data='REFALEPH_1996_S3486095'\n",
    "# tree = data_hist.Cd('REFALEPH_1996_S3486095')"
   ]
  },
  {
   "cell_type": "code",
   "execution_count": 13,
   "id": "0ae42819-9066-4bca-a788-6d27e8ea64b6",
   "metadata": {},
   "outputs": [],
   "source": [
    "data_hist0 = data_hist.Get('%s/d01-x01-y01' % tree_name_data)"
   ]
  },
  {
   "cell_type": "code",
   "execution_count": 14,
   "id": "588e345b-2cf8-4fb5-b893-e3f2b1d71e58",
   "metadata": {},
   "outputs": [
    {
     "name": "stdout",
     "output_type": "stream",
     "text": [
      "x[0]=0.0025, y[0]=12.36, exl[0]=0.0025, exh[0]=0.0025, eyl[0]=0.407922, eyh[0]=0.407922\n",
      "x[1]=0.0075, y[1]=23.33, exl[1]=0.0025, exh[1]=0.0025, eyl[1]=0.254951, eyh[1]=0.254951\n",
      "x[2]=0.0125, y[2]=20.23, exl[2]=0.0025, exh[2]=0.0025, eyl[2]=0.156205, eyh[2]=0.156205\n",
      "x[3]=0.0175, y[3]=16.69, exl[3]=0.0025, exh[3]=0.0025, eyl[3]=0.120416, eyh[3]=0.120416\n",
      "x[4]=0.0225, y[4]=13.41, exl[4]=0.0025, exh[4]=0.0025, eyl[4]=0.1, eyh[4]=0.1\n",
      "x[5]=0.0275, y[5]=10.79, exl[5]=0.0025, exh[5]=0.0025, eyl[5]=0.0989949, eyh[5]=0.0989949\n",
      "x[6]=0.0325, y[6]=8.87, exl[6]=0.0025, exh[6]=0.0025, eyl[6]=0.0940479, eyh[6]=0.0940479\n",
      "x[7]=0.0375, y[7]=7.408, exl[7]=0.0025, exh[7]=0.0025, eyl[7]=0.0891964, eyh[7]=0.0891964\n",
      "x[8]=0.045, y[8]=5.922, exl[8]=0.005, exh[8]=0.005, eyl[8]=0.0693397, eyh[8]=0.0693397\n",
      "x[9]=0.055, y[9]=4.508, exl[9]=0.005, exh[9]=0.005, eyl[9]=0.0526308, eyh[9]=0.0526308\n",
      "x[10]=0.07, y[10]=3.258, exl[10]=0.01, exh[10]=0.01, eyl[10]=0.0304795, eyh[10]=0.0304795\n",
      "x[11]=0.09, y[11]=2.317, exl[11]=0.01, exh[11]=0.01, eyl[11]=0.0233452, eyh[11]=0.0233452\n",
      "x[12]=0.11, y[12]=1.742, exl[12]=0.01, exh[12]=0.01, eyl[12]=0.0226716, eyh[12]=0.0226716\n",
      "x[13]=0.14, y[13]=1.211, exl[13]=0.02, exh[13]=0.02, eyl[13]=0.0183576, eyh[13]=0.0183576\n",
      "x[14]=0.18, y[14]=0.8132, exl[14]=0.02, exh[14]=0.02, eyl[14]=0.0152069, eyh[14]=0.0152069\n",
      "x[15]=0.225, y[15]=0.5626, exl[15]=0.025, exh[15]=0.025, eyl[15]=0.0127122, eyh[15]=0.0127122\n",
      "x[16]=0.275, y[16]=0.3973, exl[16]=0.025, exh[16]=0.025, eyl[16]=0.010246, eyh[16]=0.010246\n",
      "x[17]=0.325, y[17]=0.2903, exl[17]=0.025, exh[17]=0.025, eyl[17]=0.00778267, eyh[17]=0.00778267\n",
      "x[18]=0.375, y[18]=0.2224, exl[18]=0.025, exh[18]=0.025, eyl[18]=0.00619112, eyh[18]=0.00619112\n",
      "x[19]=0.45, y[19]=0.1476, exl[19]=0.05, exh[19]=0.05, eyl[19]=0.00398246, eyh[19]=0.00398246\n",
      "x[20]=0.55, y[20]=0.0861, exl[20]=0.05, exh[20]=0.05, eyl[20]=0.00244131, eyh[20]=0.00244131\n",
      "x[21]=0.65, y[21]=0.0447, exl[21]=0.05, exh[21]=0.05, eyl[21]=0.00148661, eyh[21]=0.00148661\n",
      "x[22]=0.75, y[22]=0.0116, exl[22]=0.05, exh[22]=0.05, eyl[22]=0.000781025, eyh[22]=0.000781025\n"
     ]
    }
   ],
   "source": [
    "data_hist0.Print()"
   ]
  },
  {
   "cell_type": "code",
   "execution_count": 15,
   "id": "4a680690-b969-4adf-9d74-6f25b47ddff1",
   "metadata": {},
   "outputs": [],
   "source": [
    "data_hist.Close()"
   ]
  },
  {
   "cell_type": "code",
   "execution_count": 6,
   "id": "25a92d08-8d1e-4f91-abc9-6d88385099c7",
   "metadata": {},
   "outputs": [
    {
     "name": "stdout",
     "output_type": "stream",
     "text": [
      "TH1.Print Name  = /ALEPH_1996_S3486095/d02-x01-y01, Entries= 18, Total sum= 0.9998\n"
     ]
    },
    {
     "name": "stderr",
     "output_type": "stream",
     "text": [
      "Error in <THashList::Delete>: A list is accessing an object (0x56207f01c220) already deleted (list name = THashList)\n"
     ]
    }
   ],
   "source": [
    "tree_name_simulation='ALEPH_1996_S3486095'\n",
    "\n",
    "simulation_hist_path = os.path.join(os.getcwd(), 'rivet_histograms', 'simulation', 'ALEPH_1996_S3486095_card_0.root')\n",
    "simulation_hist= ROOT.TFile(simulation_hist_path, \"READ\")\n",
    "simulation_hist0=simulation_hist.Get('%s/d02-x01-y01' % tree_name_simulation)\n",
    "simulation_hist0.Print()\n",
    "simulation_hist.Close()"
   ]
  },
  {
   "cell_type": "code",
   "execution_count": 19,
   "id": "cdf45dd3-c816-4c28-90f1-ac2614050e79",
   "metadata": {},
   "outputs": [
    {
     "name": "stdout",
     "output_type": "stream",
     "text": [
      "TH1.Print Name  = /ALEPH_1996_S3486095/d02-x01-y01, Entries= 18, Total sum= 0.9998\n"
     ]
    }
   ],
   "source": [
    "simulation_hist0.Print()"
   ]
  },
  {
   "cell_type": "markdown",
   "id": "eabfbdfe-14ed-4893-a460-888255cae270",
   "metadata": {},
   "source": [
    "# using uproot"
   ]
  },
  {
   "cell_type": "code",
   "execution_count": 28,
   "id": "51e2a778-cbb1-43d8-920c-f0dcb82d4071",
   "metadata": {},
   "outputs": [],
   "source": [
    "def return_data_hist(hist_name='d01-x01-y01'):\n",
    "    data_hist_path = os.path.join(os.getcwd(), 'rivet_histograms', 'data', 'ALEPH_1996_S3486095.root')\n",
    "    tree_name_data='REFALEPH_1996_S3486095'\n",
    "    uproot_file = uproot.open(data_hist_path)\n",
    "    full_hist_name = '%s/%s' % (tree_name_data, hist_name)\n",
    "    uproot_hist = uproot_file[full_hist_name]\n",
    "    hist_values = uproot_hist.values()[1]\n",
    "    uproot_file.close()\n",
    "    return hist_values"
   ]
  },
  {
   "cell_type": "code",
   "execution_count": 23,
   "id": "436acccd-3475-4273-963f-3f08b74cbc80",
   "metadata": {},
   "outputs": [],
   "source": [
    "def return_simulation_hist(filename = 'ALEPH_1996_S3486095_card_0.root', hist_name='d01-x01-y01'):\n",
    "    simulation_hist_path = os.path.join(os.getcwd(), 'rivet_histograms', 'simulation', filename)\n",
    "    uproot_file = uproot.open(simulation_hist_path)\n",
    "    tree_name_simulation='ALEPH_1996_S3486095'\n",
    "    \n",
    "    full_hist_name = '%s/%s' % (tree_name_simulation, hist_name)\n",
    "    uproot_hist = uproot_file[full_hist_name]\n",
    "    hist_values = uproot_hist.values()\n",
    "    uproot_file.close()\n",
    "    return hist_values"
   ]
  },
  {
   "cell_type": "code",
   "execution_count": 27,
   "id": "2c96141b-e26e-49be-a213-6abc8c7846bf",
   "metadata": {},
   "outputs": [
    {
     "data": {
      "text/plain": [
       "array([1.23599997e+01, 2.33299999e+01, 2.02299995e+01, 1.66900005e+01,\n",
       "       1.34099998e+01, 1.07900000e+01, 8.86999989e+00, 7.40799999e+00,\n",
       "       5.92199993e+00, 4.50799990e+00, 3.25799990e+00, 2.31699991e+00,\n",
       "       1.74199998e+00, 1.21099997e+00, 8.13199997e-01, 5.62600017e-01,\n",
       "       3.97300005e-01, 2.90300012e-01, 2.22399995e-01, 1.47599995e-01,\n",
       "       8.60999972e-02, 4.47000004e-02, 1.15999999e-02])"
      ]
     },
     "execution_count": 27,
     "metadata": {},
     "output_type": "execute_result"
    }
   ],
   "source": [
    "data_hist_0 = return_data_hist()\n",
    "data_hist_0"
   ]
  },
  {
   "cell_type": "code",
   "execution_count": 24,
   "id": "b90e5f38-e749-4d59-ba21-cb6ba8feeee7",
   "metadata": {},
   "outputs": [
    {
     "data": {
      "text/plain": [
       "array([0.0741, 0.1219, 0.1031, 0.0828, 0.0668, 0.0538, 0.0449, 0.0344,\n",
       "       0.057 , 0.0456, 0.0633, 0.0448, 0.0318, 0.0483, 0.0294, 0.0255,\n",
       "       0.0215, 0.0144, 0.0089, 0.0136, 0.0084, 0.0048, 0.0009])"
      ]
     },
     "execution_count": 24,
     "metadata": {},
     "output_type": "execute_result"
    }
   ],
   "source": [
    "simulation_hist_0 = return_simulation_hist()\n",
    "simulation_hist_0"
   ]
  },
  {
   "cell_type": "code",
   "execution_count": 16,
   "id": "63ca2592-2b40-4de4-95c3-bf4bd083bd3e",
   "metadata": {},
   "outputs": [
    {
     "data": {
      "text/plain": [
       "array([0.0741, 0.1219, 0.1031, 0.0828, 0.0668, 0.0538, 0.0449, 0.0344,\n",
       "       0.057 , 0.0456, 0.0633, 0.0448, 0.0318, 0.0483, 0.0294, 0.0255,\n",
       "       0.0215, 0.0144, 0.0089, 0.0136, 0.0084, 0.0048, 0.0009])"
      ]
     },
     "execution_count": 16,
     "metadata": {},
     "output_type": "execute_result"
    }
   ],
   "source": [
    "uproot_file = uproot.open(simulation_hist_path)\n",
    "hist_name = '%s/d01-x01-y01' % tree_name_simulation\n",
    "uproot_hist = uproot_file[hist_name]\n",
    "uproot_hist.values()"
   ]
  },
  {
   "cell_type": "code",
   "execution_count": null,
   "id": "145c72af-61bd-421e-ad15-422ee5673020",
   "metadata": {},
   "outputs": [],
   "source": []
  }
 ],
 "metadata": {
  "kernelspec": {
   "display_name": "Python 3",
   "language": "python",
   "name": "python3"
  },
  "language_info": {
   "codemirror_mode": {
    "name": "ipython",
    "version": 3
   },
   "file_extension": ".py",
   "mimetype": "text/x-python",
   "name": "python",
   "nbconvert_exporter": "python",
   "pygments_lexer": "ipython3",
   "version": "3.7.10"
  }
 },
 "nbformat": 4,
 "nbformat_minor": 5
}
