{
 "cells": [
  {
   "cell_type": "code",
   "execution_count": 98,
   "id": "bc64df48-e75e-466b-ae04-9406aa04783b",
   "metadata": {},
   "outputs": [],
   "source": [
    "import ROOT\n",
    "import os\n",
    "import uproot\n",
    "import numpy as np\n",
    "import matplotlib.pyplot as plt"
   ]
  },
  {
   "cell_type": "code",
   "execution_count": 10,
   "id": "e7b9914d-aa01-43bc-b4a5-9965b168fbc1",
   "metadata": {},
   "outputs": [
    {
     "name": "stdout",
     "output_type": "stream",
     "text": [
      "['d01-x01-y01', 'd02-x01-y01', 'd03-x01-y01', 'd04-x01-y01', 'd05-x01-y01', 'd06-x01-y01', 'd07-x01-y01', 'd08-x01-y01', 'd09-x01-y01', 'd10-x01-y01', 'd11-x01-y01', 'd12-x01-y01', 'd13-x01-y01', 'd14-x01-y01', 'd15-x01-y01', 'd16-x01-y01', 'd17-x01-y01', 'd18-x01-y01', 'd19-x01-y01', 'd20-x01-y01', 'd21-x01-y01', 'd22-x01-y01', 'd23-x01-y01', 'd24-x01-y01', 'd25-x01-y01', 'd26-x01-y01', 'd27-x01-y01', 'd28-x01-y01', 'd29-x01-y01', 'd30-x01-y01', 'd31-x01-y01', 'd32-x01-y01', 'd33-x01-y01', 'd34-x01-y01', 'd35-x01-y01', 'd36-x01-y01', 'd37-x01-y01', 'd38-x01-y01', 'd39-x01-y01', 'd40-x01-y01', 'd41-x01-y01', 'd42-x01-y01', 'd43-x01-y01']\n"
     ]
    }
   ],
   "source": [
    "l=[]\n",
    "for i in range(1,44):\n",
    "    l.append('d{:02d}-x01-y01'.format(i) )\n",
    "print(l)"
   ]
  },
  {
   "cell_type": "code",
   "execution_count": 11,
   "id": "c6fb7df9-5f00-48dd-8adc-eddd28c58535",
   "metadata": {},
   "outputs": [],
   "source": [
    "data_hist_path = os.path.join(os.getcwd(), 'rivet_histograms', 'data', 'ALEPH_1996_S3486095.root')\n",
    "data_hist= ROOT.TFile(data_hist_path, \"READ\")"
   ]
  },
  {
   "cell_type": "code",
   "execution_count": 12,
   "id": "7c666f34-e5f6-4a7a-b833-fccd906d33dd",
   "metadata": {},
   "outputs": [],
   "source": [
    "tree_name_data='REFALEPH_1996_S3486095'\n",
    "# tree = data_hist.Cd('REFALEPH_1996_S3486095')"
   ]
  },
  {
   "cell_type": "code",
   "execution_count": 13,
   "id": "0ae42819-9066-4bca-a788-6d27e8ea64b6",
   "metadata": {},
   "outputs": [],
   "source": [
    "data_hist0 = data_hist.Get('%s/d01-x01-y01' % tree_name_data)"
   ]
  },
  {
   "cell_type": "code",
   "execution_count": 14,
   "id": "588e345b-2cf8-4fb5-b893-e3f2b1d71e58",
   "metadata": {},
   "outputs": [
    {
     "name": "stdout",
     "output_type": "stream",
     "text": [
      "x[0]=0.0025, y[0]=12.36, exl[0]=0.0025, exh[0]=0.0025, eyl[0]=0.407922, eyh[0]=0.407922\n",
      "x[1]=0.0075, y[1]=23.33, exl[1]=0.0025, exh[1]=0.0025, eyl[1]=0.254951, eyh[1]=0.254951\n",
      "x[2]=0.0125, y[2]=20.23, exl[2]=0.0025, exh[2]=0.0025, eyl[2]=0.156205, eyh[2]=0.156205\n",
      "x[3]=0.0175, y[3]=16.69, exl[3]=0.0025, exh[3]=0.0025, eyl[3]=0.120416, eyh[3]=0.120416\n",
      "x[4]=0.0225, y[4]=13.41, exl[4]=0.0025, exh[4]=0.0025, eyl[4]=0.1, eyh[4]=0.1\n",
      "x[5]=0.0275, y[5]=10.79, exl[5]=0.0025, exh[5]=0.0025, eyl[5]=0.0989949, eyh[5]=0.0989949\n",
      "x[6]=0.0325, y[6]=8.87, exl[6]=0.0025, exh[6]=0.0025, eyl[6]=0.0940479, eyh[6]=0.0940479\n",
      "x[7]=0.0375, y[7]=7.408, exl[7]=0.0025, exh[7]=0.0025, eyl[7]=0.0891964, eyh[7]=0.0891964\n",
      "x[8]=0.045, y[8]=5.922, exl[8]=0.005, exh[8]=0.005, eyl[8]=0.0693397, eyh[8]=0.0693397\n",
      "x[9]=0.055, y[9]=4.508, exl[9]=0.005, exh[9]=0.005, eyl[9]=0.0526308, eyh[9]=0.0526308\n",
      "x[10]=0.07, y[10]=3.258, exl[10]=0.01, exh[10]=0.01, eyl[10]=0.0304795, eyh[10]=0.0304795\n",
      "x[11]=0.09, y[11]=2.317, exl[11]=0.01, exh[11]=0.01, eyl[11]=0.0233452, eyh[11]=0.0233452\n",
      "x[12]=0.11, y[12]=1.742, exl[12]=0.01, exh[12]=0.01, eyl[12]=0.0226716, eyh[12]=0.0226716\n",
      "x[13]=0.14, y[13]=1.211, exl[13]=0.02, exh[13]=0.02, eyl[13]=0.0183576, eyh[13]=0.0183576\n",
      "x[14]=0.18, y[14]=0.8132, exl[14]=0.02, exh[14]=0.02, eyl[14]=0.0152069, eyh[14]=0.0152069\n",
      "x[15]=0.225, y[15]=0.5626, exl[15]=0.025, exh[15]=0.025, eyl[15]=0.0127122, eyh[15]=0.0127122\n",
      "x[16]=0.275, y[16]=0.3973, exl[16]=0.025, exh[16]=0.025, eyl[16]=0.010246, eyh[16]=0.010246\n",
      "x[17]=0.325, y[17]=0.2903, exl[17]=0.025, exh[17]=0.025, eyl[17]=0.00778267, eyh[17]=0.00778267\n",
      "x[18]=0.375, y[18]=0.2224, exl[18]=0.025, exh[18]=0.025, eyl[18]=0.00619112, eyh[18]=0.00619112\n",
      "x[19]=0.45, y[19]=0.1476, exl[19]=0.05, exh[19]=0.05, eyl[19]=0.00398246, eyh[19]=0.00398246\n",
      "x[20]=0.55, y[20]=0.0861, exl[20]=0.05, exh[20]=0.05, eyl[20]=0.00244131, eyh[20]=0.00244131\n",
      "x[21]=0.65, y[21]=0.0447, exl[21]=0.05, exh[21]=0.05, eyl[21]=0.00148661, eyh[21]=0.00148661\n",
      "x[22]=0.75, y[22]=0.0116, exl[22]=0.05, exh[22]=0.05, eyl[22]=0.000781025, eyh[22]=0.000781025\n"
     ]
    }
   ],
   "source": [
    "data_hist0.Print()"
   ]
  },
  {
   "cell_type": "code",
   "execution_count": 15,
   "id": "4a680690-b969-4adf-9d74-6f25b47ddff1",
   "metadata": {},
   "outputs": [],
   "source": [
    "data_hist.Close()"
   ]
  },
  {
   "cell_type": "code",
   "execution_count": 6,
   "id": "25a92d08-8d1e-4f91-abc9-6d88385099c7",
   "metadata": {},
   "outputs": [
    {
     "name": "stdout",
     "output_type": "stream",
     "text": [
      "TH1.Print Name  = /ALEPH_1996_S3486095/d02-x01-y01, Entries= 18, Total sum= 0.9998\n"
     ]
    },
    {
     "name": "stderr",
     "output_type": "stream",
     "text": [
      "Error in <THashList::Delete>: A list is accessing an object (0x56207f01c220) already deleted (list name = THashList)\n"
     ]
    }
   ],
   "source": [
    "tree_name_simulation='ALEPH_1996_S3486095'\n",
    "\n",
    "simulation_hist_path = os.path.join(os.getcwd(), 'rivet_histograms', 'simulation', 'ALEPH_1996_S3486095_card_0.root')\n",
    "simulation_hist= ROOT.TFile(simulation_hist_path, \"READ\")\n",
    "simulation_hist0=simulation_hist.Get('%s/d02-x01-y01' % tree_name_simulation)\n",
    "simulation_hist0.Print()\n",
    "simulation_hist.Close()"
   ]
  },
  {
   "cell_type": "code",
   "execution_count": 19,
   "id": "cdf45dd3-c816-4c28-90f1-ac2614050e79",
   "metadata": {},
   "outputs": [
    {
     "name": "stdout",
     "output_type": "stream",
     "text": [
      "TH1.Print Name  = /ALEPH_1996_S3486095/d02-x01-y01, Entries= 18, Total sum= 0.9998\n"
     ]
    }
   ],
   "source": [
    "simulation_hist0.Print()"
   ]
  },
  {
   "cell_type": "markdown",
   "id": "eabfbdfe-14ed-4893-a460-888255cae270",
   "metadata": {},
   "source": [
    "# using uproot"
   ]
  },
  {
   "cell_type": "code",
   "execution_count": 115,
   "id": "0083da8e-6a24-40e7-a166-fcdb575fb3cf",
   "metadata": {},
   "outputs": [],
   "source": [
    "hist_name='d01-x01-y01'\n",
    "data_hist_path = os.path.join(os.getcwd(), 'rivet_histograms', 'data', 'ALEPH_1996_S3486095.root')\n",
    "tree_name_data='REFALEPH_1996_S3486095'\n",
    "uproot_file = uproot.open(data_hist_path)\n",
    "full_hist_name = '%s/%s' % (tree_name_data, hist_name)\n",
    "uproot_hist = uproot_file[full_hist_name]"
   ]
  },
  {
   "cell_type": "code",
   "execution_count": 120,
   "id": "0e5f3467-e4e7-4478-a225-a6ba8c668bcf",
   "metadata": {},
   "outputs": [
    {
     "data": {
      "text/plain": [
       "(array([0.0025    , 0.0075    , 0.0125    , 0.0175    , 0.0225    ,\n",
       "        0.0275    , 0.0325    , 0.0375    , 0.045     , 0.055     ,\n",
       "        0.07      , 0.09      , 0.11      , 0.14      , 0.18000001,\n",
       "        0.22499999, 0.27500001, 0.32499999, 0.375     , 0.44999999,\n",
       "        0.55000001, 0.64999998, 0.75      ]),\n",
       " array([1.23599997e+01, 2.33299999e+01, 2.02299995e+01, 1.66900005e+01,\n",
       "        1.34099998e+01, 1.07900000e+01, 8.86999989e+00, 7.40799999e+00,\n",
       "        5.92199993e+00, 4.50799990e+00, 3.25799990e+00, 2.31699991e+00,\n",
       "        1.74199998e+00, 1.21099997e+00, 8.13199997e-01, 5.62600017e-01,\n",
       "        3.97300005e-01, 2.90300012e-01, 2.22399995e-01, 1.47599995e-01,\n",
       "        8.60999972e-02, 4.47000004e-02, 1.15999999e-02]))"
      ]
     },
     "execution_count": 120,
     "metadata": {},
     "output_type": "execute_result"
    }
   ],
   "source": [
    "uproot_hist.values()"
   ]
  },
  {
   "cell_type": "code",
   "execution_count": 123,
   "id": "51e2a778-cbb1-43d8-920c-f0dcb82d4071",
   "metadata": {},
   "outputs": [],
   "source": [
    "def return_data_hist(hist_name='d01-x01-y01'):\n",
    "    data_hist_path = os.path.join(os.getcwd(), 'rivet_histograms', 'data', 'ALEPH_1996_S3486095.root')\n",
    "    tree_name_data='REFALEPH_1996_S3486095'\n",
    "    uproot_file = uproot.open(data_hist_path)\n",
    "    full_hist_name = '%s/%s' % (tree_name_data, hist_name)\n",
    "    uproot_hist = uproot_file[full_hist_name]\n",
    "    hist_edges = uproot_hist.values()[0]\n",
    "    hist_values = uproot_hist.values()[1]\n",
    "    uproot_file.close()\n",
    "    return hist_edges, hist_values"
   ]
  },
  {
   "cell_type": "code",
   "execution_count": 129,
   "id": "436acccd-3475-4273-963f-3f08b74cbc80",
   "metadata": {},
   "outputs": [],
   "source": [
    "def return_simulation_hist(filename = 'ALEPH_1996_S3486095_card_0.root', hist_name='d01-x01-y01'):\n",
    "    simulation_hist_path = os.path.join(os.getcwd(), 'rivet_histograms', 'simulation', filename)\n",
    "    uproot_file = uproot.open(simulation_hist_path)\n",
    "    tree_name_simulation='ALEPH_1996_S3486095'\n",
    "    \n",
    "    full_hist_name = '%s/%s' % (tree_name_simulation, hist_name)\n",
    "    uproot_hist = uproot_file[full_hist_name]\n",
    "    hist_values = uproot_hist.values()\n",
    "    uproot_file.close()\n",
    "    return hist_values"
   ]
  },
  {
   "cell_type": "code",
   "execution_count": 138,
   "id": "2c96141b-e26e-49be-a213-6abc8c7846bf",
   "metadata": {},
   "outputs": [
    {
     "data": {
      "text/plain": [
       "array([8.39999970e-03, 4.83000018e-02, 9.21000019e-02, 1.30600005e-01,\n",
       "       1.62300006e-01, 1.96899995e-01, 2.31800005e-01, 2.44200006e-01,\n",
       "       1.72900006e-01, 7.20999986e-02, 1.99999996e-02, 3.40000005e-03,\n",
       "       3.60000005e-04, 3.99999990e-05])"
      ]
     },
     "execution_count": 138,
     "metadata": {},
     "output_type": "execute_result"
    }
   ],
   "source": [
    "data_hist_0_edges, data_hist_0 = return_data_hist(hist_name='d05-x01-y01')\n",
    "data_hist_0"
   ]
  },
  {
   "cell_type": "code",
   "execution_count": 127,
   "id": "cbc6f3ac-7212-4636-9d8f-0520313a7935",
   "metadata": {},
   "outputs": [
    {
     "data": {
      "text/plain": [
       "array([0.0025    , 0.0075    , 0.0125    , 0.0175    , 0.0225    ,\n",
       "       0.0275    , 0.0325    , 0.0375    , 0.045     , 0.055     ,\n",
       "       0.07      , 0.09      , 0.11      , 0.14      , 0.18000001,\n",
       "       0.22499999, 0.27500001, 0.32499999, 0.375     , 0.44999999,\n",
       "       0.55000001, 0.64999998, 0.75      ])"
      ]
     },
     "execution_count": 127,
     "metadata": {},
     "output_type": "execute_result"
    }
   ],
   "source": [
    "data_hist_0_edges"
   ]
  },
  {
   "cell_type": "code",
   "execution_count": 139,
   "id": "b90e5f38-e749-4d59-ba21-cb6ba8feeee7",
   "metadata": {},
   "outputs": [
    {
     "data": {
      "text/plain": [
       "array([3.500e-03, 3.040e-02, 6.380e-02, 8.380e-02, 1.199e-01, 1.384e-01,\n",
       "       1.648e-01, 1.703e-01, 1.555e-01, 5.320e-02, 1.430e-02, 1.600e-03,\n",
       "       4.000e-04, 1.000e-04])"
      ]
     },
     "execution_count": 139,
     "metadata": {},
     "output_type": "execute_result"
    }
   ],
   "source": [
    "simulation_hist_0 = return_simulation_hist(hist_name='d05-x01-y01')\n",
    "simulation_hist_0"
   ]
  },
  {
   "cell_type": "code",
   "execution_count": 141,
   "id": "d5745a76-bcd2-4e70-bbd1-ddce79a2e0f2",
   "metadata": {},
   "outputs": [
    {
     "data": {
      "text/plain": [
       "<matplotlib.legend.Legend at 0x7efd3a1d0210>"
      ]
     },
     "execution_count": 141,
     "metadata": {},
     "output_type": "execute_result"
    },
    {
     "data": {
      "image/png": "[encoded data removed]",
      "text/plain": [
       "<Figure size 432x288 with 1 Axes>"
      ]
     },
     "metadata": {
      "needs_background": "light"
     },
     "output_type": "display_data"
    }
   ],
   "source": [
    "plt.step(y=data_hist_0, x= data_hist_0_edges, label='data d05-x01-y01')\n",
    "plt.step(y=simulation_hist_0, x=data_hist_0_edges, label='simulation d05-x01-y01')\n",
    "plt.legend()"
   ]
  },
  {
   "cell_type": "code",
   "execution_count": 91,
   "id": "762429e2-80b6-4fbe-aae9-0eb541b78e91",
   "metadata": {},
   "outputs": [],
   "source": [
    "def chi2(data_hist, sim_hist):\n",
    "    assert len(data_hist) == len(sim_hist)\n",
    "    num = (data_hist - sim_hist)**2\n",
    "    den = data_hist + 1E-20\n",
    "    return np.sum(num/den)\n"
   ]
  },
  {
   "cell_type": "code",
   "execution_count": 146,
   "id": "41a821d5-e3a8-42d3-b006-6b0a095bcfb3",
   "metadata": {},
   "outputs": [],
   "source": [
    "def overall_chi2(sim_root_file='ALEPH_1996_S3486095_card_0.root'):\n",
    "    \"\"\" over all histograms\"\"\"\n",
    "    hist_names=[]\n",
    "    for i in range(1,44):\n",
    "        hist_names.append('d{:02d}-x01-y01'.format(i) )\n",
    "    hist_names.remove('d13-x01-y01')\n",
    "    hist_names.remove('d14-x01-y01')\n",
    "    hist_names.remove('d15-x01-y01')\n",
    "    hist_names.remove('d16-x01-y01')\n",
    "    hist_names.remove('d24-x01-y01')\n",
    "    hist_names=hist_names[:5]\n",
    "    \n",
    "    overall_chi2 = 0\n",
    "    for hist_name in hist_names:\n",
    "        data_hist_edges, data_hist = return_data_hist(hist_name=hist_name)\n",
    "        simulation_hist = return_simulation_hist(filename =sim_root_file , hist_name=hist_name)\n",
    "        chi2_ = chi2(data_hist,simulation_hist)\n",
    "        overall_chi2 += chi2_\n",
    "        \n",
    "    return overall_chi2"
   ]
  },
  {
   "cell_type": "code",
   "execution_count": 147,
   "id": "47e03b3f-5395-4cb4-9d5c-c231844f4b6c",
   "metadata": {},
   "outputs": [
    {
     "data": {
      "text/plain": [
       "0.11452281895412281"
      ]
     },
     "execution_count": 147,
     "metadata": {},
     "output_type": "execute_result"
    }
   ],
   "source": [
    "chi2(data_hist_0, simulation_hist_0)"
   ]
  },
  {
   "cell_type": "code",
   "execution_count": 148,
   "id": "1f765d98-8961-451a-a720-86cdbfd5aee6",
   "metadata": {},
   "outputs": [
    {
     "data": {
      "text/plain": [
       "632.6065238632032"
      ]
     },
     "execution_count": 148,
     "metadata": {},
     "output_type": "execute_result"
    }
   ],
   "source": [
    "overall_chi2()"
   ]
  },
  {
   "cell_type": "code",
   "execution_count": null,
   "id": "145c72af-61bd-421e-ad15-422ee5673020",
   "metadata": {},
   "outputs": [],
   "source": []
  }
 ],
 "metadata": {
  "kernelspec": {
   "display_name": "Python 3",
   "language": "python",
   "name": "python3"
  },
  "language_info": {
   "codemirror_mode": {
    "name": "ipython",
    "version": 3
   },
   "file_extension": ".py",
   "mimetype": "text/x-python",
   "name": "python",
   "nbconvert_exporter": "python",
   "pygments_lexer": "ipython3",
   "version": "3.7.10"
  }
 },
 "nbformat": 4,
 "nbformat_minor": 5
}
