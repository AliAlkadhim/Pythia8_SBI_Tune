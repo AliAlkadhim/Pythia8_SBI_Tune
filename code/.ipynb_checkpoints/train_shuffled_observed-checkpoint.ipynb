{
 "cells": [
  {
   "cell_type": "code",
   "execution_count": 1,
   "id": "664de24a-6c82-4722-ba4f-521d8e1708d1",
   "metadata": {},
   "outputs": [],
   "source": [
    "import os\n",
    "import numpy as np\n",
    "import matplotlib.pyplot as plt\n",
    "import pandas as pd\n",
    "plt.rcParams['text.usetex'] = True\n",
    "import scipy as sp; import scipy.stats as st\n",
    "import torch; import torch.nn as nn\n",
    "#use numba's just-in-time compiler to speed things up\n",
    "from numba import njit\n",
    "from sklearn.preprocessing import StandardScaler; from sklearn.model_selection import train_test_split\n"
   ]
  },
  {
   "cell_type": "code",
   "execution_count": 2,
   "id": "31815d4d-6619-4c1f-923d-e64ca47398d5",
   "metadata": {},
   "outputs": [],
   "source": [
    "def split_t_x(df, target, source):\n",
    "    # change from pandas dataframe format to a numpy \n",
    "    # array of the specified types\n",
    "    t = np.array(df[target])\n",
    "    x = np.array(df[source])\n",
    "    return t, x\n",
    "\n",
    "def get_batch(x, batch_size):\n",
    "    # the numpy function choice(length, number)\n",
    "    # selects at random \"batch_size\" integers from \n",
    "    # the range [0, length-1] corresponding to the\n",
    "    # row indices.\n",
    "    rows    = np.random.choice(len(x), batch_size)\n",
    "    batch_x = x[rows]\n",
    "    # batch_x.T[-1] = np.random.uniform(0, 1, batch_size)\n",
    "    return batch_x"
   ]
  },
  {
   "cell_type": "code",
   "execution_count": 103,
   "id": "d5e337af-4093-4406-be94-a1595664b175",
   "metadata": {},
   "outputs": [
    {
     "data": {
      "text/html": [
       "<div>\n",
       "<style scoped>\n",
       "    .dataframe tbody tr th:only-of-type {\n",
       "        vertical-align: middle;\n",
       "    }\n",
       "\n",
       "    .dataframe tbody tr th {\n",
       "        vertical-align: top;\n",
       "    }\n",
       "\n",
       "    .dataframe thead th {\n",
       "        text-align: right;\n",
       "    }\n",
       "</style>\n",
       "<table border=\"1\" class=\"dataframe\">\n",
       "  <thead>\n",
       "    <tr style=\"text-align: right;\">\n",
       "      <th></th>\n",
       "      <th>Unnamed: 0</th>\n",
       "      <th>a</th>\n",
       "      <th>b</th>\n",
       "      <th>chi2_shuffled</th>\n",
       "      <th>chi2_observed</th>\n",
       "      <th>chi2_point_0</th>\n",
       "      <th>Z_shuffled_observed</th>\n",
       "      <th>Z_shuffled_point0</th>\n",
       "    </tr>\n",
       "  </thead>\n",
       "  <tbody>\n",
       "    <tr>\n",
       "      <th>0</th>\n",
       "      <td>0</td>\n",
       "      <td>0.890731</td>\n",
       "      <td>1.773921</td>\n",
       "      <td>44.148846</td>\n",
       "      <td>44.243912</td>\n",
       "      <td>0.000000</td>\n",
       "      <td>1.0</td>\n",
       "      <td>0.0</td>\n",
       "    </tr>\n",
       "    <tr>\n",
       "      <th>1</th>\n",
       "      <td>1</td>\n",
       "      <td>1.306220</td>\n",
       "      <td>1.490305</td>\n",
       "      <td>452.662911</td>\n",
       "      <td>169.498032</td>\n",
       "      <td>383.014353</td>\n",
       "      <td>0.0</td>\n",
       "      <td>0.0</td>\n",
       "    </tr>\n",
       "    <tr>\n",
       "      <th>2</th>\n",
       "      <td>2</td>\n",
       "      <td>1.653587</td>\n",
       "      <td>0.538929</td>\n",
       "      <td>42.495750</td>\n",
       "      <td>543.161327</td>\n",
       "      <td>795.553892</td>\n",
       "      <td>1.0</td>\n",
       "      <td>1.0</td>\n",
       "    </tr>\n",
       "    <tr>\n",
       "      <th>3</th>\n",
       "      <td>3</td>\n",
       "      <td>0.666805</td>\n",
       "      <td>1.375998</td>\n",
       "      <td>169.677849</td>\n",
       "      <td>236.745043</td>\n",
       "      <td>342.754111</td>\n",
       "      <td>1.0</td>\n",
       "      <td>1.0</td>\n",
       "    </tr>\n",
       "    <tr>\n",
       "      <th>4</th>\n",
       "      <td>4</td>\n",
       "      <td>1.105232</td>\n",
       "      <td>1.243956</td>\n",
       "      <td>93.226767</td>\n",
       "      <td>165.107046</td>\n",
       "      <td>411.137948</td>\n",
       "      <td>1.0</td>\n",
       "      <td>1.0</td>\n",
       "    </tr>\n",
       "  </tbody>\n",
       "</table>\n",
       "</div>"
      ],
      "text/plain": [
       "   Unnamed: 0         a         b  chi2_shuffled  chi2_observed  chi2_point_0  \\\n",
       "0           0  0.890731  1.773921      44.148846      44.243912      0.000000   \n",
       "1           1  1.306220  1.490305     452.662911     169.498032    383.014353   \n",
       "2           2  1.653587  0.538929      42.495750     543.161327    795.553892   \n",
       "3           3  0.666805  1.375998     169.677849     236.745043    342.754111   \n",
       "4           4  1.105232  1.243956      93.226767     165.107046    411.137948   \n",
       "\n",
       "   Z_shuffled_observed  Z_shuffled_point0  \n",
       "0                  1.0                0.0  \n",
       "1                  0.0                0.0  \n",
       "2                  1.0                1.0  \n",
       "3                  1.0                1.0  \n",
       "4                  1.0                1.0  "
      ]
     },
     "execution_count": 103,
     "metadata": {},
     "output_type": "execute_result"
    }
   ],
   "source": [
    "# cols=['a', 'b', 'chi2_shuffled', 'chi2_observed','Z_shuffled_observed']\n",
    "df = pd.read_csv('a_b_chi2observed_chi2shuffled_Z_shuffled_observed_Z_shuffled_point0_1000.csv')#[cols]\n",
    "df.head()"
   ]
  },
  {
   "cell_type": "code",
   "execution_count": 104,
   "id": "6ba412aa-1a38-4140-9027-8b6fe397e144",
   "metadata": {},
   "outputs": [
    {
     "data": {
      "text/html": [
       "<div>\n",
       "<style scoped>\n",
       "    .dataframe tbody tr th:only-of-type {\n",
       "        vertical-align: middle;\n",
       "    }\n",
       "\n",
       "    .dataframe tbody tr th {\n",
       "        vertical-align: top;\n",
       "    }\n",
       "\n",
       "    .dataframe thead th {\n",
       "        text-align: right;\n",
       "    }\n",
       "</style>\n",
       "<table border=\"1\" class=\"dataframe\">\n",
       "  <thead>\n",
       "    <tr style=\"text-align: right;\">\n",
       "      <th></th>\n",
       "      <th>Unnamed: 0</th>\n",
       "      <th>a</th>\n",
       "      <th>b</th>\n",
       "      <th>chi2_shuffled</th>\n",
       "      <th>chi2_observed</th>\n",
       "      <th>chi2_point_0</th>\n",
       "      <th>Z_shuffled_observed</th>\n",
       "      <th>Z_shuffled_point0</th>\n",
       "    </tr>\n",
       "  </thead>\n",
       "  <tbody>\n",
       "    <tr>\n",
       "      <th>count</th>\n",
       "      <td>1000.000000</td>\n",
       "      <td>1000.000000</td>\n",
       "      <td>1000.000000</td>\n",
       "      <td>1000.000000</td>\n",
       "      <td>1000.000000</td>\n",
       "      <td>1000.000000</td>\n",
       "      <td>1000.000000</td>\n",
       "      <td>1000.000000</td>\n",
       "    </tr>\n",
       "    <tr>\n",
       "      <th>mean</th>\n",
       "      <td>499.500000</td>\n",
       "      <td>0.990061</td>\n",
       "      <td>1.093910</td>\n",
       "      <td>338.928240</td>\n",
       "      <td>311.278475</td>\n",
       "      <td>490.972263</td>\n",
       "      <td>0.497000</td>\n",
       "      <td>0.769000</td>\n",
       "    </tr>\n",
       "    <tr>\n",
       "      <th>std</th>\n",
       "      <td>288.819436</td>\n",
       "      <td>0.572408</td>\n",
       "      <td>0.513808</td>\n",
       "      <td>245.832804</td>\n",
       "      <td>160.524892</td>\n",
       "      <td>184.109089</td>\n",
       "      <td>0.500241</td>\n",
       "      <td>0.421683</td>\n",
       "    </tr>\n",
       "    <tr>\n",
       "      <th>min</th>\n",
       "      <td>0.000000</td>\n",
       "      <td>0.001196</td>\n",
       "      <td>0.200896</td>\n",
       "      <td>0.000000</td>\n",
       "      <td>44.243912</td>\n",
       "      <td>0.000000</td>\n",
       "      <td>0.000000</td>\n",
       "      <td>0.000000</td>\n",
       "    </tr>\n",
       "    <tr>\n",
       "      <th>25%</th>\n",
       "      <td>249.750000</td>\n",
       "      <td>0.511282</td>\n",
       "      <td>0.654855</td>\n",
       "      <td>142.222506</td>\n",
       "      <td>189.455125</td>\n",
       "      <td>361.471970</td>\n",
       "      <td>0.000000</td>\n",
       "      <td>1.000000</td>\n",
       "    </tr>\n",
       "    <tr>\n",
       "      <th>50%</th>\n",
       "      <td>499.500000</td>\n",
       "      <td>0.984827</td>\n",
       "      <td>1.089722</td>\n",
       "      <td>276.303389</td>\n",
       "      <td>250.785557</td>\n",
       "      <td>419.249029</td>\n",
       "      <td>0.000000</td>\n",
       "      <td>1.000000</td>\n",
       "    </tr>\n",
       "    <tr>\n",
       "      <th>75%</th>\n",
       "      <td>749.250000</td>\n",
       "      <td>1.500206</td>\n",
       "      <td>1.521528</td>\n",
       "      <td>482.607825</td>\n",
       "      <td>384.414735</td>\n",
       "      <td>547.076538</td>\n",
       "      <td>1.000000</td>\n",
       "      <td>1.000000</td>\n",
       "    </tr>\n",
       "    <tr>\n",
       "      <th>max</th>\n",
       "      <td>999.000000</td>\n",
       "      <td>1.999527</td>\n",
       "      <td>1.997974</td>\n",
       "      <td>1317.213927</td>\n",
       "      <td>1001.988784</td>\n",
       "      <td>1236.350505</td>\n",
       "      <td>1.000000</td>\n",
       "      <td>1.000000</td>\n",
       "    </tr>\n",
       "  </tbody>\n",
       "</table>\n",
       "</div>"
      ],
      "text/plain": [
       "        Unnamed: 0            a            b  chi2_shuffled  chi2_observed  \\\n",
       "count  1000.000000  1000.000000  1000.000000    1000.000000    1000.000000   \n",
       "mean    499.500000     0.990061     1.093910     338.928240     311.278475   \n",
       "std     288.819436     0.572408     0.513808     245.832804     160.524892   \n",
       "min       0.000000     0.001196     0.200896       0.000000      44.243912   \n",
       "25%     249.750000     0.511282     0.654855     142.222506     189.455125   \n",
       "50%     499.500000     0.984827     1.089722     276.303389     250.785557   \n",
       "75%     749.250000     1.500206     1.521528     482.607825     384.414735   \n",
       "max     999.000000     1.999527     1.997974    1317.213927    1001.988784   \n",
       "\n",
       "       chi2_point_0  Z_shuffled_observed  Z_shuffled_point0  \n",
       "count   1000.000000          1000.000000        1000.000000  \n",
       "mean     490.972263             0.497000           0.769000  \n",
       "std      184.109089             0.500241           0.421683  \n",
       "min        0.000000             0.000000           0.000000  \n",
       "25%      361.471970             0.000000           1.000000  \n",
       "50%      419.249029             0.000000           1.000000  \n",
       "75%      547.076538             1.000000           1.000000  \n",
       "max     1236.350505             1.000000           1.000000  "
      ]
     },
     "execution_count": 104,
     "metadata": {},
     "output_type": "execute_result"
    }
   ],
   "source": [
    "df.describe()"
   ]
  },
  {
   "cell_type": "code",
   "execution_count": 105,
   "id": "420dacd7-d29e-4834-9ce3-ba03224763f0",
   "metadata": {},
   "outputs": [
    {
     "data": {
      "text/plain": [
       "<matplotlib.legend.Legend at 0x7f32ef1d26d0>"
      ]
     },
     "execution_count": 105,
     "metadata": {},
     "output_type": "execute_result"
    },
    {
     "data": {
      "image/png": "[encoded data removed]",
      "text/plain": [
       "<Figure size 432x288 with 1 Axes>"
      ]
     },
     "metadata": {
      "needs_background": "light"
     },
     "output_type": "display_data"
    }
   ],
   "source": [
    "plt.hist(df['a'], label='a')\n",
    "plt.hist(df['b'], label='b')\n",
    "plt.legend()"
   ]
  },
  {
   "cell_type": "code",
   "execution_count": 116,
   "id": "8bb32092-edc3-4b9b-9249-c70a2ef48995",
   "metadata": {},
   "outputs": [],
   "source": [
    "def p_val_hist_ab(df, nbins_a, nbins_b):\n",
    "    a = df['a']\n",
    "    b = df['b']\n",
    "    Z = df['Z_shuffled_observed']\n",
    "    a_range=(a.min(), a.max())\n",
    "    b_range=(b.min(), b.max())\n",
    "    \n",
    "    y_a_b_w, a_edges, b_edges = np.histogram2d(a, b, bins=(nbins_a, nbins_b), range=(a_range, b_range), weights= Z)\n",
    "    y_a_b_uw, a_edges, b_edges = np.histogram2d(a, b, bins=(nbins_a, nbins_b), range=(a_range, b_range))\n",
    "    eps=1e-15\n",
    "    P_a_b = y_a_b_w/(y_a_b_uw + eps)\n",
    "    \n",
    "    return P_a_b, a_edges, b_edges"
   ]
  },
  {
   "cell_type": "code",
   "execution_count": 125,
   "id": "7f0c3945-946a-495e-880c-b3717d443130",
   "metadata": {},
   "outputs": [],
   "source": [
    "def make_binned_X(X_min, X_max, Nbins):\n",
    "    X_step = (X_max-X_min) / Nbins\n",
    "    bins = np.arange(X_min, X_max+X_step, X_step)\n",
    "    bin_centers = (bins[1:] + bins[:-1])/2\n",
    "    return np.array(bin_centers)\n",
    "\n",
    "def bin_centers(edges):\n",
    "    return (edges[1:] + edges[:-1])/2\n",
    "\n",
    "def plot_p_val_hist_ab(df, ax, fig, nbins_a, nbins_b, save_plot=False):\n",
    "    a = df['a']\n",
    "    b = df['b']\n",
    "    \n",
    "    Z = df['Z_shuffled_point0']\n",
    "    \n",
    "    amin, amax = a.min(), a.max()\n",
    "    bmin, bmax = b.min(), b.max()\n",
    "    a_range=(amin, amax)\n",
    "    b_range=(bmin, bmax)\n",
    "    \n",
    "    y_a_b_w, a_edges, b_edges = np.histogram2d(a, b, bins=(nbins_a, nbins_b), range=(a_range, b_range), weights= Z)\n",
    "    y_a_b_uw, a_edges, b_edges = np.histogram2d(a, b, bins=(nbins_a, nbins_b), range=(a_range, b_range))\n",
    "    eps=1e-15\n",
    "    P_a_b = y_a_b_w/(y_a_b_uw + eps)\n",
    "    \n",
    "    print('ratio', P_a_b)\n",
    "    \n",
    "    # ax.hist2d(a, b, bins=(5,5), range= (a_range, b_range), weights = P_a_b, cmap='rainbow')\n",
    "    \n",
    "    # P_a_b, a_edges, b_edges =p_val_hist_ab(df)\n",
    "    bin_centers_a = bin_centers(a_edges)\n",
    "    bin_centers_b = bin_centers(b_edges)\n",
    "    \n",
    "    A, B = np.meshgrid(bin_centers_a, bin_centers_b)\n",
    "    a_flat, b_flat = A.flatten(), B.flatten()\n",
    "    \n",
    "    print('shape of a_flat', a_flat.shape)\n",
    "    print('shape of b_flat', b_flat.shape)\n",
    "    P_a_b = P_a_b.T\n",
    "    P_a_b = P_a_b.flatten()\n",
    "    _, _, _, colorbar = ax.hist2d(a_flat, b_flat, bins=(nbins_a,nbins_b), range= (a_range, b_range), cmap='rainbow', weights = P_a_b)\n",
    "    fig.colorbar(colorbar)\n",
    "    ax.scatter(0.8907313813100579,1.7739212819523444, marker='X', color='black', s=54)\n",
    "    ax.text(1,1.77, r'$\\theta_0$', fontsize=25)\n",
    "    P_a_b= P_a_b.reshape(A.shape)\n",
    "    \n",
    "    CLs=np.array([0.683,0.80, 0.90,0.95])\n",
    "    \n",
    "    \n",
    "#     ax.contour(A, B, P_a_b, extent= (amin, amax, bmin, bmax), levels = CLs, linewidths = 2, \n",
    "#                                        cmap='rainbow', \n",
    "#                                         label='histogram approx',\n",
    "#                                          linestyles='dashed'\n",
    "#               )\n",
    "    \n",
    "    ax.grid()\n",
    "    ax.set_xlabel(r'$a$',fontsize=20); ax.set_ylabel(r'$b$',fontsize=20)\n",
    "    ax.set_xlim(amin, amax)\n",
    "    ax.set_ylim(bmin, bmax)\n",
    "    return P_a_b, xedges, yedges"
   ]
  },
  {
   "cell_type": "code",
   "execution_count": 128,
   "id": "bb5deeb2-16e5-441b-928b-de541d6e275a",
   "metadata": {},
   "outputs": [
    {
     "name": "stdout",
     "output_type": "stream",
     "text": [
      "ratio [[0.69230769 0.66666667 0.77777778 0.72727273 0.16666667 0.44444444\n",
      "  0.54545455 0.30769231 0.5        0.4       ]\n",
      " [0.66666667 0.875      0.8125     0.9375     0.44444444 0.5\n",
      "  0.85714286 0.55555556 0.66666667 0.5       ]\n",
      " [0.66666667 0.93333333 0.83333333 0.9        0.8        0.66666667\n",
      "  0.77777778 0.66666667 0.66666667 0.54545455]\n",
      " [0.66666667 1.         0.7        0.66666667 0.8        1.\n",
      "  0.94444444 0.75       0.42857143 0.44444444]\n",
      " [0.63636364 1.         0.85714286 0.875      1.         0.8\n",
      "  0.77777778 0.66666667 0.75       0.66666667]\n",
      " [0.8        0.85714286 1.         0.66666667 0.91666667 0.78571429\n",
      "  0.66666667 0.625      0.77777778 0.75      ]\n",
      " [1.         0.94444444 0.83333333 0.9        0.9        0.90909091\n",
      "  0.875      0.77777778 0.75       0.75      ]\n",
      " [0.92857143 1.         1.         0.88888889 0.8        0.76470588\n",
      "  0.875      0.9        0.875      0.7       ]\n",
      " [0.90909091 0.8125     0.84615385 0.72727273 1.         1.\n",
      "  0.375      0.9        0.86666667 0.875     ]\n",
      " [0.83333333 0.75       0.875      1.         0.71428571 0.875\n",
      "  0.77777778 1.         0.83333333 0.75      ]]\n",
      "shape of a_flat (100,)\n",
      "shape of b_flat (100,)\n"
     ]
    },
    {
     "data": {
      "image/png": "[encoded data removed]",
      "text/plain": [
       "<Figure size 1440x1440 with 2 Axes>"
      ]
     },
     "metadata": {
      "needs_background": "light"
     },
     "output_type": "display_data"
    }
   ],
   "source": [
    "figwidth_by_height_ratio=1.33\n",
    "height=20\n",
    "width=figwidth_by_height_ratio*height\n",
    "width=20\n",
    "fig,ax = plt.subplots(1,1,\n",
    "                      figsize=(width,height),\n",
    "                     )\n",
    "\n",
    "ratio, xedges, yedges = plot_p_val_hist_ab(df, ax, fig, nbins_a=10, nbins_b=10, save_plot=False)\n"
   ]
  },
  {
   "cell_type": "code",
   "execution_count": 74,
   "id": "55591aad-e33f-48a5-b4d4-206f32e60b03",
   "metadata": {},
   "outputs": [
    {
     "data": {
      "text/plain": [
       "(array([[0., 0., 0., 1., 0., 2., 2., 0., 0., 0.],\n",
       "        [0., 0., 0., 2., 1., 1., 0., 1., 0., 0.],\n",
       "        [1., 0., 0., 1., 0., 1., 1., 1., 0., 0.],\n",
       "        [0., 0., 2., 1., 0., 0., 0., 1., 1., 0.],\n",
       "        [0., 0., 1., 1., 1., 0., 1., 0., 0., 1.]]),\n",
       " array([0.3030303 , 0.3450677 , 0.38710509, 0.42914249, 0.47117988,\n",
       "        0.51321728, 0.55525467, 0.59729207, 0.63932946, 0.68136686,\n",
       "        0.72340426]),\n",
       " <a list of 5 BarContainer objects>)"
      ]
     },
     "execution_count": 74,
     "metadata": {},
     "output_type": "execute_result"
    },
    {
     "data": {
      "image/png": "[encoded data removed]",
      "text/plain": [
       "<Figure size 432x288 with 1 Axes>"
      ]
     },
     "metadata": {
      "needs_background": "light"
     },
     "output_type": "display_data"
    }
   ],
   "source": [
    "plt.hist(ratio)"
   ]
  },
  {
   "cell_type": "code",
   "execution_count": 44,
   "id": "3656ab57-f484-4796-9575-12ab7aa6f96a",
   "metadata": {},
   "outputs": [
    {
     "name": "stdout",
     "output_type": "stream",
     "text": [
      "[[1. 1. 1. 1. 1.]\n",
      " [1. 1. 1. 1. 1.]\n",
      " [1. 1. 1. 1. 1.]\n",
      " [1. 1. 1. 1. 1.]\n",
      " [1. 1. 1. 1. 1.]]\n"
     ]
    }
   ],
   "source": [
    "print(h)"
   ]
  },
  {
   "cell_type": "code",
   "execution_count": null,
   "id": "c5fc2772-e58c-48ed-b76b-0998f6878df8",
   "metadata": {},
   "outputs": [],
   "source": []
  }
 ],
 "metadata": {
  "kernelspec": {
   "display_name": "Python 3",
   "language": "python",
   "name": "python3"
  },
  "language_info": {
   "codemirror_mode": {
    "name": "ipython",
    "version": 3
   },
   "file_extension": ".py",
   "mimetype": "text/x-python",
   "name": "python",
   "nbconvert_exporter": "python",
   "pygments_lexer": "ipython3",
   "version": "3.7.10"
  }
 },
 "nbformat": 4,
 "nbformat_minor": 5
}
