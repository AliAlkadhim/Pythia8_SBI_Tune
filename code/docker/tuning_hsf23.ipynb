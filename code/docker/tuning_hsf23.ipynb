{
 "cells": [
  {
   "cell_type": "markdown",
   "metadata": {},
   "source": [
    "![Pythia logo.](figures/pythiapicture.png)\n",
    "# Pythia 8.3 Tuning Worksheet\n",
    "\n",
    "This worksheet is largely based on the [Monash Tune paper](https://arxiv.org/pdf/1404.5630.pdf), and in many places, the text is copied verbatim from this paper. The [Monash Tune paper](https://arxiv.org/pdf/1404.5630.pdf) paper was written by:\n",
    "- Peter Skands (School of Physics, Monash University)\n",
    "- Stefano Carrazza (Dipartimento di Fisica, Università degli Studi di Milano)\n",
    "- Juan Rojo (Department of Physics and Astronomy, Vrije University)\n",
    "\n",
    "The technical aspects of this worksheet were written by:\n",
    "\n",
    "- Philip Ilten (School of Physics, University of Cincinnati)\n",
    "\n",
    "Any errors introduced during the technical translation from the Monash Tune paper are entirely the fault of Philip Ilten, and not the Monash Tune paper authors. This tutorial was in part supported by NSF OAC-2103889.\n",
    "$\\renewcommand{\\gtrsim}{\\raisebox{-2mm}{\\hspace{1mm}$\\stackrel{>}{\\sim}$\\hspace{1mm}}}\\renewcommand{\\lessim}{\\raisebox{-2mm}{\\hspace{1mm}$\\stackrel{<}{\\sim}$\\hspace{1mm}}}\\renewcommand{\\as}{\\alpha_{\\mathrm{s}}}\\renewcommand{\\aem}{\\alpha_{\\mathrm{em}}}\\renewcommand{\\kT}{k_{\\perp}}\\renewcommand{\\pT}{p_{\\perp}}\\renewcommand{\\pTs}{p^2_{\\perp}}\\renewcommand{\\pTe}{\\p_{\\perp\\mathrm{evol}}}\\renewcommand{\\pTse}{\\p^2_{\\perp\\mathrm{evol}}}\\renewcommand{\\pTmin}{p_{\\perp\\mathrm{min}}}\\renewcommand{\\pTsmim}{p^2_{\\perp\\mathrm{min}}}\\renewcommand{\\pTmax}{p_{\\perp\\mathrm{max}}}\\renewcommand{\\pTsmax}{p^2_{\\perp\\mathrm{max}}}\\renewcommand{\\pTL}{p_{\\perp\\mathrm{L}}}\\renewcommand{\\pTD}{p_{\\perp\\mathrm{D}}}\\renewcommand{\\pTA}{p_{\\perp\\mathrm{A}}}\\renewcommand{\\pTsL}{p^2_{\\perp\\mathrm{L}}}\\renewcommand{\\pTsD}{p^2_{\\perp\\mathrm{D}}}\\renewcommand{\\pTsA}{p^2_{\\perp\\mathrm{A}}}\\renewcommand{\\pTo}{p_{\\perp 0}}\\renewcommand{\\shat}{\\hat{s}}\\renewcommand{\\a}{{\\mathrm a}}\\renewcommand{\\b}{{\\mathrm b}}\\renewcommand{\\c}{{\\mathrm c}}\\renewcommand{\\d}{{\\mathrm d}}\\renewcommand{\\e}{{\\mathrm e}}\\renewcommand{\\f}{{\\mathrm f}}\\renewcommand{\\g}{{\\mathrm g}}\\renewcommand{\\hrm}{{\\mathrm h}}\\renewcommand{\\lrm}{{\\mathrm l}}\\renewcommand{\\n}{{\\mathrm n}}\\renewcommand{\\p}{{\\mathrm p}}\\renewcommand{\\q}{{\\mathrm q}}\\renewcommand{\\s}{{\\mathrm s}}\\renewcommand{\\t}{{\\mathrm t}}\\renewcommand{\\u}{{\\mathrm u}}\\renewcommand{\\A}{{\\mathrm A}}\\renewcommand{\\B}{{\\mathrm B}}\\renewcommand{\\D}{{\\mathrm D}}\\renewcommand{\\F}{{\\mathrm F}}\\renewcommand{\\H}{{\\mathrm H}}\\renewcommand{\\J}{{\\mathrm J}}\\renewcommand{\\K}{{\\mathrm K}}\\renewcommand{\\L}{{\\mathrm L}}\\renewcommand{\\Q}{{\\mathrm Q}}\\renewcommand{\\R}{{\\mathrm R}}\\renewcommand{\\T}{{\\mathrm T}}\\renewcommand{\\W}{{\\mathrm W}}\\renewcommand{\\Z}{{\\mathrm Z}}\\renewcommand{\\bbar}{\\overline{\\mathrm b}}\\renewcommand{\\cbar}{\\overline{\\mathrm c}}\\renewcommand{\\dbar}{\\overline{\\mathrm d}}\\renewcommand{\\fbar}{\\overline{\\mathrm f}}\\renewcommand{\\pbar}{\\overline{\\mathrm p}}\\renewcommand{\\qbar}{\\overline{\\mathrm q}}\\renewcommand{\\rbar}{\\overline{\\mathrm{r}}}\\renewcommand{\\sbar}{\\overline{\\mathrm s}}\\renewcommand{\\tbar}{\\overline{\\mathrm t}}\\renewcommand{\\ubar}{\\overline{\\mathrm u}}\\renewcommand{\\Bbar}{\\overline{\\mathrm B}}\\renewcommand{\\Fbar}{\\overline{\\mathrm F}}\\renewcommand{\\Qbar}{\\overline{\\mathrm Q}}\\renewcommand{\\tms}{{t_{\\mathrm{\\tiny MS}}}}\\renewcommand{\\Oas}[1]{{\\mathcal{O}\\left(\\as^{#1}\\right)}}$"
   ]
  },
  {
   "cell_type": "markdown",
   "metadata": {},
   "source": [
    "## Introduction\n",
    "\n",
    "This tutorial is intended specifically to explore some of the aspects of tuning Pythia. For users who are new to Pythia, please first work through the *A \"Hello World\" Program* and *A first realistic analysis* examples of the [Pythia 8.3 Python Worksheet](worksheet8309.ipynb). The appendices can also be useful for users not familiar with some of the technical features of Pythia. [Appendix: The Event Record](worksheet8309.ipynb#eventRecord) contains a brief summary of the event-record structure and [Appendix: Some Facilities](worksheet8309.ipynb#someFacilities) describes the use of some built-in functionality for [Histograms](worksheet8309.ipynb#histograms) and [Jet finding](worksheet8309.ipynb#jetFinding). In this tutorial a focus is given to generating and exploring distributions that are sensitive to Pythia parameters, and is based on the structure of the [Monash Tune paper](https://arxiv.org/pdf/1404.5630.pdf), including text.\n",
    "\n",
    "For practical usage of Pythia, the [Pythia 8.3 HTML manual](https://pythia.org/manuals/pythia8309/Welcome.html) provides full documentation on running and configuring Pythia. A local version of this manual can be accessed by opening `htmldoc/Welcome.html` in a browser. A [Pythia 8.3 Doxygen manual](https://pythia.org/doxygen/pythia8309) is also available, although the HTML manual should always be used as the primary documentation."
   ]
  },
  {
   "cell_type": "markdown",
   "metadata": {},
   "source": [
    "<a id='fsr'></a>\n",
    "## Final-State Radiation\n",
    "\n",
    "The main parameter governing final-state radiation is the effective value of the strong coupling, which in Pythia is specified by giving the value of $\\as(M_\\Z)$. In the Monash tune, a set of light-flavour ($\\u\\d\\s\\c$) tagged $\\e^+\\e^-$ event shapes measured by the L3 experiment were used to extract a best-fit value for $\\as(M_\\Z)$. This prevents $\\B$ decays from contaminating this step of the analysis. Heavy-quark fragmentation is treated separately. The renormalization scale for final-state shower emissions in Pythia is fixed to be:\n",
    "\n",
    "$$\\mu_R^2 = \\pTse = z(1-z)Q^2$$\n",
    "\n",
    "with $Q^2 = p^2 - m_0^2$ the offshellness of the emitting parton (with on-shell mass $m_0$), and $z$ the energy fraction appearing in the DGLAP splitting kernels, $P(z)$. To estimate the shower uncertainties associated with this choice of renormalization scale, the Monash authors recommend using $\\ln(\\mu_R^2) \\pm \\ln(2)$, corresponding to a factor $\\sqrt{2}$ variation of $\\mu_R$.\n",
    "\n",
    "For the infrared shower cutoff, the Monash tune authors chose a value close to $\\Lambda_\\mathrm{QCD}$, in order to have a smooth transition between low-$\\pT$ perturbative emissions and non-perturbative string breaks, the latter of which involve $\\pT$ kicks of order $\\Lambda_\\mathrm{QCD}$. In principle, the perturbative evolution could be continued to even lower scales, if combined with a non-perturbative regularization of $\\as$, but such low cutoff values could risk generating problems at the fragmentation stage since the technical implementation of the string model becomes complicated if there are too many small gluon \"kinks\" spaced closely along the strings. The Monash tune sets the following relevant parameters:\n",
    "```\n",
    "# FSR: Strong Coupling\n",
    "TimeShower:alphaSvalue = 0.1365\n",
    "TimeShower:alphaSorder = 1\n",
    "TimeShower:alphaSuseCMW = off\n",
    "# FSR: IR cutoff\n",
    "TimeShower:pTmin = 0.50     ! for QCD radiation\n",
    "TimeShower:pTminChgQ = 0.50 ! for QED radiation off quarks\n",
    "# FSR: Spin Correlations\n",
    "TimeShower:phiPolAsym = on  ! approximate FSR polarization effects\n",
    "```"
   ]
  },
  {
   "cell_type": "markdown",
   "metadata": {},
   "source": [
    "In the following code, we can explore these parameters, and how they change the thrust event-shape variable. Namely, we focus on the `TimeShower:alphaSvalue` and `TimeShower:pTmin = 0.50` parameters, although `TimeShower:alphaSorder = 1` is also of interest. First, we do some technical set up where we import the Pythia module and create a little `matplotlib` plotting routine for the `pythia8.Hist` class."
   ]
  },
  {
   "cell_type": "code",
   "execution_count": 1,
   "metadata": {},
   "outputs": [
    {
     "name": "stderr",
     "output_type": "stream",
     "text": [
      "Matplotlib is building the font cache; this may take a moment.\n"
     ]
    }
   ],
   "source": [
    "# Import the Pythia module.\n",
    "import pythia8\n",
    "\n",
    "# Create a little plotting tool for the Pythia histogram class.\n",
    "%matplotlib inline\n",
    "from matplotlib import pyplot\n",
    "def plot(hists, xlim = None, ylim = None, xlog = False, ylog = False, \n",
    "         xlabel = None, ylabel = None, norm = False, fnc = None):\n",
    "    for hist in hists:\n",
    "        if norm: hist.normalize()\n",
    "        x = [x for x0, x1 in zip(\n",
    "            hist.getBinEdges()[::1], hist.getBinEdges()[1::1])\n",
    "            for x in (x0, x1)]\n",
    "        y = [y for y0 in hist.getBinContents()\n",
    "             for y in (y0, y0)]\n",
    "        pyplot.plot(x, y, label = hist.getTitle())\n",
    "    if xlog: pyplot.xscale(\"log\")\n",
    "    if ylog: pyplot.yscale(\"log\")\n",
    "    if xlim: pyplot.xlim(xlim)\n",
    "    if ylim: pyplot.ylim(ylim)\n",
    "    if xlabel: pyplot.xlabel(xlabel)\n",
    "    if ylabel: pyplot.ylabel(ylabel)\n",
    "    if fnc: fnc()\n",
    "    pyplot.legend()\n",
    "    pyplot.show()"
   ]
  },
  {
   "cell_type": "markdown",
   "metadata": {},
   "source": [
    "Next, we need to write an event analysis class that allows us to calculate the thrust of an event. Thrust is obtained by varying the thrust axis so that the longitudinal momentum component projected onto it is maximized, and thrust itself is then defined as the sum of absolute longitudinal momenta divided by the sum of absolute momenta. The major axis is found correspondingly in the plane transverse to thrust, and the minor one is then defined to be transverse to both. Oblateness is the difference between the major and the minor values.\n",
    "\n",
    "With RIVET, the analysis would already be defined, but this shows a little bit more of the details. Luckily, Pythia has a built-in thrust method, and so we don't need to calculate thrust from scratch. The calculation of thrust is more computer-time-intensive than *e.g.* linear sphericity, and has no specific advantages except historical precedent. In the Pythia 6 implementation the search was sped up at the price of then not being guaranteed to hit the absolute maximum. The Pythia 8 implementation studies all possibilities, but at the price of being slower, with time consumption for an event with $n$ particles growing like $n^3$. "
   ]
  },
  {
   "cell_type": "code",
   "execution_count": 2,
   "metadata": {},
   "outputs": [],
   "source": [
    "class AnalyzeThrust:\n",
    "    \"\"\"\n",
    "    Class to perform a thrust analysis.\n",
    "    We write this as a class, so we can use the Pythia parallel framework.\n",
    "    \"\"\"\n",
    "    \n",
    "    def __init__(self, title = \"default\", nBins = 20, xLow = 0, xHigh = 0.5):\n",
    "        \"\"\"\n",
    "        Define the constructor.\n",
    "\n",
    "        title: title of the histogram.\n",
    "        nBins: number of bins in the histogram.\n",
    "        xLow:  lowest bin edge of the histogram.\n",
    "        xHigh: highest bin edge of the histogram.\n",
    "        \"\"\"\n",
    "        # Create the histogram for storing the thrust.\n",
    "        self.hist = pythia8.Hist(title, nBins, xLow, xHigh)\n",
    "\n",
    "        # Create the thrust analysis object. The argument is as follows.\n",
    "        # 1: all final-state particles\n",
    "        # 2: all observable final-state particles.\n",
    "        # 3: only charged final-state particles.\n",
    "        self.thrust = pythia8.Thrust(2)\n",
    "        \n",
    "    def run(self, pythiaNow):\n",
    "        \"\"\"\n",
    "        Define the analysis. Note, we are working with a single histogram,\n",
    "        so we need to make sure that the setting\n",
    "        Parallelism:processAsync is alsways off.\n",
    "        \n",
    "        pythiaNow: the Pythia instance containing the event to analyze.\n",
    "        \"\"\"\n",
    "        # Calculate the thrust and fill the histogram.\n",
    "        self.thrust.analyze(pythiaNow.event)\n",
    "        self.hist.fill(1 - self.thrust.thrust())"
   ]
  },
  {
   "cell_type": "code",
   "execution_count": 3,
   "metadata": {},
   "outputs": [
    {
     "name": "stdout",
     "output_type": "stream",
     "text": [
      "\n",
      " *------------------------------------------------------------------------------------* \n",
      " |                                                                                    | \n",
      " |  *------------------------------------------------------------------------------*  | \n",
      " |  |                                                                              |  | \n",
      " |  |                                                                              |  | \n",
      " |  |   PPP   Y   Y  TTTTT  H   H  III    A      Welcome to the Lund Monte Carlo!  |  | \n",
      " |  |   P  P   Y Y     T    H   H   I    A A     This is PYTHIA version 8.309      |  | \n",
      " |  |   PPP     Y      T    HHHHH   I   AAAAA    Last date of change: 16 Feb 2023  |  | \n",
      " |  |   P       Y      T    H   H   I   A   A                                      |  | \n",
      " |  |   P       Y      T    H   H  III  A   A    Now is 27 Jun 2023 at 16:15:41    |  | \n",
      " |  |                                                                              |  | \n",
      " |  |   Program documentation and an archive of historic versions is found on:     |  | \n",
      " |  |                                                                              |  | \n",
      " |  |                               https://pythia.org/                            |  | \n",
      " |  |                                                                              |  | \n",
      " |  |   PYTHIA is authored by a collaboration consisting of:                       |  | \n",
      " |  |                                                                              |  | \n",
      " |  |   Christian Bierlich, Nishita Desai, Leif Gellersen, Ilkka Helenius, Philip  |  | \n",
      " |  |   Ilten, Leif Lonnblad, Stephen Mrenna, Stefan Prestel, Christian Preuss,    |  | \n",
      " |  |   Torbjorn Sjostrand, Peter Skands, Marius Utheim and Rob Verheyen.          |  | \n",
      " |  |                                                                              |  | \n",
      " |  |   The complete list of authors, including contact information and            |  | \n",
      " |  |   affiliations, can be found on https://pythia.org/.                         |  | \n",
      " |  |   Problems or bugs should be reported on email at authors@pythia.org.        |  | \n",
      " |  |                                                                              |  | \n",
      " |  |   The main program reference is C. Bierlich et al,                           |  | \n",
      " |  |   'A comprehensive guide to the physics and usage of Pythia 8.3',            |  | \n",
      " |  |   SciPost Phys. Codebases 8-r8.3 (2022) [arXiv:2203.11601 [hep-ph]]          |  | \n",
      " |  |                                                                              |  | \n",
      " |  |   PYTHIA is released under the GNU General Public Licence version 2 or later.|  | \n",
      " |  |   Please respect the MCnet Guidelines for Event Generator Authors and Users. |  | \n",
      " |  |                                                                              |  | \n",
      " |  |   Disclaimer: this program comes without any guarantees.                     |  | \n",
      " |  |   Beware of errors and use common sense when interpreting results.           |  | \n",
      " |  |                                                                              |  | \n",
      " |  |   Copyright (C) 2023 Torbjorn Sjostrand                                      |  | \n",
      " |  |                                                                              |  | \n",
      " |  |                                                                              |  | \n",
      " |  *------------------------------------------------------------------------------*  | \n",
      " |                                                                                    | \n",
      " *------------------------------------------------------------------------------------* \n",
      "\n"
     ]
    }
   ],
   "source": [
    "# Use the PythiaParallel class instead of Pythia for parallel generation.\n",
    "# It will create multiple underlying Pythia instances to do the actual\n",
    "# generation; one instance per thread.\n",
    "pythia = pythia8.PythiaParallel()"
   ]
  },
  {
   "cell_type": "code",
   "execution_count": 4,
   "metadata": {},
   "outputs": [
    {
     "data": {
      "text/plain": [
       "True"
      ]
     },
     "execution_count": 4,
     "metadata": {},
     "output_type": "execute_result"
    }
   ],
   "source": [
    "# The maximum degree of parallelism. If set to 0 (default), the program\n",
    "# will use the maximum number of threads supported by the hardware.\n",
    "pythia.readString(\"Parallelism:numThreads = 3\")\n",
    "\n",
    "# Require each thread to produce the same number of events.\n",
    "pythia.readString(\"Parallelism:balanceLoad = on\")\n",
    "\n",
    "# PythiaParallel reads settings the same way as the normal Pythia does.\n",
    "# The settings will be copied for each Pythia instance."
   ]
  },
  {
   "cell_type": "code",
   "execution_count": 5,
   "metadata": {},
   "outputs": [
    {
     "data": {
      "text/plain": [
       "True"
      ]
     },
     "execution_count": 5,
     "metadata": {},
     "output_type": "execute_result"
    }
   ],
   "source": [
    "# Start from the Monash tune.\n",
    "pythia.readString(\"Tune:ee = 7\")"
   ]
  },
  {
   "cell_type": "code",
   "execution_count": 6,
   "metadata": {},
   "outputs": [
    {
     "data": {
      "text/plain": [
       "True"
      ]
     },
     "execution_count": 6,
     "metadata": {},
     "output_type": "execute_result"
    }
   ],
   "source": [
    "# Set the beams for the LEP configuration.\n",
    "pythia.readString(\"Beams:idA = 11\")     # First beam is the electron.\n",
    "pythia.readString(\"Beams:idB = -11\")    # Second beam is the positron.\n",
    "pythia.readString(\"Beams:eCM = 91.189\") # COM is mass of the Z.\n",
    "pythia.readString(\"PDF:lepton = off\")   # Turn off PDFs for lepton beams."
   ]
  },
  {
   "cell_type": "code",
   "execution_count": 7,
   "metadata": {},
   "outputs": [
    {
     "data": {
      "text/plain": [
       "True"
      ]
     },
     "execution_count": 7,
     "metadata": {},
     "output_type": "execute_result"
    }
   ],
   "source": [
    "# Set the process (don't include b-production).\n",
    "pythia.readString(\"WeakSingleBoson:ffbar2gmZ = on\")\n",
    "pythia.readString(\"23:onMode = off\")\n",
    "pythia.readString(\"23:onIfAny = 1 2 3 4\")"
   ]
  },
  {
   "cell_type": "code",
   "execution_count": 8,
   "metadata": {},
   "outputs": [],
   "source": [
    "# Create the analysis object.\n",
    "monash = AnalyzeThrust(\"Monash\")"
   ]
  },
  {
   "cell_type": "code",
   "execution_count": 9,
   "metadata": {},
   "outputs": [
    {
     "name": "stdout",
     "output_type": "stream",
     "text": [
      " PYTHIA Warning in PythiaParallel: experimental feature, please send feedback to authors@pythia.org  \n"
     ]
    },
    {
     "data": {
      "text/plain": [
       "True"
      ]
     },
     "execution_count": 9,
     "metadata": {},
     "output_type": "execute_result"
    }
   ],
   "source": [
    "# Set alpha_s to the Monash value.\n",
    "# This value is already being used, but this is shown for clarity.\n",
    "pythia.readString(\"TimeShower:alphaSvalue = 0.1365\")\n",
    "\n",
    "# Initialize Pythia.\n",
    "pythia.init()"
   ]
  },
  {
   "cell_type": "code",
   "execution_count": 10,
   "metadata": {},
   "outputs": [
    {
     "name": "stdout",
     "output_type": "stream",
     "text": [
      "\n",
      " PythiaParallel::run(): 1000 events have been generated\n",
      "\n",
      " PythiaParallel::run(): 2000 events have been generated\n",
      "\n",
      " PythiaParallel::run(): 3000 events have been generated\n",
      "\n",
      " PythiaParallel::run(): 4000 events have been generated\n",
      "\n",
      " PythiaParallel::run(): 5000 events have been generated\n",
      "\n",
      " PythiaParallel::run(): 6000 events have been generated\n",
      "\n",
      " PythiaParallel::run(): 7000 events have been generated\n",
      "\n",
      " PythiaParallel::run(): 8000 events have been generated\n",
      "\n",
      " PythiaParallel::run(): 9000 events have been generated\n"
     ]
    },
    {
     "data": {
      "text/plain": [
       "[3334, 3333, 3333]"
      ]
     },
     "execution_count": 10,
     "metadata": {},
     "output_type": "execute_result"
    }
   ],
   "source": [
    "# Run Pythia.\n",
    "nEvt = 10000\n",
    "pythia.run(nEvt, monash.run)"
   ]
  },
  {
   "cell_type": "code",
   "execution_count": 11,
   "metadata": {},
   "outputs": [
    {
     "data": {
      "image/png": "[encoded data removed]",
      "text/plain": [
       "<Figure size 432x288 with 1 Axes>"
      ]
     },
     "metadata": {
      "needs_background": "light"
     },
     "output_type": "display_data"
    }
   ],
   "source": [
    "# Plot the thrust histogram.\n",
    "plot([monash.hist], \n",
    "     xlim = (0, 0.4), ylog = True, xlabel = \"1 - thrust\", ylabel = \"events\")"
   ]
  },
  {
   "cell_type": "markdown",
   "metadata": {},
   "source": [
    "Now that we have generated a thrust distribution, let's try generating with a significantly higher value of $\\as$."
   ]
  },
  {
   "cell_type": "code",
   "execution_count": 12,
   "metadata": {},
   "outputs": [
    {
     "data": {
      "text/plain": [
       "True"
      ]
     },
     "execution_count": 12,
     "metadata": {},
     "output_type": "execute_result"
    }
   ],
   "source": [
    "# Create a new analysis.\n",
    "varAlpha = AnalyzeThrust(\"alpha_s = 0.2\")\n",
    "\n",
    "# Push up the alpha_s value.\n",
    "pythia.readString(\"TimeShower:alphaSvalue = 0.2\")\n",
    "pythia.init()"
   ]
  },
  {
   "cell_type": "code",
   "execution_count": 13,
   "metadata": {},
   "outputs": [
    {
     "name": "stdout",
     "output_type": "stream",
     "text": [
      "\n",
      " PythiaParallel::run(): 1000 events have been generated\n",
      "\n",
      " PythiaParallel::run(): 2000 events have been generated\n",
      "\n",
      " PythiaParallel::run(): 3000 events have been generated\n",
      "\n",
      " PythiaParallel::run(): 4000 events have been generated\n",
      "\n",
      " PythiaParallel::run(): 5000 events have been generated\n",
      "\n",
      " PythiaParallel::run(): 6000 events have been generated\n",
      "\n",
      " PythiaParallel::run(): 7000 events have been generated\n",
      "\n",
      " PythiaParallel::run(): 8000 events have been generated\n",
      "\n",
      " PythiaParallel::run(): 9000 events have been generated\n"
     ]
    },
    {
     "data": {
      "text/plain": [
       "[3334, 3333, 3333]"
      ]
     },
     "execution_count": 13,
     "metadata": {},
     "output_type": "execute_result"
    }
   ],
   "source": [
    "# Run Pythia.\n",
    "pythia.run(nEvt, varAlpha.run)"
   ]
  },
  {
   "cell_type": "code",
   "execution_count": 14,
   "metadata": {},
   "outputs": [
    {
     "data": {
      "image/png": "[encoded data removed]",
      "text/plain": [
       "<Figure size 432x288 with 1 Axes>"
      ]
     },
     "metadata": {
      "needs_background": "light"
     },
     "output_type": "display_data"
    }
   ],
   "source": [
    "# Compare the two thrust histograms.\n",
    "plot([monash.hist, varAlpha.hist],\n",
    "     xlim = (0, 0.5), ylog = True, xlabel = \"1 - thrust\", ylabel = \"events\")"
   ]
  },
  {
   "cell_type": "markdown",
   "metadata": {},
   "source": [
    "Try using a few different values of $\\as$ to see what happens with the distribution. For example, we could try setting $\\as$ to a lower value than the Monash tune, so something like 0.1. In the cells above, we can do this by creating another `AnalyzeThrust` object and then plotting all the different distributions using the command `plot([analysis1.hist, analysis2.hist, analysis3.hist, ...])`. From a model perspective, try to build an intuition as to why the thrust changes as it does for these different parameter values.\n",
    "\n",
    "We can also explore different values of the shower cut-off value sepcified by the parameter `TimeShower:pTmin`. This is by default set to 0.5 GeV, but we can change it to something higher, like 2 GeV. We can also try lower values as well, although at some point this will cause failures in the hadronization process."
   ]
  },
  {
   "cell_type": "code",
   "execution_count": 15,
   "metadata": {},
   "outputs": [
    {
     "data": {
      "text/plain": [
       "True"
      ]
     },
     "execution_count": 15,
     "metadata": {},
     "output_type": "execute_result"
    }
   ],
   "source": [
    "# Create a new analysis.\n",
    "varPT = AnalyzeThrust(\"pT = 2\")\n",
    "\n",
    "# Push up the pT cut-off. We need set the Monash tune again\n",
    "# to reset the value of alpha_s. Note, this should be called\n",
    "# before changing other parameters.\n",
    "pythia.readString(\"Tune:ee = 7\")\n",
    "pythia.readString(\"TimeShower:pTmin = 2\")\n",
    "pythia.init()"
   ]
  },
  {
   "cell_type": "code",
   "execution_count": 16,
   "metadata": {},
   "outputs": [
    {
     "name": "stdout",
     "output_type": "stream",
     "text": [
      "\n",
      " PythiaParallel::run(): 1000 events have been generated\n",
      "\n",
      " PythiaParallel::run(): 2000 events have been generated\n",
      "\n",
      " PythiaParallel::run(): 3000 events have been generated\n",
      "\n",
      " PythiaParallel::run(): 4000 events have been generated\n",
      "\n",
      " PythiaParallel::run(): 5000 events have been generated\n",
      "\n",
      " PythiaParallel::run(): 6000 events have been generated\n",
      "\n",
      " PythiaParallel::run(): 7000 events have been generated\n",
      "\n",
      " PythiaParallel::run(): 8000 events have been generated\n",
      "\n",
      " PythiaParallel::run(): 9000 events have been generated\n"
     ]
    },
    {
     "data": {
      "text/plain": [
       "[3334, 3333, 3333]"
      ]
     },
     "execution_count": 16,
     "metadata": {},
     "output_type": "execute_result"
    }
   ],
   "source": [
    "# Run Pythia.\n",
    "pythia.run(nEvt, varPT.run)"
   ]
  },
  {
   "cell_type": "code",
   "execution_count": 17,
   "metadata": {},
   "outputs": [
    {
     "data": {
      "image/png": "[encoded data removed]",
      "text/plain": [
       "<Figure size 432x288 with 1 Axes>"
      ]
     },
     "metadata": {
      "needs_background": "light"
     },
     "output_type": "display_data"
    }
   ],
   "source": [
    "# Compare with the change in pT cut-off.\n",
    "plot([monash.hist, varAlpha.hist, varPT.hist],\n",
    "     xlim = (0, 0.5), ylog = True, xlabel = \"1 - thrust\", ylabel = \"events\")"
   ]
  },
  {
   "cell_type": "markdown",
   "metadata": {},
   "source": [
    "From this, we can see whether changing the shower cut-off scale is a more or less senstive variable for the thrust distribution than $\\as$. One final parameter we can explore is how we run $\\as$. The Monash tune by default runs the time shower at first order with `TimeShower:alphaSorder = 1`. We can run $\\as$ at second order (or zeroth order), and see how this affects the thrust distribution."
   ]
  },
  {
   "cell_type": "code",
   "execution_count": 18,
   "metadata": {},
   "outputs": [
    {
     "data": {
      "text/plain": [
       "True"
      ]
     },
     "execution_count": 18,
     "metadata": {},
     "output_type": "execute_result"
    }
   ],
   "source": [
    "# Create a new analysis.\n",
    "varOrder = AnalyzeThrust(\"order = 2\")\n",
    "\n",
    "# Change the order of the alpha_s running.\n",
    "pythia.readString(\"Tune:ee = 7\")\n",
    "pythia.readString(\"TimeShower:alphaSorder = 2\")\n",
    "pythia.init()"
   ]
  },
  {
   "cell_type": "code",
   "execution_count": 19,
   "metadata": {},
   "outputs": [
    {
     "name": "stdout",
     "output_type": "stream",
     "text": [
      "\n",
      " PythiaParallel::run(): 1000 events have been generated\n",
      "\n",
      " PythiaParallel::run(): 2000 events have been generated\n",
      "\n",
      " PythiaParallel::run(): 3000 events have been generated\n",
      "\n",
      " PythiaParallel::run(): 4000 events have been generated\n",
      "\n",
      " PythiaParallel::run(): 5000 events have been generated\n",
      "\n",
      " PythiaParallel::run(): 6000 events have been generated\n",
      "\n",
      " PythiaParallel::run(): 7000 events have been generated\n",
      "\n",
      " PythiaParallel::run(): 8000 events have been generated\n",
      "\n",
      " PythiaParallel::run(): 9000 events have been generated\n"
     ]
    },
    {
     "data": {
      "text/plain": [
       "[3334, 3333, 3333]"
      ]
     },
     "execution_count": 19,
     "metadata": {},
     "output_type": "execute_result"
    }
   ],
   "source": [
    "# Run Pythia.\n",
    "pythia.run(nEvt, varOrder.run)"
   ]
  },
  {
   "cell_type": "code",
   "execution_count": 20,
   "metadata": {},
   "outputs": [
    {
     "data": {
      "image/png": "[encoded data removed]",
      "text/plain": [
       "<Figure size 432x288 with 1 Axes>"
      ]
     },
     "metadata": {
      "needs_background": "light"
     },
     "output_type": "display_data"
    }
   ],
   "source": [
    "# Compare with the change in alpha_s order.\n",
    "plot([monash.hist, varAlpha.hist, varPT.hist, varOrder.hist], \n",
    "     xlim = (0, 0.5), ylog = True, xlabel = \"1 - thrust\", ylabel = \"events\")"
   ]
  },
  {
   "cell_type": "markdown",
   "metadata": {},
   "source": [
    "We can try other $\\as$ orders to see if this makes any substantial difference. In Pythia the possible options are `0`, `1`, `2`, or `3`."
   ]
  },
  {
   "cell_type": "markdown",
   "metadata": {},
   "source": [
    "<a id='lighFragmentation'></a>\n",
    "## Light-Flavour Fragmentation\n",
    "\n",
    "Given a set of post-shower partons, resolved at a scale of $Q_\\mathrm{had} \\sim$ 1 GeV, the non-perturbative stage of the fragmentation modeling now takes over, to convert the partonic state into a set of on-shell hadrons. In the leading-colour approximation, each perturbative dipole is dual to a non-perturbative string piece. Quarks thus become string endpoints, while gluons become transverse kinks, connecting two string pieces. The Lund string fragmentation model describes the fragmentation of such string systems into on-shell hadrons.\n",
    "\n",
    "Since the shower has already resolved all the (perturbative) physics down to a transverse-momentum scale of $\\pTmin =$ 0.5 GeV (for the Monash 2013 tune), the Monash authors found it reasonable that the $\\pT$ kicks involved in string breaking should effectively average over dynamics in roughly the range 250 MeV $= \\sqrt\\kappa/\\pi < \\sigma_\\perp < \\pTmin$, with the lower bound given by Fermi motion (with $\\kappa$ the string tension). Further, since the Monash authrs here choose $\\pTmin$ to be only slightly greater than $\\Lambda_\\mathrm{QCD}$, the size of the non-perturbative corrections is naturally limited to kicks/corrections appropriate for non-perturbative dynamics (in contrast, *e.g.*, to the cluster model, which can generate substantially larger kicks, of order the largest allowed cluster mass, which can be several GeV). For the Monash 2013 tune, the authors settled on a value of $\\sigma_\\perp =$ 0.335 GeV, with a small (1%) tail of breaks involving higher $\\pT$ values carried over from the default settings.\n",
    "\n",
    "```\n",
    "StringPT:sigma = 0.335\n",
    "StringPT:enhancedFraction = 0.01\n",
    "StringPT:enhancedWidth = 2.0\n",
    "```\n",
    "\n",
    "For massless quarks, the longitudinal component of the energy carried by a hadron formed in the\n",
    "string-breaking process string $\\to$ hadron + string' is governed by the Lund symmetric fragmentation\n",
    "function:\n",
    "\n",
    "$$f(z) \\propto \\frac{z^{(a_i - a_j)}(1-z)^{a_j}}{z} \\exp\\frac{-b m^2_{\\perp}}{z}$$\n",
    "\n",
    "where $z$ is the energy carried by the newly formed $(ij)$ hadron, expressed as a fraction of the light-cone energy of the quark (or antiquark) endpoint, $i$, of the fragmenting string. The remaining energy fraction, $(1 - z)$, goes to the new string' system, from which another hadron can be split off in the same matter, etc., until all the energy is used up. The transverse mass of the produced $(ij)$ hadron is defined by $m^2_{\\perp} = m^2_{\\mathrm{had}} + p^2_{\\perp,\\mathrm{had}}$, hence heavier hadrons have harder spectra. The proportionality\n",
    "sign in the Lund symmetric fragmentation functions indicates that the function is to be normalized to unity.\n",
    "\n",
    "The $a$ and $b$ parameters govern the shape of the fragmentation function, and must be constrained by fits to data. The equation above expresses the most general form of the fragmentation function, for which the $a$ parameters of the original string-endpoint quark, $a_i$, and that of the (anti-)quark produced in the string break, $a_j$, can in principle be different, while the $b$ parameter is universal. Within the Lund model, the $a$ value is normally also taken to be universal, the same for all quarks, with the only freedom being that a larger $a$ parameter can be assigned to diquarks, from which baryons are formed, and hence meson and baryon spectra can be decoupled somewhat.\n",
    "\n",
    "Roughly speaking, large a parameters suppress the hard region $z \\to 1$, while a large $b$ parameter suppresses the soft region $z \\to 0$. By adjusting them independently, both the average hardness and the width of the resulting fragmentation spectra can be modified. For example, increasing both $a$ and $b$ yields a narrower  distribution, while changing them in opposite directions moves the average. The following code illustrates the effect of varying the $a$ and $b$ parameters, for $a_i = a_j \\equiv a$."
   ]
  },
  {
   "cell_type": "code",
   "execution_count": 21,
   "metadata": {},
   "outputs": [],
   "source": [
    "# Define the Lund symmetric fragmentation function.\n",
    "def lund(z, a, b, mT):\n",
    "    \"\"\"\n",
    "    The Lund symmetric fragmentation function, normalized.\n",
    "    \n",
    "    z:  energy fraction taken by the string.\n",
    "    a:  a parameter which might depend on the quark flavor.\n",
    "    b:  b parameter which is flavor independent.\n",
    "    mT: transverse mass of the hadron.\n",
    "    \"\"\"\n",
    "    import numpy\n",
    "    f = z**a*(1 - z)**a/z*numpy.exp(-b*mT**2/z)\n",
    "    return  f/numpy.trapz(f, z)"
   ]
  },
  {
   "cell_type": "code",
   "execution_count": 22,
   "metadata": {},
   "outputs": [
    {
     "data": {
      "image/png": "[encoded data removed]",
      "text/plain": [
       "<Figure size 432x288 with 1 Axes>"
      ]
     },
     "metadata": {
      "needs_background": "light"
     },
     "output_type": "display_data"
    }
   ],
   "source": [
    "# Plot the fragmentation function for varying a and fixed b.\n",
    "import numpy\n",
    "z = numpy.linspace(0.01, 1, 100)\n",
    "pyplot.plot(z, lund(z, a = 0.9, b = 1, mT = 1), label = \"a = 0.9\")\n",
    "pyplot.plot(z, lund(z, a = 0.1, b = 1, mT = 1), label = \"a = 0.1\")\n",
    "pyplot.xlabel(\"z\")\n",
    "pyplot.ylabel(\"f(z)\")\n",
    "pyplot.legend();"
   ]
  },
  {
   "cell_type": "code",
   "execution_count": 23,
   "metadata": {},
   "outputs": [
    {
     "data": {
      "image/png": "[encoded data removed]",
      "text/plain": [
       "<Figure size 432x288 with 1 Axes>"
      ]
     },
     "metadata": {
      "needs_background": "light"
     },
     "output_type": "display_data"
    }
   ],
   "source": [
    "# Plot the fragmentation function for varying b and fixed a.\n",
    "import numpy\n",
    "z = numpy.linspace(0.01, 1, 100)\n",
    "pyplot.plot(z, lund(z, a = 0.5, b = 0.5, mT = 1), label = \"b = 0.5\")\n",
    "pyplot.plot(z, lund(z, a = 0.5, b = 2.0, mT = 1), label = \"b = 2.0\")\n",
    "pyplot.xlabel(\"z\")\n",
    "pyplot.ylabel(\"f(z)\")\n",
    "pyplot.legend();"
   ]
  },
  {
   "cell_type": "markdown",
   "metadata": {},
   "source": [
    "Try varying $a$, $b$, and $m_{\\perp}$ above to gain an intuition of how the parameters change the fragmentation probability. Note that the $\\sigma_{\\perp}$ parameter also affects the hardness, with larger $\\sigma_{\\perp}$ values generating harder hadrons, the difference being that the $\\sigma_{\\perp}$ parameter acts mainly in the direction transverse to the string (and is an absolute scale expressed in GeV), while the $a$ and $b$ parameters act longitudinally (with $z$ a relative scale expressed as a fraction of the endpoint's energy).\n",
    "\n",
    "In the context of the Monash tune, the authors included the possibility of letting the $a$ parameter for strange\n",
    "quarks be slightly different from that of $\\u$ and $\\d$ quarks, but did not find any significant advantages. The relevant parameters in the code for the Monash tune are:\n",
    "\n",
    "```\n",
    "StringZ:aLund         = 0.68\n",
    "StringZ:bLund         = 0.98\n",
    "StringZ:aExtraDiquark = 0.97\n",
    "StringZ:aExtraSquark  = 0.00\n",
    "```\n",
    "\n",
    "The average hardness of the produced hadrons is tightly (anti-)correlated with the average multiplicity, via momentum conservation: if each hadron takes a lot of energy, then fewer hadrons must be made, and vice versa. Thus, the $\\sigma_{\\perp}$ value and the $a$ and $b$ parameters of the fragmentation function\n",
    "can be well constrained by simultaneously considering both momentum and multiplicity spectra. In\n",
    "order to be as universal as possible, one normally uses the inclusive charged-particle spectra for this\n",
    "purpose. We define the momentum fraction as:\n",
    "\n",
    "$$x_p = \\frac{2|p|}{E_\\mathrm{cm}}$$\n",
    "\n",
    "where $p$ is the momentum of the charged hadron, and $E_\\mathrm{cm}$ is the centre-of-mass energy of the system. First, we write an analysis that fills histograms for both the momentum and multiplicity.\n"
   ]
  },
  {
   "cell_type": "code",
   "execution_count": null,
   "metadata": {},
   "outputs": [],
   "source": [
    "class AnalyzeFrag:\n",
    "    \"\"\"\n",
    "    Class to perform a multiplicity and momentum fraction analysis.\n",
    "    \"\"\"\n",
    "    \n",
    "    def __init__(self, title = \"default\",\n",
    "                 nBinsMult = 31, xLowMult = -0.5, xHighMult = 60.5,\n",
    "                 nBinsFrac = 20, xLowFrac = 0, xHighFrac = 8):\n",
    "        \"\"\"\n",
    "        Define the constructor.\n",
    "\n",
    "        title:            title of the histograms.\n",
    "        nBins[Mult,Frac]: number of bins in the multiplicity/fraction histogram.\n",
    "        xLow[Mult,Frac]:  lowest bin edge of the histograms.\n",
    "        xHigh[Mult,Frac]: highest bin edge of the histograms.\n",
    "        \"\"\"\n",
    "        # Create the histogram for storing the multiplicity and momentum\n",
    "        # fraction.\n",
    "        self.mult = pythia8.Hist(title, nBinsMult, xLowMult, xHighMult)\n",
    "        self.frac = pythia8.Hist(title, nBinsFrac, xLowFrac, xHighFrac)\n",
    "        \n",
    "    def run(self, pythiaNow):\n",
    "        \"\"\"\n",
    "        Define the analysis.\n",
    "        \n",
    "        pythiaNow: the Pythia instance containing the event to analyze.\n",
    "        \"\"\"\n",
    "        import math\n",
    "        \n",
    "        # Loop over all the particles.\n",
    "        nChr = 0\n",
    "        for prt in pythiaNow.event:\n",
    "            \n",
    "            # Check the particle is final and charged.\n",
    "            if prt.isFinal() and prt.isCharged():\n",
    "                nChr += 1\n",
    "            \n",
    "                # Fill the momentum fraction.\n",
    "                self.frac.fill(\n",
    "                    abs(math.log(2*prt.pAbs()\n",
    "                    /pythiaNow.infoPython().eCM())))\n",
    "            \n",
    "        # Fill the multiplicity.\n",
    "        self.mult.fill(nChr)"
   ]
  },
  {
   "cell_type": "code",
   "execution_count": null,
   "metadata": {},
   "outputs": [],
   "source": [
    "# Create a new analysis.\n",
    "monash = AnalyzeFrag(\"Monash\")\n",
    "\n",
    "# Start with the Monash tune.\n",
    "pythia.readString(\"Tune:ee = 7\")\n",
    "pythia.init()"
   ]
  },
  {
   "cell_type": "code",
   "execution_count": null,
   "metadata": {},
   "outputs": [],
   "source": [
    "# Run Pythia.\n",
    "nEvt = 10000\n",
    "pythia.run(nEvt, monash.run)"
   ]
  },
  {
   "cell_type": "code",
   "execution_count": null,
   "metadata": {},
   "outputs": [],
   "source": [
    "# Plot the multiplicity histogram.\n",
    "plot([monash.mult], \n",
    "     ylog = True, xlabel = \"n charged\", ylabel = \"prob\", norm = True)"
   ]
  },
  {
   "cell_type": "markdown",
   "metadata": {},
   "source": [
    "Note the subtlety of the binning in this histogram. First, the charge multiplicity must be an integer number, and so it is important to ensure the bin edges line up between integers. Second, the initial state is $\\e^+\\e^-$, and so charge conservation requires the final number of charged particles to be even. This can be seen by running the analysis above and changing `nBinsMult` to `61` rather than the default `31`."
   ]
  },
  {
   "cell_type": "code",
   "execution_count": null,
   "metadata": {},
   "outputs": [],
   "source": [
    "# Plot the momentum fraction histogram.\n",
    "plot([monash.frac], \n",
    "     ylog = True, xlabel = \"|ln(x_p)|\", ylabel = \"prob\", norm = True)"
   ]
  },
  {
   "cell_type": "markdown",
   "metadata": {},
   "source": [
    "Now that we have these distributions, we can try varying some of the relevant parameters and plotting the relevant distributions. First, we can try varying the $a$ parameter."
   ]
  },
  {
   "cell_type": "code",
   "execution_count": null,
   "metadata": {},
   "outputs": [],
   "source": [
    "# Create a new analysis.\n",
    "varA = AnalyzeFrag(\"a = 0.1\")\n",
    "\n",
    "# Vary the Lund a parameter.\n",
    "pythia.readString(\"Tune:ee = 7\")\n",
    "pythia.readString(\"StringZ:aLund = 0.1\")\n",
    "pythia.init()"
   ]
  },
  {
   "cell_type": "code",
   "execution_count": null,
   "metadata": {},
   "outputs": [],
   "source": [
    "# Run Pythia.\n",
    "pythia.run(nEvt, varA.run)"
   ]
  },
  {
   "cell_type": "code",
   "execution_count": null,
   "metadata": {},
   "outputs": [],
   "source": [
    "# Plot the multiplicity histogram.\n",
    "plot([monash.mult, varA.mult], \n",
    "     ylog = True, xlabel = \"n charged\", ylabel = \"prob\", norm = True)"
   ]
  },
  {
   "cell_type": "markdown",
   "metadata": {},
   "source": [
    "We can try running with a number of different $a$ values. Why does decreasing $a$ decrease the multiplicity? We can also check how this changes the momentum fraction."
   ]
  },
  {
   "cell_type": "code",
   "execution_count": null,
   "metadata": {},
   "outputs": [],
   "source": [
    "# Plot the momentum fraction histogram.\n",
    "plot([monash.frac, varA.frac], \n",
    "     ylog = True, xlabel = \"|ln(x_p)|\", ylabel = \"prob\", norm = True)"
   ]
  },
  {
   "cell_type": "markdown",
   "metadata": {},
   "source": [
    "Try changing both `StringZ:bLund` and `StringPT:sigma` and see how this changes these distributions. Explore a number of different values.\n",
    "\n",
    "In the context of fits to experimental data, note that the $a$ and $b$ parameters typically exhibit a very high degree of correlation. An option for choosing an alternative parameterization is therefore provided, whereby the user specifies the desired average value of the fragmentation function for primary $\\rho$ mesons rather than the $b$ parameter. The $a$ parameter should still be given by `StringZ:aLund` as usual. The $\\rho$ meson has been chosen as a reference since its mass is near the average of the primary hadron production, while pions come to dominate only after secondary decays. This option can be enabled via the flag `StringZ:deriveBLund`. When set to `on`, the $b$ parameter is treated as a derived quantity; *i.e.*, the value of `StringZ:bLund` is ignored in favour of the `StringZ:avgZLund` parameter. The `StringZ:bLund` parameter is then also reset to the derived value so that it can be queried after initialization, if desired. The `StringZ:avgZLund` parameter specifies the average of the fragmentation function for primary $\\rho$ mesons, evaluated at $m^2_{\\perp} = m^2_\\rho + 2\\sigma^2_{\\perp}$. Note that the derived value is allowed to exceed the nominal limits given for `StringZ:bLund` above. This is intended to allow fits to see the functional behaviour even outside the nominal limits.\n",
    "\n",
    "Try working with `StringZ:avgZLund` to help understand the correlation between the $a$ and $b$ parameters."
   ]
  },
  {
   "cell_type": "markdown",
   "metadata": {},
   "source": [
    "<a id='identifiedParticles'></a>\n",
    "## Identified Particles\n",
    "\n",
    "The extraction of the $a$ and $b$ parameters from the inclusive charged-particle distributions is made slightly more complicated by the fact that not all observed particles are \"primary\" (originating directly from string breaks); many lower-mass particles are \"secondaries\", produced by prompt decays of more massive states (*e.g.*, $\\rho \\to \\pi \\pi$), whose relative rates and decay kinematics therefore influence the spectra. In the $\\e^+ \\e^−$ measurements we include here, particles with $c\\tau <$ 100 mm were treated as unstable, hence leading to secondaries. For completeness, we note that the equivalent standard cut at the LHC is normally 10 mm. The particle composition in Pythia was already tuned to a set of reference values provided by the PDG , and the default parameters do reasonably well, certainly for the most copiously produced sources of secondaries. Nonetheless, the Monash authors reoptimized the flavour-selection parameters of the string-fragmentation model using a slightly different set of reference data, combining the PDG tables with information provided directly by the LEP experiments via HEPDATA. Based on the level of agreement or disagreement between different measurements of the same particles, the Monash authors used their own judgement as to the level of uncertainty for a few of the particles, as outlined in their paper.\n",
    "\n",
    "The light-flavour-selection parameters for the Monash tune are:\n",
    "\n",
    "```\n",
    "# Light-meson sector.\n",
    "StringFlav:probStoUD        = 0.217\n",
    "StringFlav:mesonUDvector    = 0.5\n",
    "StringFlav:mesonSvector     = 0.55\n",
    "StringFlav:etaSup           = 0.60\n",
    "StringFlav:etaPrimeSup      = 0.12\n",
    "\n",
    "# Baryon sector.\n",
    "StringFlav:probQQtoQ        = 0.081\n",
    "StringFlav:probSQtoQQ       = 0.915\n",
    "StringFlav:probQQ1toQQ0     = 0.0275\n",
    "StringFlav:suppressLeadingB = off\n",
    "StringFlav:popcornSpair     = 0.9\n",
    "StringFlav:popcornSmeson    = 0.5\n",
    "```\n",
    "\n",
    "Since strange-particle and baryon spectra at the LHC exhibit interesting differences with respect to existing models, the Monash authors paid particular attention to first obtaining a good description of these sectors in $\\e^+ \\e^-$ collisions. Specifically, the Monash authors increased the overall amount of strangeness by about 10%, while decreasing the rate of vector mesons by a similar amount (these two effects largely cancel for $\\K^*$). This improves the total $\\K^\\pm, \\rho^0, \\omega, \\Lambda, \\Xi^*$, $\\Omega$ yields to the combined LEP estimates discussed above. The price is that measured rate of $\\Xi^\\pm$ baryons is overestimated by 10%.\n",
    "\n",
    "A number of observables are useful in tuning the flavour parameters: the identified-meson and -baryon rates, and particle species specific momentum-fraction spectra. We can construct an analysis which fills histograms for both of these observables."
   ]
  },
  {
   "cell_type": "code",
   "execution_count": null,
   "metadata": {},
   "outputs": [],
   "source": [
    "class AnalyzeFlavor:\n",
    "    \"\"\"\n",
    "    Class to perform a flavor analysis.\n",
    "    \"\"\"\n",
    "    labels = {\n",
    "        \"mesons\": [211, 111, 321, 221, 331, 213, 113, 323, 223, 333],\n",
    "        \"baryons\": [2212, 3122, 3222, 3212, 2224, 3214, 3314, 3324, 3334]\n",
    "    }\n",
    "    \n",
    "    def __init__(self, title = \"default\", nBins = 20, xLow = 0, xHigh = 5):\n",
    "        \"\"\"\n",
    "        Define the constructor.\n",
    "\n",
    "        title: title of the histograms.\n",
    "        nBins: number of bins in the fraction histogram.\n",
    "        xLow:  lowest bin edge of the histograms.\n",
    "        xHigh: highest bin edge of the histograms.\n",
    "        \"\"\"\n",
    "        # Create the histogram for storing the meson and baryon numbers and\n",
    "        # the momentum fraction.\n",
    "        self.pdb     = pythia8.Pythia(\"\", False).particleData\n",
    "        self.nEvt    = 0\n",
    "        self.nChr    = 0\n",
    "        self.mesons  = pythia8.Hist(title, 10, -0.5, 9.5)\n",
    "        self.baryons = pythia8.Hist(title, 10, -0.5, 9.5)\n",
    "        self.fracs   = {\n",
    "            pid: pythia8.Hist(title, nBins, xLow, xHigh)\n",
    "            for pid in self.labels[\"mesons\"] + self.labels[\"baryons\"]}\n",
    "        \n",
    "    def run(self, pythiaNow):\n",
    "        \"\"\"\n",
    "        Define the analysis.\n",
    "        \n",
    "        pythiaNow: the Pythia instance containing the event to analyze.\n",
    "        \"\"\"\n",
    "        import math\n",
    "        self.nEvt += 1\n",
    "        \n",
    "        # Loop over all the particles.\n",
    "        for prt in pythiaNow.event:\n",
    "            \n",
    "            # Check the particle is final and charged.\n",
    "            if prt.isFinal() and prt.isCharged():\n",
    "                self.nChr += 1\n",
    "            \n",
    "            # Check the particle is in the list.\n",
    "            pid = prt.idAbs()\n",
    "            try: self.mesons.fill(self.labels[\"mesons\"].index(pid))\n",
    "            except:\n",
    "                try: self.baryons.fill(self.labels[\"baryons\"].index(pid))\n",
    "                except: pass\n",
    "                    \n",
    "            # Fill the momentum fraction.\n",
    "            if pid in self.fracs: \n",
    "                self.fracs[pid].fill(\n",
    "                    abs(math.log(2*prt.pAbs()\n",
    "                    /pythiaNow.infoPython().eCM())))\n",
    "                \n",
    "    def finalize(self):\n",
    "        \"\"\"\n",
    "        Finalize the multiplicity histograms by dividing by the average\n",
    "        charge multiplicity.\n",
    "        \"\"\"\n",
    "        # Normalize the momentum fractions.\n",
    "        for pid, hist in self.fracs.items():\n",
    "            hist *= 1./(hist.getEntries()*hist.getBinWidth())\n",
    "            \n",
    "        # Normalize the meson and baryon mults.\n",
    "        self.mesons  *= 1./self.nChr\n",
    "        self.baryons *= 1./self.nChr\n",
    "\n",
    "            \n",
    "    def axis(self, key):\n",
    "        pids = self.labels[key]\n",
    "        pyplot.xticks(\n",
    "            range(len(pids)), [self.pdb.name(pid) for pid in pids],\n",
    "            rotation = -90)"
   ]
  },
  {
   "cell_type": "code",
   "execution_count": null,
   "metadata": {},
   "outputs": [],
   "source": [
    "# Create a new analysis.\n",
    "monash = AnalyzeFlavor(\"Monash\")\n",
    "\n",
    "# Start with the Monash tune.\n",
    "pythia.readString(\"Tune:ee = 7\")\n",
    "pythia.init()"
   ]
  },
  {
   "cell_type": "code",
   "execution_count": null,
   "metadata": {},
   "outputs": [],
   "source": [
    "# Run Pythia and finalize the output.\n",
    "pythia.run(nEvt, monash.run)\n",
    "monash.finalize()"
   ]
  },
  {
   "cell_type": "code",
   "execution_count": null,
   "metadata": {},
   "outputs": [],
   "source": [
    "# Plot the meson multiplicity histogram.\n",
    "plot([monash.mesons], \n",
    "     ylog = True, xlabel = \"\", ylabel = \"<n>/<n charged>\", fnc = monash.axis(\"mesons\"))"
   ]
  },
  {
   "cell_type": "code",
   "execution_count": null,
   "metadata": {},
   "outputs": [],
   "source": [
    "# Plot the baryon multiplicity histogram.\n",
    "plot([monash.baryons], \n",
    "     ylog = True, xlabel = \"\", ylabel = \"<n>/<n charged>\", fnc = monash.axis(\"baryons\"))"
   ]
  },
  {
   "cell_type": "code",
   "execution_count": null,
   "metadata": {},
   "outputs": [],
   "source": [
    "# Plot the Lambda0 momentum-fraction histogram.\n",
    "plot([monash.fracs[3122]], \n",
    "     xlabel = \"|ln(x_p)|\", ylabel = \"prob\")"
   ]
  },
  {
   "cell_type": "markdown",
   "metadata": {},
   "source": [
    "We can try enhancing certain flavors. For example, if we can enhance the producion of vector mesons with light $(\\u, \\d)$ content, by increasing the `StringFlav:mesonUDvector` parameter. A full description of the flavor parameters can be found in the [Flavor Selection](https://pythia.org/manuals/pythia8309/FlavourSelection.html) section of the [Pythia 8.3 HTML manual](https://pythia.org/manuals/pythia8309/Welcome.html). A brief summary the parameters governing standard meson production are given here.\n",
    "* `StringFlav:mesonUDvector` - the relative production ratio vector/pseudoscalar for light ($\\u, \\d$) mesons.\n",
    "* `StringFlav:mesonSvector` - the relative production ratio vector/pseudoscalar for strange mesons.\n",
    "* `StringFlav:mesonCvector` - the relative production ratio vector/pseudoscalar for charm mesons.\n",
    "* `StringFlav:mesonBvector` - the relative production ratio vector/pseudoscalar for bottom mesons. "
   ]
  },
  {
   "cell_type": "code",
   "execution_count": null,
   "metadata": {},
   "outputs": [],
   "source": [
    "# Create a new analysis.\n",
    "varVectorUD = AnalyzeFlavor(\"vectorUD = 3\")\n",
    "\n",
    "# Increase ud-vector production.\n",
    "pythia.readString(\"Tune:ee = 7\")\n",
    "pythia.readString(\"StringFlav:mesonUDvector = 3\")\n",
    "pythia.init()"
   ]
  },
  {
   "cell_type": "code",
   "execution_count": null,
   "metadata": {},
   "outputs": [],
   "source": [
    "# Run Pythia and finalize the output.\n",
    "pythia.run(nEvt, varVectorUD.run)\n",
    "varVectorUD.finalize()"
   ]
  },
  {
   "cell_type": "code",
   "execution_count": null,
   "metadata": {},
   "outputs": [],
   "source": [
    "# Plot the meson multiplicity histogram.\n",
    "plot([monash.mesons, varVectorUD.mesons], \n",
    "     ylog = True, xlabel = \"\", ylabel = \"<n>/<n charged>\", fnc = monash.axis(\"mesons\"))"
   ]
  },
  {
   "cell_type": "markdown",
   "metadata": {},
   "source": [
    "Explore the flavor space further, including seeing how the momentum fractions for specific species can be changed by these parameters."
   ]
  },
  {
   "cell_type": "markdown",
   "metadata": {},
   "source": [
    "<a id='further'></a>\n",
    "## Further Study\n",
    "\n",
    "This tutorial only covers from the start of section 2 of the [Monash Tune paper](https://arxiv.org/pdf/1404.5630.pdf), up to and including section 2.2. Heavy flavor (section 2.3) is not covered, neither are hadron collisions (section 3) nor energy scaling (section 4). However, the exercises here should provide sufficient background for study of these additional topics. Note, however, that generating full LHC events can be considerably slower than LEP events."
   ]
  }
 ],
 "metadata": {
  "kernelspec": {
   "display_name": "Python 3",
   "language": "python",
   "name": "python3"
  },
  "language_info": {
   "codemirror_mode": {
    "name": "ipython",
    "version": 3
   },
   "file_extension": ".py",
   "mimetype": "text/x-python",
   "name": "python",
   "nbconvert_exporter": "python",
   "pygments_lexer": "ipython3",
   "version": "3.8.10"
  }
 },
 "nbformat": 4,
 "nbformat_minor": 5
}
