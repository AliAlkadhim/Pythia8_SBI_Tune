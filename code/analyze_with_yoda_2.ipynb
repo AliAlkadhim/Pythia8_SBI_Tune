{
 "cells": [
  {
   "cell_type": "code",
   "execution_count": 1,
   "id": "ebb29179-05ca-41d2-9e99-20565bd2e899",
   "metadata": {},
   "outputs": [
    {
     "name": "stdout",
     "output_type": "stream",
     "text": [
      "Welcome to JupyROOT 6.30/02\n"
     ]
    },
    {
     "name": "stderr",
     "output_type": "stream",
     "text": [
      "/usr/lib/python3/dist-packages/scipy/__init__.py:146: UserWarning: A NumPy version >=1.17.3 and <1.25.0 is required for this version of SciPy (detected version 1.26.3\n",
      "  warnings.warn(f\"A NumPy version >={np_minversion} and <{np_maxversion}\"\n"
     ]
    }
   ],
   "source": [
    "import yoda\n",
    "import os\n",
    "import numpy as np\n",
    "import matplotlib.pyplot as plt\n",
    "import pandas as pd\n",
    "plt.rcParams['text.usetex'] = True\n",
    "import numba as nb"
   ]
  },
  {
   "cell_type": "code",
   "execution_count": 2,
   "id": "cccbefda-8cce-4de2-9e03-32a401cfb8c0",
   "metadata": {},
   "outputs": [],
   "source": [
    "def return_data_hist_yoda(hist_name='d01-x01-y01'):\n",
    "    # print('data hist name = ', hist_name)\n",
    "    data_hist_path = os.path.join(os.getcwd(), 'rivet_histograms', 'data', 'ALEPH_1996_S3486095.yoda')\n",
    "    tree_name_data='/REF/ALEPH_1996_S3486095'\n",
    "    yoda_file = yoda.read(data_hist_path)\n",
    "    full_hist_name = '%s/%s' % (tree_name_data, hist_name)\n",
    "    yoda_hist = yoda_file[full_hist_name]\n",
    "    hist_edges = yoda_hist.xVals()\n",
    "    hist_values = yoda_hist.yVals()\n",
    "    hist_errs = yoda_hist.yErrs()[:,0]\n",
    "    return hist_edges, hist_values, hist_errs"
   ]
  },
  {
   "cell_type": "code",
   "execution_count": 3,
   "id": "31480e0e-1766-4871-82f9-dd7a11fc882b",
   "metadata": {},
   "outputs": [],
   "source": [
    "def return_simulation_hist_yoda(filename = 'ALEPH_1996_S3486095_card_0.yoda', hist_name='d01-x01-y01'):\n",
    "    # print('simulation hist name = ', hist_name)\n",
    "    simulation_hist_path = os.path.join(os.getcwd(), 'rivet_histograms', 'simulation', filename)\n",
    "    yoda_file = yoda.read(simulation_hist_path)\n",
    "    tree_name_simulation='/ALEPH_1996_S3486095'\n",
    "    \n",
    "    full_hist_name = '%s/%s' % (tree_name_simulation, hist_name)\n",
    "    yoda_hist = yoda_file[full_hist_name]\n",
    "    hist_edges = yoda_hist.xVals()\n",
    "    hist_values = yoda_hist.yVals()\n",
    "    hist_errs = yoda_hist.yErrs()\n",
    "    return hist_edges, hist_values, hist_errs"
   ]
  },
  {
   "cell_type": "code",
   "execution_count": 4,
   "id": "60bd06a5-23aa-41ff-ac7a-604caf19f060",
   "metadata": {},
   "outputs": [],
   "source": [
    "def get_hist_names():\n",
    "    hist_names=[]\n",
    "    for i in range(1,43):\n",
    "        hist_names.append('d{:02d}-x01-y01'.format(i) )\n",
    "        #13-16 and 24 not present in yoda files\n",
    "    hist_names.remove('d13-x01-y01')\n",
    "    hist_names.remove('d14-x01-y01')\n",
    "    hist_names.remove('d15-x01-y01')\n",
    "    hist_names.remove('d16-x01-y01')\n",
    "    hist_names.remove('d24-x01-y01')\n",
    "    # d25-x01-y01 gives error of unequal lengths\n",
    "    # hist_names.remove('d25-x01-y01')\n",
    "    # hist_names.remove('d26-x01-y01')\n",
    "    # hist_names.remove('d27-x01-y01')\n",
    "    #19-23 are empty\n",
    "    hist_names.remove('d19-x01-y01')\n",
    "    hist_names.remove('d20-x01-y01')\n",
    "    hist_names.remove('d21-x01-y01')\n",
    "    hist_names.remove('d22-x01-y01')\n",
    "    hist_names.remove('d23-x01-y01')\n",
    "    #36 gives a huge chi2 (=10^18) for unknown reason\n",
    "    hist_names.remove('d36-x01-y01')\n",
    "    # 41\n",
    "    hist_names.remove('d41-x01-y01')\n",
    "    hist_names.remove('d42-x01-y01')\n",
    "\n",
    "    return hist_names"
   ]
  },
  {
   "cell_type": "code",
   "execution_count": 5,
   "id": "0a9deacf-a7bb-46ef-bdd7-87bccd5b4e6c",
   "metadata": {},
   "outputs": [],
   "source": [
    "@nb.njit\n",
    "def chi2(data_hist, sim_hist, sim_errs, print_=True):\n",
    "    assert len(data_hist) == len(sim_hist)\n",
    "    select = sim_hist > 0.0\n",
    "    hsim = sim_hist[select]\n",
    "    hdat = data_hist[select]\n",
    "    sim_errs = sim_errs[select]\n",
    "    \n",
    "    num = (hdat - hsim)**2\n",
    "    den = sim_errs**2 \n",
    "    \n",
    "    chi_2 =(num/den).sum()\n",
    "    chi_2_per_dof =chi_2/len(hdat) \n",
    "\n",
    "\n",
    "    chi2 = np.sqrt(chi_2_per_dof)\n",
    "\n",
    "    \n",
    "    if print_==True:\n",
    "        print('scaled chi2 per dof = \\t', chi2)\n",
    "    return chi2\n"
   ]
  },
  {
   "cell_type": "code",
   "execution_count": 7,
   "id": "c9cf3832-aa48-4925-82a1-44815beab20a",
   "metadata": {},
   "outputs": [],
   "source": [
    "def overall_chi2_observed_pred(sim_yoda_file='ALEPH_1996_S3486095_card_0.yoda', print_=True):\n",
    "    \"\"\" returns the chi2 between the actually observed data and the predicted simulation\"\"\"\n",
    "\n",
    "    hist_names = get_hist_names()\n",
    "    overall_chi2 = 0\n",
    "    for hist_name in hist_names:\n",
    "        data_hist_edges, data_hist, data_hist_errs = return_data_hist_yoda(hist_name=hist_name)\n",
    "        simulation_hist_edges, simulation_hist, simulation_hist_errs = return_simulation_hist_yoda(filename =sim_yoda_file , hist_name=hist_name)\n",
    "        chi2_ = chi2(data_hist,simulation_hist, simulation_hist_errs, print_=print_)\n",
    "        overall_chi2 = overall_chi2 +chi2_\n",
    "\n",
    "    if print_==True:\n",
    "        print('overall chi2= ', overall_chi2)\n",
    "    return overall_chi2"
   ]
  },
  {
   "cell_type": "code",
   "execution_count": 8,
   "id": "d458ccff-0296-4d64-b07e-3bf94783bc97",
   "metadata": {},
   "outputs": [],
   "source": [
    "def overall_chi2_shuffledpred_pred(sim_yoda_file='ALEPH_1996_S3486095_card_0.yoda', shuffled_sim_yoda_file = 'ALEPH_1996_S3486095_card_1.yoda',print_=True):\n",
    "    \"\"\" returns the chi2 between the simulated pre\"\"\"\n",
    "\n",
    "    hist_names = get_hist_names()\n",
    "    overall_chi2 = 0\n",
    "    for hist_name in hist_names:\n",
    "        data_hist_edges, data_hist, data_hist_errs = return_simulation_hist_yoda(filename =shuffled_sim_yoda_file , hist_name=hist_name)\n",
    "        simulation_hist_edges, simulation_hist, simulation_hist_errs = return_simulation_hist_yoda(filename =sim_yoda_file , hist_name=hist_name)\n",
    "        \n",
    "        chi2_ = chi2(data_hist,simulation_hist, simulation_hist_errs, print_=print_)\n",
    "        overall_chi2 = overall_chi2 +chi2_\n",
    "\n",
    "    if print_==True:\n",
    "        print('overall chi2= ', overall_chi2)\n",
    "    return overall_chi2"
   ]
  },
  {
   "cell_type": "code",
   "execution_count": 10,
   "id": "622397d2-fdb1-43c5-a22b-6a9e882ed5f2",
   "metadata": {},
   "outputs": [],
   "source": [
    "def extract_numbers(s):\n",
    "    import re\n",
    "    \n",
    "    return [int(x) if x.isdigit() else x for x in re.split('([0-9]+)', s)]"
   ]
  },
  {
   "cell_type": "code",
   "execution_count": 31,
   "id": "4f85476a-6768-462e-bd0e-5634b800fca3",
   "metadata": {},
   "outputs": [
    {
     "data": {
      "text/html": [
       "<div>\n",
       "<style scoped>\n",
       "    .dataframe tbody tr th:only-of-type {\n",
       "        vertical-align: middle;\n",
       "    }\n",
       "\n",
       "    .dataframe tbody tr th {\n",
       "        vertical-align: top;\n",
       "    }\n",
       "\n",
       "    .dataframe thead th {\n",
       "        text-align: right;\n",
       "    }\n",
       "</style>\n",
       "<table border=\"1\" class=\"dataframe\">\n",
       "  <thead>\n",
       "    <tr style=\"text-align: right;\">\n",
       "      <th></th>\n",
       "      <th>a</th>\n",
       "      <th>b</th>\n",
       "    </tr>\n",
       "  </thead>\n",
       "  <tbody>\n",
       "    <tr>\n",
       "      <th>0</th>\n",
       "      <td>0.890731</td>\n",
       "      <td>1.773921</td>\n",
       "    </tr>\n",
       "    <tr>\n",
       "      <th>1</th>\n",
       "      <td>1.306220</td>\n",
       "      <td>1.490305</td>\n",
       "    </tr>\n",
       "    <tr>\n",
       "      <th>2</th>\n",
       "      <td>1.653587</td>\n",
       "      <td>0.538929</td>\n",
       "    </tr>\n",
       "    <tr>\n",
       "      <th>3</th>\n",
       "      <td>0.666805</td>\n",
       "      <td>1.375998</td>\n",
       "    </tr>\n",
       "    <tr>\n",
       "      <th>4</th>\n",
       "      <td>1.105232</td>\n",
       "      <td>1.243956</td>\n",
       "    </tr>\n",
       "  </tbody>\n",
       "</table>\n",
       "</div>"
      ],
      "text/plain": [
       "          a         b\n",
       "0  0.890731  1.773921\n",
       "1  1.306220  1.490305\n",
       "2  1.653587  0.538929\n",
       "3  0.666805  1.375998\n",
       "4  1.105232  1.243956"
      ]
     },
     "execution_count": 31,
     "metadata": {},
     "output_type": "execute_result"
    }
   ],
   "source": [
    "df = pd.read_csv(os.path.join(os.getcwd(), 'a_b_samples_uniform_1.csv'))[['a','b']]\n",
    "df.head()"
   ]
  },
  {
   "cell_type": "markdown",
   "id": "2060f5d4-2832-4358-a675-d5e68157dda3",
   "metadata": {},
   "source": [
    "## we need 3 test statistics\n",
    "1. $\\lambda_{\\text{Observed, pred}}$ is between the actually observed (fixed) data and the prediction at $\\theta_i$ \n",
    "\n",
    "$$ \\lambda_{\\text{Observed, pred}}(D;\\theta_i)=\\sum_{\\mathcal{O}} \\sqrt{ \\frac{1}{|b|} \\sum_{b \\in \\mathcal{O}}\\left(\\frac{\\text{MC}_{(b)}\\left(\\theta_i\\right)-\\text{Data}_{(b)}}{\\Delta_{\\text{MC}, b}}\\right)^2}$$\n",
    "\n",
    "where $\\text{MC}_{(b)}\\left(\\theta_i\\right)$ denotes the MC prediction for observable $\\mathcal{O}$ at bin $b$, which depends on the parameters $\\theta_i = \\{ a_i, b_i \\}$, and $\\Delta_{\\text{MC} \\ b}$ represents the error in the MC prediction in the bin $b$, and $|b|$ represents the number of bins in observable $\\mathcal{O}$'s histogram.\n",
    "\n",
    "2. $\\lambda_{\\text{shuffled-pred, pred}}$ is between the prediction at $\\theta_i$ and the prediction at a shuffled point $\\theta^*$\n",
    "\n",
    "$$ \\lambda_{\\text{shuffled-pred, pred}}(\\mathcal{D};\\theta_i) =\\sum_{\\mathcal{O}} \\sqrt{ \\frac{1}{|b|} \\sum_{b \\in \\mathcal{O}}\\left(\\frac{\\text{MC}_{(b)}\\left(\\theta_i\\right)-\\text{MC}_{(b)}\\left(\\theta_i^*\\right)}{\\Delta_{\\text{MC}, b}}\\right)^2}$$\n",
    "\n",
    "where $\\text{MC}_{(b)}\\left(\\theta_i^*\\right)$ is the MC prediction at a shuffled parameter point $\\theta^*$.\n",
    "\n",
    "3. $\\lambda_{\\text{simulated-observed, pred}}(\\mathcal{D};\\theta_i)$\n",
    "\n",
    "$$ \\lambda_{\\text{simulated-observed, pred}}(\\mathcal{D};\\theta_i)=\\sum_{\\mathcal{O}} \\sqrt{ \\frac{1}{|b|} \\sum_{b \\in \\mathcal{O}}\\left(\\frac{\\text{MC}_{(b)}\\left(\\theta_i\\right)-\\text{SimulatedData}_{(b)}}{\\Delta_{\\text{MC}, b}}\\right)^2}$$"
   ]
  },
  {
   "cell_type": "code",
   "execution_count": null,
   "id": "49e461ee-117e-44b5-b716-cf6a28c2a102",
   "metadata": {},
   "outputs": [],
   "source": []
  }
 ],
 "metadata": {
  "kernelspec": {
   "display_name": "Python 3 (ipykernel)",
   "language": "python",
   "name": "python3"
  },
  "language_info": {
   "codemirror_mode": {
    "name": "ipython",
    "version": 3
   },
   "file_extension": ".py",
   "mimetype": "text/x-python",
   "name": "python",
   "nbconvert_exporter": "python",
   "pygments_lexer": "ipython3",
   "version": "3.10.12"
  }
 },
 "nbformat": 4,
 "nbformat_minor": 5
}
