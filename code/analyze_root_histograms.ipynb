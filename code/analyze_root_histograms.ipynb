{
 "cells": [
  {
   "cell_type": "code",
   "execution_count": 324,
   "id": "bc64df48-e75e-466b-ae04-9406aa04783b",
   "metadata": {},
   "outputs": [],
   "source": [
    "import ROOT\n",
    "import os\n",
    "import uproot\n",
    "import numpy as np\n",
    "import matplotlib.pyplot as plt"
   ]
  },
  {
   "cell_type": "code",
   "execution_count": 10,
   "id": "e7b9914d-aa01-43bc-b4a5-9965b168fbc1",
   "metadata": {},
   "outputs": [
    {
     "name": "stdout",
     "output_type": "stream",
     "text": [
      "['d01-x01-y01', 'd02-x01-y01', 'd03-x01-y01', 'd04-x01-y01', 'd05-x01-y01', 'd06-x01-y01', 'd07-x01-y01', 'd08-x01-y01', 'd09-x01-y01', 'd10-x01-y01', 'd11-x01-y01', 'd12-x01-y01', 'd13-x01-y01', 'd14-x01-y01', 'd15-x01-y01', 'd16-x01-y01', 'd17-x01-y01', 'd18-x01-y01', 'd19-x01-y01', 'd20-x01-y01', 'd21-x01-y01', 'd22-x01-y01', 'd23-x01-y01', 'd24-x01-y01', 'd25-x01-y01', 'd26-x01-y01', 'd27-x01-y01', 'd28-x01-y01', 'd29-x01-y01', 'd30-x01-y01', 'd31-x01-y01', 'd32-x01-y01', 'd33-x01-y01', 'd34-x01-y01', 'd35-x01-y01', 'd36-x01-y01', 'd37-x01-y01', 'd38-x01-y01', 'd39-x01-y01', 'd40-x01-y01', 'd41-x01-y01', 'd42-x01-y01', 'd43-x01-y01']\n"
     ]
    }
   ],
   "source": [
    "l=[]\n",
    "for i in range(1,44):\n",
    "    l.append('d{:02d}-x01-y01'.format(i) )\n",
    "print(l)"
   ]
  },
  {
   "cell_type": "code",
   "execution_count": 245,
   "id": "c6fb7df9-5f00-48dd-8adc-eddd28c58535",
   "metadata": {},
   "outputs": [],
   "source": [
    "data_hist_path = os.path.join(os.getcwd(), 'rivet_histograms', 'data', 'ALEPH_1996_S3486095.root')\n",
    "data_hist= ROOT.TFile(data_hist_path, \"READ\")"
   ]
  },
  {
   "cell_type": "code",
   "execution_count": 246,
   "id": "7c666f34-e5f6-4a7a-b833-fccd906d33dd",
   "metadata": {},
   "outputs": [],
   "source": [
    "tree_name_data='REFALEPH_1996_S3486095'\n",
    "# tree = data_hist.Cd('REFALEPH_1996_S3486095')"
   ]
  },
  {
   "cell_type": "code",
   "execution_count": 315,
   "id": "0ae42819-9066-4bca-a788-6d27e8ea64b6",
   "metadata": {},
   "outputs": [],
   "source": [
    "data_hist0 = data_hist.Get('%s/d01-x01-y01' % tree_name_data)"
   ]
  },
  {
   "cell_type": "code",
   "execution_count": 316,
   "id": "588e345b-2cf8-4fb5-b893-e3f2b1d71e58",
   "metadata": {},
   "outputs": [
    {
     "name": "stdout",
     "output_type": "stream",
     "text": [
      "x[0]=0.0025, y[0]=12.36, exl[0]=0.0025, exh[0]=0.0025, eyl[0]=0.407922, eyh[0]=0.407922\n",
      "x[1]=0.0075, y[1]=23.33, exl[1]=0.0025, exh[1]=0.0025, eyl[1]=0.254951, eyh[1]=0.254951\n",
      "x[2]=0.0125, y[2]=20.23, exl[2]=0.0025, exh[2]=0.0025, eyl[2]=0.156205, eyh[2]=0.156205\n",
      "x[3]=0.0175, y[3]=16.69, exl[3]=0.0025, exh[3]=0.0025, eyl[3]=0.120416, eyh[3]=0.120416\n",
      "x[4]=0.0225, y[4]=13.41, exl[4]=0.0025, exh[4]=0.0025, eyl[4]=0.1, eyh[4]=0.1\n",
      "x[5]=0.0275, y[5]=10.79, exl[5]=0.0025, exh[5]=0.0025, eyl[5]=0.0989949, eyh[5]=0.0989949\n",
      "x[6]=0.0325, y[6]=8.87, exl[6]=0.0025, exh[6]=0.0025, eyl[6]=0.0940479, eyh[6]=0.0940479\n",
      "x[7]=0.0375, y[7]=7.408, exl[7]=0.0025, exh[7]=0.0025, eyl[7]=0.0891964, eyh[7]=0.0891964\n",
      "x[8]=0.045, y[8]=5.922, exl[8]=0.005, exh[8]=0.005, eyl[8]=0.0693397, eyh[8]=0.0693397\n",
      "x[9]=0.055, y[9]=4.508, exl[9]=0.005, exh[9]=0.005, eyl[9]=0.0526308, eyh[9]=0.0526308\n",
      "x[10]=0.07, y[10]=3.258, exl[10]=0.01, exh[10]=0.01, eyl[10]=0.0304795, eyh[10]=0.0304795\n",
      "x[11]=0.09, y[11]=2.317, exl[11]=0.01, exh[11]=0.01, eyl[11]=0.0233452, eyh[11]=0.0233452\n",
      "x[12]=0.11, y[12]=1.742, exl[12]=0.01, exh[12]=0.01, eyl[12]=0.0226716, eyh[12]=0.0226716\n",
      "x[13]=0.14, y[13]=1.211, exl[13]=0.02, exh[13]=0.02, eyl[13]=0.0183576, eyh[13]=0.0183576\n",
      "x[14]=0.18, y[14]=0.8132, exl[14]=0.02, exh[14]=0.02, eyl[14]=0.0152069, eyh[14]=0.0152069\n",
      "x[15]=0.225, y[15]=0.5626, exl[15]=0.025, exh[15]=0.025, eyl[15]=0.0127122, eyh[15]=0.0127122\n",
      "x[16]=0.275, y[16]=0.3973, exl[16]=0.025, exh[16]=0.025, eyl[16]=0.010246, eyh[16]=0.010246\n",
      "x[17]=0.325, y[17]=0.2903, exl[17]=0.025, exh[17]=0.025, eyl[17]=0.00778267, eyh[17]=0.00778267\n",
      "x[18]=0.375, y[18]=0.2224, exl[18]=0.025, exh[18]=0.025, eyl[18]=0.00619112, eyh[18]=0.00619112\n",
      "x[19]=0.45, y[19]=0.1476, exl[19]=0.05, exh[19]=0.05, eyl[19]=0.00398246, eyh[19]=0.00398246\n",
      "x[20]=0.55, y[20]=0.0861, exl[20]=0.05, exh[20]=0.05, eyl[20]=0.00244131, eyh[20]=0.00244131\n",
      "x[21]=0.65, y[21]=0.0447, exl[21]=0.05, exh[21]=0.05, eyl[21]=0.00148661, eyh[21]=0.00148661\n",
      "x[22]=0.75, y[22]=0.0116, exl[22]=0.05, exh[22]=0.05, eyl[22]=0.000781025, eyh[22]=0.000781025\n"
     ]
    }
   ],
   "source": [
    "data_hist0.Print()"
   ]
  },
  {
   "cell_type": "code",
   "execution_count": 15,
   "id": "4a680690-b969-4adf-9d74-6f25b47ddff1",
   "metadata": {},
   "outputs": [],
   "source": [
    "data_hist.Close()"
   ]
  },
  {
   "cell_type": "code",
   "execution_count": 325,
   "id": "25a92d08-8d1e-4f91-abc9-6d88385099c7",
   "metadata": {},
   "outputs": [
    {
     "name": "stdout",
     "output_type": "stream",
     "text": [
      "TH1.Print Name  = /ALEPH_1996_S3486095/d01-x01-y01, Entries= 25, Total sum= 0.99992\n"
     ]
    },
    {
     "name": "stderr",
     "output_type": "stream",
     "text": [
      "Error in <TList::Clear>: A list is accessing an object (0x5620828ed300) already deleted (list name = TList)\n",
      "Error in <TList::Clear>: A list is accessing an object (0x5620828f5870) already deleted (list name = TList)\n",
      "Error in <TList::Clear>: A list is accessing an object (0x562080412fe0) already deleted (list name = TList)\n",
      "Error in <TList::Clear>: A list is accessing an object (0x5620803de050) already deleted (list name = TList)\n",
      "Error in <TList::Clear>: A list is accessing an object (0x56207d3d2d70) already deleted (list name = TList)\n",
      "Error in <TList::Clear>: A list is accessing an object (0x56207f581630) already deleted (list name = TList)\n",
      "Error in <TList::Clear>: A list is accessing an object (0x562080c178b0) already deleted (list name = TList)\n",
      "Error in <TList::Clear>: A list is accessing an object (0x562080c17d50) already deleted (list name = TList)\n",
      "Error in <TList::Clear>: A list is accessing an object (0x562080c18bc0) already deleted (list name = TList)\n",
      "Error in <TList::Clear>: A list is accessing an object (0x562080c19830) already deleted (list name = TList)\n",
      "Error in <TList::Clear>: A list is accessing an object (0x562080c19ba0) already deleted (list name = TList)\n",
      "Error in <TList::Clear>: A list is accessing an object (0x562080c19f10) already deleted (list name = TList)\n",
      "Error in <TList::Clear>: A list is accessing an object (0x562080c1a280) already deleted (list name = TList)\n",
      "Error in <TList::Clear>: A list is accessing an object (0x562080c1a7b0) already deleted (list name = TList)\n",
      "Error in <THashList::Delete>: A list is accessing an object (0x56207f78b5f0) already deleted (list name = THashList)\n"
     ]
    }
   ],
   "source": [
    "tree_name_simulation='ALEPH_1996_S3486095'\n",
    "\n",
    "simulation_hist_path = os.path.join(os.getcwd(), 'rivet_histograms', 'simulation', 'ALEPH_1996_S3486095_card_0.root')\n",
    "simulation_hist= ROOT.TFile(simulation_hist_path, \"READ\")\n",
    "simulation_hist0=simulation_hist.Get('%s/d01-x01-y01' % tree_name_simulation)\n",
    "simulation_hist0.Print()\n",
    "simulation_hist.Close()"
   ]
  },
  {
   "cell_type": "code",
   "execution_count": 19,
   "id": "cdf45dd3-c816-4c28-90f1-ac2614050e79",
   "metadata": {},
   "outputs": [
    {
     "name": "stdout",
     "output_type": "stream",
     "text": [
      "TH1.Print Name  = /ALEPH_1996_S3486095/d02-x01-y01, Entries= 18, Total sum= 0.9998\n"
     ]
    }
   ],
   "source": [
    "simulation_hist0.Print()"
   ]
  },
  {
   "cell_type": "markdown",
   "id": "eabfbdfe-14ed-4893-a460-888255cae270",
   "metadata": {},
   "source": [
    "# using uproot"
   ]
  },
  {
   "cell_type": "code",
   "execution_count": 115,
   "id": "0083da8e-6a24-40e7-a166-fcdb575fb3cf",
   "metadata": {},
   "outputs": [],
   "source": [
    "hist_name='d01-x01-y01'\n",
    "data_hist_path = os.path.join(os.getcwd(), 'rivet_histograms', 'data', 'ALEPH_1996_S3486095.root')\n",
    "tree_name_data='REFALEPH_1996_S3486095'\n",
    "uproot_file = uproot.open(data_hist_path)\n",
    "full_hist_name = '%s/%s' % (tree_name_data, hist_name)\n",
    "uproot_hist = uproot_file[full_hist_name]"
   ]
  },
  {
   "cell_type": "code",
   "execution_count": 120,
   "id": "0e5f3467-e4e7-4478-a225-a6ba8c668bcf",
   "metadata": {},
   "outputs": [
    {
     "data": {
      "text/plain": [
       "(array([0.0025    , 0.0075    , 0.0125    , 0.0175    , 0.0225    ,\n",
       "        0.0275    , 0.0325    , 0.0375    , 0.045     , 0.055     ,\n",
       "        0.07      , 0.09      , 0.11      , 0.14      , 0.18000001,\n",
       "        0.22499999, 0.27500001, 0.32499999, 0.375     , 0.44999999,\n",
       "        0.55000001, 0.64999998, 0.75      ]),\n",
       " array([1.23599997e+01, 2.33299999e+01, 2.02299995e+01, 1.66900005e+01,\n",
       "        1.34099998e+01, 1.07900000e+01, 8.86999989e+00, 7.40799999e+00,\n",
       "        5.92199993e+00, 4.50799990e+00, 3.25799990e+00, 2.31699991e+00,\n",
       "        1.74199998e+00, 1.21099997e+00, 8.13199997e-01, 5.62600017e-01,\n",
       "        3.97300005e-01, 2.90300012e-01, 2.22399995e-01, 1.47599995e-01,\n",
       "        8.60999972e-02, 4.47000004e-02, 1.15999999e-02]))"
      ]
     },
     "execution_count": 120,
     "metadata": {},
     "output_type": "execute_result"
    }
   ],
   "source": [
    "uproot_hist.values()"
   ]
  },
  {
   "cell_type": "code",
   "execution_count": 195,
   "id": "51e2a778-cbb1-43d8-920c-f0dcb82d4071",
   "metadata": {},
   "outputs": [],
   "source": [
    "def return_data_hist(hist_name='d01-x01-y01'):\n",
    "    print('data hist name = ', hist_name)\n",
    "    data_hist_path = os.path.join(os.getcwd(), 'rivet_histograms', 'data', 'ALEPH_1996_S3486095.root')\n",
    "    tree_name_data='REFALEPH_1996_S3486095'\n",
    "    uproot_file = uproot.open(data_hist_path)\n",
    "    full_hist_name = '%s/%s' % (tree_name_data, hist_name)\n",
    "    uproot_hist = uproot_file[full_hist_name]\n",
    "    hist_edges = uproot_hist.values()[0]\n",
    "    hist_values = uproot_hist.values()[1]\n",
    "    uproot_file.close()\n",
    "    return hist_edges, hist_values"
   ]
  },
  {
   "cell_type": "code",
   "execution_count": 296,
   "id": "3b4e213e-a51d-48e9-bc63-7f6cddad3771",
   "metadata": {},
   "outputs": [
    {
     "name": "stdout",
     "output_type": "stream",
     "text": [
      "simulation hist name =  d01-x01-y01\n"
     ]
    },
    {
     "data": {
      "text/plain": [
       "['ALEPH_1996_S3486095;1',\n",
       " 'ALEPH_1996_S3486095/d01-x01-y01;1',\n",
       " 'ALEPH_1996_S3486095/d02-x01-y01;1',\n",
       " 'ALEPH_1996_S3486095/d03-x01-y01;1',\n",
       " 'ALEPH_1996_S3486095/d04-x01-y01;1',\n",
       " 'ALEPH_1996_S3486095/d05-x01-y01;1',\n",
       " 'ALEPH_1996_S3486095/d06-x01-y01;1',\n",
       " 'ALEPH_1996_S3486095/d07-x01-y01;1',\n",
       " 'ALEPH_1996_S3486095/d08-x01-y01;1',\n",
       " 'ALEPH_1996_S3486095/d09-x01-y01;1',\n",
       " 'ALEPH_1996_S3486095/d10-x01-y01;1',\n",
       " 'ALEPH_1996_S3486095/d11-x01-y01;1',\n",
       " 'ALEPH_1996_S3486095/d12-x01-y01;1',\n",
       " 'ALEPH_1996_S3486095/d17-x01-y01;1',\n",
       " 'ALEPH_1996_S3486095/d18-x01-y01;1',\n",
       " 'ALEPH_1996_S3486095/d19-x01-y01;1',\n",
       " 'ALEPH_1996_S3486095/d20-x01-y01;1',\n",
       " 'ALEPH_1996_S3486095/d21-x01-y01;1',\n",
       " 'ALEPH_1996_S3486095/d22-x01-y01;1',\n",
       " 'ALEPH_1996_S3486095/d23-x01-y01;1',\n",
       " 'ALEPH_1996_S3486095/d25-x01-y01;1',\n",
       " 'ALEPH_1996_S3486095/d26-x01-y01;1',\n",
       " 'ALEPH_1996_S3486095/d27-x01-y01;1',\n",
       " 'ALEPH_1996_S3486095/d28-x01-y01;1',\n",
       " 'ALEPH_1996_S3486095/d29-x01-y01;1',\n",
       " 'ALEPH_1996_S3486095/d30-x01-y01;1',\n",
       " 'ALEPH_1996_S3486095/d31-x01-y01;1',\n",
       " 'ALEPH_1996_S3486095/d32-x01-y01;1',\n",
       " 'ALEPH_1996_S3486095/d33-x01-y01;1',\n",
       " 'ALEPH_1996_S3486095/d34-x01-y01;1',\n",
       " 'ALEPH_1996_S3486095/d35-x01-y01;1',\n",
       " 'ALEPH_1996_S3486095/d36-x01-y01;1',\n",
       " 'ALEPH_1996_S3486095/d37-x01-y01;1',\n",
       " 'ALEPH_1996_S3486095/d38-x01-y01;1',\n",
       " 'ALEPH_1996_S3486095/d39-x01-y01;1',\n",
       " 'ALEPH_1996_S3486095/d40-x01-y01;1',\n",
       " 'ALEPH_1996_S3486095/d43-x01-y01;1',\n",
       " 'ALEPH_1996_S3486095/d44-x01-y02;1',\n",
       " 'ALEPH_1996_S3486095/d44-x01-y03;1',\n",
       " 'ALEPH_1996_S3486095/d44-x01-y04;1',\n",
       " 'ALEPH_1996_S3486095/d44-x01-y05;1',\n",
       " 'ALEPH_1996_S3486095/d44-x01-y06;1',\n",
       " 'ALEPH_1996_S3486095/d44-x01-y07;1',\n",
       " 'ALEPH_1996_S3486095/d44-x01-y08;1',\n",
       " 'ALEPH_1996_S3486095/d44-x01-y09;1',\n",
       " 'ALEPH_1996_S3486095/d44-x01-y10;1',\n",
       " 'ALEPH_1996_S3486095/d44-x01-y11;1',\n",
       " 'ALEPH_1996_S3486095/d44-x01-y12;1',\n",
       " 'ALEPH_1996_S3486095/d44-x01-y13;1',\n",
       " 'ALEPH_1996_S3486095/d44-x01-y14;1',\n",
       " 'ALEPH_1996_S3486095/d44-x01-y15;1',\n",
       " 'ALEPH_1996_S3486095/d44-x01-y16;1',\n",
       " 'RAWALEPH_1996_S3486095;1',\n",
       " 'RAWALEPH_1996_S3486095/d01-x01-y01;1',\n",
       " 'RAWALEPH_1996_S3486095/d02-x01-y01;1',\n",
       " 'RAWALEPH_1996_S3486095/d03-x01-y01;1',\n",
       " 'RAWALEPH_1996_S3486095/d04-x01-y01;1',\n",
       " 'RAWALEPH_1996_S3486095/d05-x01-y01;1',\n",
       " 'RAWALEPH_1996_S3486095/d06-x01-y01;1',\n",
       " 'RAWALEPH_1996_S3486095/d07-x01-y01;1',\n",
       " 'RAWALEPH_1996_S3486095/d08-x01-y01;1',\n",
       " 'RAWALEPH_1996_S3486095/d09-x01-y01;1',\n",
       " 'RAWALEPH_1996_S3486095/d10-x01-y01;1',\n",
       " 'RAWALEPH_1996_S3486095/d11-x01-y01;1',\n",
       " 'RAWALEPH_1996_S3486095/d12-x01-y01;1',\n",
       " 'RAWALEPH_1996_S3486095/d17-x01-y01;1',\n",
       " 'RAWALEPH_1996_S3486095/d18-x01-y01;1',\n",
       " 'RAWALEPH_1996_S3486095/d19-x01-y01;1',\n",
       " 'RAWALEPH_1996_S3486095/d20-x01-y01;1',\n",
       " 'RAWALEPH_1996_S3486095/d21-x01-y01;1',\n",
       " 'RAWALEPH_1996_S3486095/d22-x01-y01;1',\n",
       " 'RAWALEPH_1996_S3486095/d23-x01-y01;1',\n",
       " 'RAWALEPH_1996_S3486095/d25-x01-y01;1',\n",
       " 'RAWALEPH_1996_S3486095/d26-x01-y01;1',\n",
       " 'RAWALEPH_1996_S3486095/d27-x01-y01;1',\n",
       " 'RAWALEPH_1996_S3486095/d28-x01-y01;1',\n",
       " 'RAWALEPH_1996_S3486095/d29-x01-y01;1',\n",
       " 'RAWALEPH_1996_S3486095/d30-x01-y01;1',\n",
       " 'RAWALEPH_1996_S3486095/d31-x01-y01;1',\n",
       " 'RAWALEPH_1996_S3486095/d32-x01-y01;1',\n",
       " 'RAWALEPH_1996_S3486095/d33-x01-y01;1',\n",
       " 'RAWALEPH_1996_S3486095/d34-x01-y01;1',\n",
       " 'RAWALEPH_1996_S3486095/d35-x01-y01;1',\n",
       " 'RAWALEPH_1996_S3486095/d36-x01-y01;1',\n",
       " 'RAWALEPH_1996_S3486095/d37-x01-y01;1',\n",
       " 'RAWALEPH_1996_S3486095/d38-x01-y01;1',\n",
       " 'RAWALEPH_1996_S3486095/d39-x01-y01;1',\n",
       " 'RAWALEPH_1996_S3486095/d40-x01-y01;1',\n",
       " 'RAWALEPH_1996_S3486095/d43-x01-y01;1',\n",
       " 'RAWALEPH_1996_S3486095/d44-x01-y02;1',\n",
       " 'RAWALEPH_1996_S3486095/d44-x01-y03;1',\n",
       " 'RAWALEPH_1996_S3486095/d44-x01-y04;1',\n",
       " 'RAWALEPH_1996_S3486095/d44-x01-y05;1',\n",
       " 'RAWALEPH_1996_S3486095/d44-x01-y06;1',\n",
       " 'RAWALEPH_1996_S3486095/d44-x01-y07;1',\n",
       " 'RAWALEPH_1996_S3486095/d44-x01-y08;1',\n",
       " 'RAWALEPH_1996_S3486095/d44-x01-y09;1',\n",
       " 'RAWALEPH_1996_S3486095/d44-x01-y10;1',\n",
       " 'RAWALEPH_1996_S3486095/d44-x01-y11;1',\n",
       " 'RAWALEPH_1996_S3486095/d44-x01-y12;1',\n",
       " 'RAWALEPH_1996_S3486095/d44-x01-y13;1',\n",
       " 'RAWALEPH_1996_S3486095/d44-x01-y14;1',\n",
       " 'RAWALEPH_1996_S3486095/d44-x01-y15;1',\n",
       " 'RAWALEPH_1996_S3486095/d44-x01-y16;1']"
      ]
     },
     "execution_count": 296,
     "metadata": {},
     "output_type": "execute_result"
    }
   ],
   "source": [
    "filename ='ALEPH_1996_S3486095_card_0.root'; hist_name='d01-x01-y01'\n",
    "print('simulation hist name = ', hist_name)\n",
    "simulation_hist_path = os.path.join(os.getcwd(), 'rivet_histograms', 'simulation', filename)\n",
    "uproot_file = uproot.open(simulatibon_hist_path)\n",
    "uproot_file.keys()"
   ]
  },
  {
   "cell_type": "code",
   "execution_count": 321,
   "id": "7747bc99-e7cc-4ae7-85b1-7888aa4c8173",
   "metadata": {},
   "outputs": [
    {
     "data": {
      "text/plain": [
       "['__class__',\n",
       " '__delattr__',\n",
       " '__dict__',\n",
       " '__dir__',\n",
       " '__doc__',\n",
       " '__enter__',\n",
       " '__eq__',\n",
       " '__exit__',\n",
       " '__format__',\n",
       " '__ge__',\n",
       " '__getattribute__',\n",
       " '__getstate__',\n",
       " '__gt__',\n",
       " '__hash__',\n",
       " '__init__',\n",
       " '__init_subclass__',\n",
       " '__le__',\n",
       " '__lt__',\n",
       " '__module__',\n",
       " '__ne__',\n",
       " '__new__',\n",
       " '__reduce__',\n",
       " '__reduce_ex__',\n",
       " '__repr__',\n",
       " '__setattr__',\n",
       " '__setstate__',\n",
       " '__sizeof__',\n",
       " '__str__',\n",
       " '__subclasshook__',\n",
       " '__weakref__',\n",
       " '_bases',\n",
       " '_concrete',\n",
       " '_cursor',\n",
       " '_deeply_writable',\n",
       " '_file',\n",
       " '_instance_version',\n",
       " '_is_memberwise',\n",
       " '_members',\n",
       " '_num_bytes',\n",
       " '_parent',\n",
       " '_serialize',\n",
       " '_to_boost_histogram_',\n",
       " '_to_writable',\n",
       " '_to_writable_postprocess',\n",
       " '_values',\n",
       " '_values_variances',\n",
       " 'all_members',\n",
       " 'awkward_form',\n",
       " 'axes',\n",
       " 'axis',\n",
       " 'base',\n",
       " 'base_names_versions',\n",
       " 'bases',\n",
       " 'behaviors',\n",
       " 'check_numbytes',\n",
       " 'class_code',\n",
       " 'class_flags',\n",
       " 'class_rawstreamers',\n",
       " 'class_streamer',\n",
       " 'class_version',\n",
       " 'classname',\n",
       " 'close',\n",
       " 'closed',\n",
       " 'concrete',\n",
       " 'counts',\n",
       " 'cursor',\n",
       " 'empty',\n",
       " 'encoded_classname',\n",
       " 'errors',\n",
       " 'file',\n",
       " 'has_member',\n",
       " 'hook_after_read_members',\n",
       " 'hook_before_postprocess',\n",
       " 'hook_before_read',\n",
       " 'hook_before_read_members',\n",
       " 'instance_version',\n",
       " 'is_instance',\n",
       " 'is_memberwise',\n",
       " 'kind',\n",
       " 'member',\n",
       " 'member_names',\n",
       " 'members',\n",
       " 'name',\n",
       " 'num_bytes',\n",
       " 'parent',\n",
       " 'postprocess',\n",
       " 'read',\n",
       " 'read_member_n',\n",
       " 'read_members',\n",
       " 'read_numbytes_version',\n",
       " 'serialize',\n",
       " 'strided_interpretation',\n",
       " 'title',\n",
       " 'to_boost',\n",
       " 'to_hist',\n",
       " 'to_numpy',\n",
       " 'to_pyroot',\n",
       " 'to_writable',\n",
       " 'tojson',\n",
       " 'values',\n",
       " 'variances',\n",
       " 'weighted',\n",
       " 'writable']"
      ]
     },
     "execution_count": 321,
     "metadata": {},
     "output_type": "execute_result"
    }
   ],
   "source": [
    "h = uproot_file['ALEPH_1996_S3486095/d01-x01-y01']\n",
    "dir(h)"
   ]
  },
  {
   "cell_type": "code",
   "execution_count": 323,
   "id": "c5d73746-4dce-4b2d-92de-5e8be479d708",
   "metadata": {},
   "outputs": [
    {
     "data": {
      "text/plain": [
       "array([0.05933, 0.1181 , 0.10351, 0.08575, 0.06866, 0.05581, 0.04509,\n",
       "       0.03768, 0.06077, 0.04457, 0.06644, 0.04512, 0.03417, 0.04699,\n",
       "       0.03179, 0.02656, 0.01868, 0.01368, 0.01021, 0.01423, 0.00781,\n",
       "       0.00402, 0.00095])"
      ]
     },
     "execution_count": 323,
     "metadata": {},
     "output_type": "execute_result"
    }
   ],
   "source": [
    "h.counts()"
   ]
  },
  {
   "cell_type": "code",
   "execution_count": 322,
   "id": "436acccd-3475-4273-963f-3f08b74cbc80",
   "metadata": {},
   "outputs": [],
   "source": [
    "def return_simulation_hist(filename = 'ALEPH_1996_S3486095_card_0.root', hist_name='d01-x01-y01'):\n",
    "    print('simulation hist name = ', hist_name)\n",
    "    simulation_hist_path = os.path.join(os.getcwd(), 'rivet_histograms', 'simulation', filename)\n",
    "    uproot_file = uproot.open(simulation_hist_path)\n",
    "    tree_name_simulation='RAWALEPH_1996_S3486095'\n",
    "    \n",
    "    full_hist_name = '%s/%s' % (tree_name_simulation, hist_name)\n",
    "    uproot_hist = uproot_file[full_hist_name]\n",
    "    hist_values = uproot_hist.counts()\n",
    "    uproot_file.close()\n",
    "    return uproot_hist #?hist_values"
   ]
  },
  {
   "cell_type": "code",
   "execution_count": 272,
   "id": "2c96141b-e26e-49be-a213-6abc8c7846bf",
   "metadata": {},
   "outputs": [
    {
     "name": "stdout",
     "output_type": "stream",
     "text": [
      "data hist name =  d01-x01-y01\n"
     ]
    },
    {
     "data": {
      "text/plain": [
       "array([1.23599997e+01, 2.33299999e+01, 2.02299995e+01, 1.66900005e+01,\n",
       "       1.34099998e+01, 1.07900000e+01, 8.86999989e+00, 7.40799999e+00,\n",
       "       5.92199993e+00, 4.50799990e+00, 3.25799990e+00, 2.31699991e+00,\n",
       "       1.74199998e+00, 1.21099997e+00, 8.13199997e-01, 5.62600017e-01,\n",
       "       3.97300005e-01, 2.90300012e-01, 2.22399995e-01, 1.47599995e-01,\n",
       "       8.60999972e-02, 4.47000004e-02, 1.15999999e-02])"
      ]
     },
     "execution_count": 272,
     "metadata": {},
     "output_type": "execute_result"
    }
   ],
   "source": [
    "data_hist_0_edges, data_hist_0 = return_data_hist(hist_name='d01-x01-y01')\n",
    "data_hist_0"
   ]
  },
  {
   "cell_type": "code",
   "execution_count": 220,
   "id": "cbc6f3ac-7212-4636-9d8f-0520313a7935",
   "metadata": {},
   "outputs": [
    {
     "data": {
      "text/plain": [
       "array([ 1.29999995,  1.85000002,  2.54999995,  3.25      ,  3.95000005,\n",
       "        4.6500001 ,  5.3499999 ,  6.05000019,  6.8499999 ,  7.6500001 ,\n",
       "        8.35000038,  9.05000019,  9.85000038, 10.64999962])"
      ]
     },
     "execution_count": 220,
     "metadata": {},
     "output_type": "execute_result"
    }
   ],
   "source": [
    "data_hist_0_edges"
   ]
  },
  {
   "cell_type": "code",
   "execution_count": 278,
   "id": "b90e5f38-e749-4d59-ba21-cb6ba8feeee7",
   "metadata": {},
   "outputs": [
    {
     "name": "stdout",
     "output_type": "stream",
     "text": [
      "simulation hist name =  d01-x01-y01\n"
     ]
    },
    {
     "data": {
      "text/plain": [
       "<TH1D (version 3) at 0x7efd30fb2250>"
      ]
     },
     "execution_count": 278,
     "metadata": {},
     "output_type": "execute_result"
    }
   ],
   "source": [
    "simulation_hist_0 = return_simulation_hist(hist_name='d01-x01-y01')\n",
    "simulation_hist_0"
   ]
  },
  {
   "cell_type": "code",
   "execution_count": 279,
   "id": "b6fd4ab7-107d-4dad-a9db-9407afc31261",
   "metadata": {},
   "outputs": [
    {
     "data": {
      "text/plain": [
       "['__class__',\n",
       " '__delattr__',\n",
       " '__dict__',\n",
       " '__dir__',\n",
       " '__doc__',\n",
       " '__enter__',\n",
       " '__eq__',\n",
       " '__exit__',\n",
       " '__format__',\n",
       " '__ge__',\n",
       " '__getattribute__',\n",
       " '__getstate__',\n",
       " '__gt__',\n",
       " '__hash__',\n",
       " '__init__',\n",
       " '__init_subclass__',\n",
       " '__le__',\n",
       " '__lt__',\n",
       " '__module__',\n",
       " '__ne__',\n",
       " '__new__',\n",
       " '__reduce__',\n",
       " '__reduce_ex__',\n",
       " '__repr__',\n",
       " '__setattr__',\n",
       " '__setstate__',\n",
       " '__sizeof__',\n",
       " '__str__',\n",
       " '__subclasshook__',\n",
       " '__weakref__',\n",
       " '_bases',\n",
       " '_concrete',\n",
       " '_cursor',\n",
       " '_deeply_writable',\n",
       " '_file',\n",
       " '_instance_version',\n",
       " '_is_memberwise',\n",
       " '_members',\n",
       " '_num_bytes',\n",
       " '_parent',\n",
       " '_serialize',\n",
       " '_to_boost_histogram_',\n",
       " '_to_writable',\n",
       " '_to_writable_postprocess',\n",
       " '_values',\n",
       " '_values_variances',\n",
       " 'all_members',\n",
       " 'awkward_form',\n",
       " 'axes',\n",
       " 'axis',\n",
       " 'base',\n",
       " 'base_names_versions',\n",
       " 'bases',\n",
       " 'behaviors',\n",
       " 'check_numbytes',\n",
       " 'class_code',\n",
       " 'class_flags',\n",
       " 'class_rawstreamers',\n",
       " 'class_streamer',\n",
       " 'class_version',\n",
       " 'classname',\n",
       " 'close',\n",
       " 'closed',\n",
       " 'concrete',\n",
       " 'counts',\n",
       " 'cursor',\n",
       " 'empty',\n",
       " 'encoded_classname',\n",
       " 'errors',\n",
       " 'file',\n",
       " 'has_member',\n",
       " 'hook_after_read_members',\n",
       " 'hook_before_postprocess',\n",
       " 'hook_before_read',\n",
       " 'hook_before_read_members',\n",
       " 'instance_version',\n",
       " 'is_instance',\n",
       " 'is_memberwise',\n",
       " 'kind',\n",
       " 'member',\n",
       " 'member_names',\n",
       " 'members',\n",
       " 'name',\n",
       " 'num_bytes',\n",
       " 'parent',\n",
       " 'postprocess',\n",
       " 'read',\n",
       " 'read_member_n',\n",
       " 'read_members',\n",
       " 'read_numbytes_version',\n",
       " 'serialize',\n",
       " 'strided_interpretation',\n",
       " 'title',\n",
       " 'to_boost',\n",
       " 'to_hist',\n",
       " 'to_numpy',\n",
       " 'to_pyroot',\n",
       " 'to_writable',\n",
       " 'tojson',\n",
       " 'values',\n",
       " 'variances',\n",
       " 'weighted',\n",
       " 'writable']"
      ]
     },
     "execution_count": 279,
     "metadata": {},
     "output_type": "execute_result"
    }
   ],
   "source": [
    "dir(simulation_hist_0)"
   ]
  },
  {
   "cell_type": "code",
   "execution_count": 287,
   "id": "4c69f488-920d-4533-acbe-01da06de6c45",
   "metadata": {},
   "outputs": [],
   "source": [
    "simulation_hist_0_np = simulation_hist_0.to_numpy()"
   ]
  },
  {
   "cell_type": "code",
   "execution_count": 289,
   "id": "b159a634-3d16-4bc8-b4ef-f17f086cb2da",
   "metadata": {},
   "outputs": [
    {
     "data": {
      "text/plain": [
       "(array([ 5933., 11810., 10351.,  8575.,  6866.,  5581.,  4509.,  3768.,\n",
       "         6077.,  4457.,  6644.,  4512.,  3417.,  4699.,  3179.,  2656.,\n",
       "         1868.,  1368.,  1021.,  1423.,   781.,   402.,    95.]),\n",
       " array([0.   , 0.005, 0.01 , 0.015, 0.02 , 0.025, 0.03 , 0.035, 0.04 ,\n",
       "        0.05 , 0.06 , 0.08 , 0.1  , 0.12 , 0.16 , 0.2  , 0.25 , 0.3  ,\n",
       "        0.35 , 0.4  , 0.5  , 0.6  , 0.7  , 0.8  ]))"
      ]
     },
     "execution_count": 289,
     "metadata": {},
     "output_type": "execute_result"
    }
   ],
   "source": [
    "simulation_hist_0_np"
   ]
  },
  {
   "cell_type": "code",
   "execution_count": 200,
   "id": "762429e2-80b6-4fbe-aae9-0eb541b78e91",
   "metadata": {},
   "outputs": [],
   "source": [
    "def chi2(data_hist, sim_hist):\n",
    "    assert len(data_hist) == len(sim_hist)\n",
    "    num = (data_hist - sim_hist)**2\n",
    "    den = data_hist + 1E-20\n",
    "    return np.sum(num/den)\n"
   ]
  },
  {
   "cell_type": "code",
   "execution_count": 229,
   "id": "2457e1f1-701f-4f34-8859-6fa337e2ffe6",
   "metadata": {},
   "outputs": [],
   "source": [
    "def get_hist_names():\n",
    "    hist_names=[]\n",
    "    for i in range(1,44):\n",
    "        hist_names.append('d{:02d}-x01-y01'.format(i) )\n",
    "        #13-16 and 24 not present in yoda files\n",
    "    hist_names.remove('d13-x01-y01')\n",
    "    hist_names.remove('d14-x01-y01')\n",
    "    hist_names.remove('d15-x01-y01')\n",
    "    hist_names.remove('d16-x01-y01')\n",
    "    hist_names.remove('d24-x01-y01')\n",
    "    # d25-x01-y01 gives error of unequal lengths\n",
    "    hist_names.remove('d25-x01-y01')\n",
    "    hist_names.remove('d26-x01-y01')\n",
    "    hist_names.remove('d27-x01-y01')\n",
    "    hist_names.remove('d41-x01-y01')\n",
    "    hist_names.remove('d42-x01-y01')\n",
    "\n",
    "    return hist_names"
   ]
  },
  {
   "cell_type": "code",
   "execution_count": 230,
   "id": "41a821d5-e3a8-42d3-b006-6b0a095bcfb3",
   "metadata": {},
   "outputs": [],
   "source": [
    "def overall_chi2(sim_root_file='ALEPH_1996_S3486095_card_0.root'):\n",
    "    \"\"\" over all histograms\"\"\"\n",
    "\n",
    "    hist_names = get_hist_names()\n",
    "    overall_chi2 = 0\n",
    "    for hist_name in hist_names:\n",
    "        data_hist_edges, data_hist = return_data_hist(hist_name=hist_name)\n",
    "        simulation_hist = return_simulation_hist(filename =sim_root_file , hist_name=hist_name)\n",
    "        chi2_ = chi2(data_hist,simulation_hist)\n",
    "        overall_chi2 += chi2_\n",
    "        \n",
    "    return overall_chi2"
   ]
  },
  {
   "cell_type": "code",
   "execution_count": 231,
   "id": "47e03b3f-5395-4cb4-9d5c-c231844f4b6c",
   "metadata": {},
   "outputs": [
    {
     "data": {
      "text/plain": [
       "0.11452281895412281"
      ]
     },
     "execution_count": 231,
     "metadata": {},
     "output_type": "execute_result"
    }
   ],
   "source": [
    "chi2(data_hist_0, simulation_hist_0)"
   ]
  },
  {
   "cell_type": "code",
   "execution_count": 232,
   "id": "1f765d98-8961-451a-a720-86cdbfd5aee6",
   "metadata": {},
   "outputs": [
    {
     "name": "stdout",
     "output_type": "stream",
     "text": [
      "data hist name =  d01-x01-y01\n",
      "simulation hist name =  d01-x01-y01\n",
      "data hist name =  d02-x01-y01\n",
      "simulation hist name =  d02-x01-y01\n",
      "data hist name =  d03-x01-y01\n",
      "simulation hist name =  d03-x01-y01\n",
      "data hist name =  d04-x01-y01\n",
      "simulation hist name =  d04-x01-y01\n",
      "data hist name =  d05-x01-y01\n",
      "simulation hist name =  d05-x01-y01\n",
      "data hist name =  d06-x01-y01\n",
      "simulation hist name =  d06-x01-y01\n",
      "data hist name =  d07-x01-y01\n",
      "simulation hist name =  d07-x01-y01\n",
      "data hist name =  d08-x01-y01\n",
      "simulation hist name =  d08-x01-y01\n",
      "data hist name =  d09-x01-y01\n",
      "simulation hist name =  d09-x01-y01\n",
      "data hist name =  d10-x01-y01\n",
      "simulation hist name =  d10-x01-y01\n",
      "data hist name =  d11-x01-y01\n",
      "simulation hist name =  d11-x01-y01\n",
      "data hist name =  d12-x01-y01\n",
      "simulation hist name =  d12-x01-y01\n",
      "data hist name =  d17-x01-y01\n",
      "simulation hist name =  d17-x01-y01\n",
      "data hist name =  d18-x01-y01\n",
      "simulation hist name =  d18-x01-y01\n",
      "data hist name =  d19-x01-y01\n",
      "simulation hist name =  d19-x01-y01\n",
      "data hist name =  d20-x01-y01\n",
      "simulation hist name =  d20-x01-y01\n",
      "data hist name =  d21-x01-y01\n",
      "simulation hist name =  d21-x01-y01\n",
      "data hist name =  d22-x01-y01\n",
      "simulation hist name =  d22-x01-y01\n",
      "data hist name =  d23-x01-y01\n",
      "simulation hist name =  d23-x01-y01\n",
      "data hist name =  d28-x01-y01\n",
      "simulation hist name =  d28-x01-y01\n",
      "data hist name =  d29-x01-y01\n",
      "simulation hist name =  d29-x01-y01\n",
      "data hist name =  d30-x01-y01\n",
      "simulation hist name =  d30-x01-y01\n",
      "data hist name =  d31-x01-y01\n",
      "simulation hist name =  d31-x01-y01\n",
      "data hist name =  d32-x01-y01\n",
      "simulation hist name =  d32-x01-y01\n",
      "data hist name =  d33-x01-y01\n",
      "simulation hist name =  d33-x01-y01\n",
      "data hist name =  d34-x01-y01\n",
      "simulation hist name =  d34-x01-y01\n",
      "data hist name =  d35-x01-y01\n",
      "simulation hist name =  d35-x01-y01\n",
      "data hist name =  d36-x01-y01\n",
      "simulation hist name =  d36-x01-y01\n",
      "data hist name =  d37-x01-y01\n",
      "simulation hist name =  d37-x01-y01\n",
      "data hist name =  d38-x01-y01\n",
      "simulation hist name =  d38-x01-y01\n",
      "data hist name =  d39-x01-y01\n",
      "simulation hist name =  d39-x01-y01\n",
      "data hist name =  d40-x01-y01\n",
      "simulation hist name =  d40-x01-y01\n",
      "data hist name =  d43-x01-y01\n",
      "simulation hist name =  d43-x01-y01\n"
     ]
    },
    {
     "data": {
      "text/plain": [
       "7551.839713325248"
      ]
     },
     "execution_count": 232,
     "metadata": {},
     "output_type": "execute_result"
    }
   ],
   "source": [
    "overall_chi2()"
   ]
  },
  {
   "cell_type": "code",
   "execution_count": 239,
   "id": "d5745a76-bcd2-4e70-bbd1-ddce79a2e0f2",
   "metadata": {},
   "outputs": [],
   "source": [
    "def plt_sim_data_hist(ax, hist_name='d05-x01-y01'):\n",
    "    data_hist_0_edges, data_hist_0 = return_data_hist(hist_name)\n",
    "    simulation_hist_0 = return_simulation_hist(filename = 'ALEPH_1996_S3486095_card_0.root', hist_name=hist_name)\n",
    "    ax.step(y=data_hist_0, x= data_hist_0_edges, label='data {}'.format( hist_name))\n",
    "    ax.step(y=simulation_hist_0, x=data_hist_0_edges, label='simulation {}'.format(hist_name))\n",
    "    ax.legend()"
   ]
  },
  {
   "cell_type": "code",
   "execution_count": 240,
   "id": "d8068208-b599-4641-a263-3dab845229b7",
   "metadata": {},
   "outputs": [
    {
     "name": "stdout",
     "output_type": "stream",
     "text": [
      "data hist name =  d05-x01-y01\n",
      "simulation hist name =  d05-x01-y01\n"
     ]
    },
    {
     "data": {
      "image/png": "[encoded data removed]",
      "text/plain": [
       "<Figure size 432x288 with 1 Axes>"
      ]
     },
     "metadata": {
      "needs_background": "light"
     },
     "output_type": "display_data"
    }
   ],
   "source": [
    "fig, ax =plt.subplots(1,1)\n",
    "plt_sim_data_hist(ax, hist_name='d05-x01-y01')"
   ]
  },
  {
   "cell_type": "code",
   "execution_count": 243,
   "id": "145c72af-61bd-421e-ad15-422ee5673020",
   "metadata": {},
   "outputs": [
    {
     "name": "stdout",
     "output_type": "stream",
     "text": [
      "33\n",
      "data hist name =  d01-x01-y01\n",
      "simulation hist name =  d01-x01-y01\n",
      "data hist name =  d02-x01-y01\n",
      "simulation hist name =  d02-x01-y01\n",
      "data hist name =  d03-x01-y01\n",
      "simulation hist name =  d03-x01-y01\n",
      "data hist name =  d04-x01-y01\n",
      "simulation hist name =  d04-x01-y01\n",
      "data hist name =  d05-x01-y01\n",
      "simulation hist name =  d05-x01-y01\n",
      "data hist name =  d06-x01-y01\n",
      "simulation hist name =  d06-x01-y01\n",
      "data hist name =  d07-x01-y01\n",
      "simulation hist name =  d07-x01-y01\n",
      "data hist name =  d08-x01-y01\n",
      "simulation hist name =  d08-x01-y01\n",
      "data hist name =  d09-x01-y01\n",
      "simulation hist name =  d09-x01-y01\n",
      "data hist name =  d10-x01-y01\n",
      "simulation hist name =  d10-x01-y01\n",
      "data hist name =  d11-x01-y01\n",
      "simulation hist name =  d11-x01-y01\n",
      "data hist name =  d12-x01-y01\n",
      "simulation hist name =  d12-x01-y01\n",
      "data hist name =  d17-x01-y01\n",
      "simulation hist name =  d17-x01-y01\n",
      "data hist name =  d18-x01-y01\n",
      "simulation hist name =  d18-x01-y01\n",
      "data hist name =  d19-x01-y01\n",
      "simulation hist name =  d19-x01-y01\n",
      "data hist name =  d20-x01-y01\n",
      "simulation hist name =  d20-x01-y01\n",
      "data hist name =  d21-x01-y01\n",
      "simulation hist name =  d21-x01-y01\n",
      "data hist name =  d22-x01-y01\n",
      "simulation hist name =  d22-x01-y01\n",
      "data hist name =  d23-x01-y01\n",
      "simulation hist name =  d23-x01-y01\n",
      "data hist name =  d28-x01-y01\n",
      "simulation hist name =  d28-x01-y01\n",
      "data hist name =  d29-x01-y01\n",
      "simulation hist name =  d29-x01-y01\n",
      "data hist name =  d30-x01-y01\n",
      "simulation hist name =  d30-x01-y01\n",
      "data hist name =  d31-x01-y01\n",
      "simulation hist name =  d31-x01-y01\n",
      "data hist name =  d32-x01-y01\n",
      "simulation hist name =  d32-x01-y01\n",
      "data hist name =  d33-x01-y01\n",
      "simulation hist name =  d33-x01-y01\n",
      "data hist name =  d34-x01-y01\n",
      "simulation hist name =  d34-x01-y01\n",
      "data hist name =  d35-x01-y01\n",
      "simulation hist name =  d35-x01-y01\n",
      "data hist name =  d36-x01-y01\n",
      "simulation hist name =  d36-x01-y01\n",
      "data hist name =  d37-x01-y01\n",
      "simulation hist name =  d37-x01-y01\n",
      "data hist name =  d38-x01-y01\n",
      "simulation hist name =  d38-x01-y01\n",
      "data hist name =  d39-x01-y01\n",
      "simulation hist name =  d39-x01-y01\n",
      "data hist name =  d40-x01-y01\n",
      "simulation hist name =  d40-x01-y01\n",
      "data hist name =  d43-x01-y01\n",
      "simulation hist name =  d43-x01-y01\n"
     ]
    },
    {
     "data": {
      "image/png": "[encoded data removed]",
      "text/plain": [
       "<Figure size 1080x1080 with 33 Axes>"
      ]
     },
     "metadata": {
      "needs_background": "light"
     },
     "output_type": "display_data"
    }
   ],
   "source": [
    "hist_names = get_hist_names()\n",
    "print(len(hist_names))\n",
    "nrows=11; ncols = 3\n",
    "fig, ax = plt.subplots(nrows,ncols, figsize=(15,15), edgecolor='k')\n",
    "ax = ax.ravel()\n",
    "for hist_ind, hist_name in enumerate(hist_names):\n",
    "    plt_sim_data_hist(ax=ax[hist_ind], hist_name=hist_name)"
   ]
  },
  {
   "cell_type": "markdown",
   "id": "12a9ce20-e098-45d1-aac6-bdb9afcb6972",
   "metadata": {},
   "source": [
    "# using yoda"
   ]
  },
  {
   "cell_type": "code",
   "execution_count": 274,
   "id": "1512ea72-00c0-4f14-b33d-96d24b1d7754",
   "metadata": {},
   "outputs": [],
   "source": [
    "%%bash\n",
    "source /home/ali/external/yoda/YODA-1.9.8/yodaenv.sh"
   ]
  },
  {
   "cell_type": "code",
   "execution_count": 275,
   "id": "bf10c86a-f72f-48a8-8c75-3ab0539b44ab",
   "metadata": {},
   "outputs": [
    {
     "ename": "ModuleNotFoundError",
     "evalue": "No module named 'yoda'",
     "output_type": "error",
     "traceback": [
      "\u001b[0;31m---------------------------------------------------------------------------\u001b[0m",
      "\u001b[0;31mModuleNotFoundError\u001b[0m                       Traceback (most recent call last)",
      "\u001b[0;32m<ipython-input-275-0cf725b51ead>\u001b[0m in \u001b[0;36m<module>\u001b[0;34m\u001b[0m\n\u001b[0;32m----> 1\u001b[0;31m \u001b[0;32mimport\u001b[0m \u001b[0myoda\u001b[0m\u001b[0;34m\u001b[0m\u001b[0;34m\u001b[0m\u001b[0m\n\u001b[0m",
      "\u001b[0;32m~/build_root/lib/ROOT.py\u001b[0m in \u001b[0;36m_importhook\u001b[0;34m(name, *args, **kwds)\u001b[0m\n\u001b[1;32m    520\u001b[0m       \u001b[0;32mexcept\u001b[0m \u001b[0mException\u001b[0m\u001b[0;34m:\u001b[0m\u001b[0;34m\u001b[0m\u001b[0;34m\u001b[0m\u001b[0m\n\u001b[1;32m    521\u001b[0m          \u001b[0;32mpass\u001b[0m\u001b[0;34m\u001b[0m\u001b[0;34m\u001b[0m\u001b[0m\n\u001b[0;32m--> 522\u001b[0;31m    \u001b[0;32mreturn\u001b[0m \u001b[0m_orig_ihook\u001b[0m\u001b[0;34m(\u001b[0m \u001b[0mname\u001b[0m\u001b[0;34m,\u001b[0m \u001b[0;34m*\u001b[0m\u001b[0margs\u001b[0m\u001b[0;34m,\u001b[0m \u001b[0;34m**\u001b[0m\u001b[0mkwds\u001b[0m \u001b[0;34m)\u001b[0m\u001b[0;34m\u001b[0m\u001b[0;34m\u001b[0m\u001b[0m\n\u001b[0m\u001b[1;32m    523\u001b[0m \u001b[0;34m\u001b[0m\u001b[0m\n\u001b[1;32m    524\u001b[0m \u001b[0m__builtin__\u001b[0m\u001b[0;34m.\u001b[0m\u001b[0m__import__\u001b[0m \u001b[0;34m=\u001b[0m \u001b[0m_importhook\u001b[0m\u001b[0;34m\u001b[0m\u001b[0;34m\u001b[0m\u001b[0m\n",
      "\u001b[0;31mModuleNotFoundError\u001b[0m: No module named 'yoda'"
     ]
    }
   ],
   "source": [
    "import yoda"
   ]
  },
  {
   "cell_type": "code",
   "execution_count": null,
   "id": "846ad76e-0376-4d27-96b8-95774ef288be",
   "metadata": {},
   "outputs": [],
   "source": []
  }
 ],
 "metadata": {
  "kernelspec": {
   "display_name": "Python 3",
   "language": "python",
   "name": "python3"
  },
  "language_info": {
   "codemirror_mode": {
    "name": "ipython",
    "version": 3
   },
   "file_extension": ".py",
   "mimetype": "text/x-python",
   "name": "python",
   "nbconvert_exporter": "python",
   "pygments_lexer": "ipython3",
   "version": "3.7.10"
  }
 },
 "nbformat": 4,
 "nbformat_minor": 5
}
