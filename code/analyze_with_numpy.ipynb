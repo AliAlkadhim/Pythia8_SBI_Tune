{
 "cells": [
  {
   "cell_type": "code",
   "execution_count": 1,
   "id": "6770a134-1b7b-44eb-b283-b4c6bfb350bc",
   "metadata": {},
   "outputs": [],
   "source": [
    "import os\n",
    "import numpy as np\n",
    "import matplotlib.pyplot as plt\n",
    "import pandas as pd\n",
    "plt.rcParams['text.usetex'] = True\n",
    "\n",
    "import yoda2numpy"
   ]
  },
  {
   "cell_type": "code",
   "execution_count": 2,
   "id": "562f89ea-fcab-4189-8a4c-285439eb6e6d",
   "metadata": {},
   "outputs": [],
   "source": [
    "numpy_hist = yoda2numpy.Yoda2Numpy()"
   ]
  },
  {
   "cell_type": "code",
   "execution_count": 16,
   "id": "bd6797a6-4be0-463a-942f-f818c55da561",
   "metadata": {},
   "outputs": [],
   "source": [
    "label, hmap = numpy_hist(hist_type='sim', index=0, fname='ALEPH_1996_S3486095')"
   ]
  },
  {
   "cell_type": "code",
   "execution_count": 17,
   "id": "fbe3b756-293d-453e-b6af-9c13b2b42b68",
   "metadata": {},
   "outputs": [
    {
     "data": {
      "text/plain": [
       "['xlow', 'xhigh', 'sumw', 'sumw2', 'sumwx', 'sumwx2', 'numEntries']"
      ]
     },
     "execution_count": 17,
     "metadata": {},
     "output_type": "execute_result"
    }
   ],
   "source": [
    "label"
   ]
  },
  {
   "cell_type": "code",
   "execution_count": 23,
   "id": "5ebefdc7-d787-432a-9be0-e235b6285e3b",
   "metadata": {},
   "outputs": [],
   "source": [
    "xlow = hmap['/ALEPH_1996_S3486095/d01-x01-y01'][:,0]"
   ]
  },
  {
   "cell_type": "code",
   "execution_count": 24,
   "id": "89518bf3-8d0b-4e25-b85e-6bbd5e2d6e45",
   "metadata": {},
   "outputs": [],
   "source": [
    "xhigh = hmap['/ALEPH_1996_S3486095/d01-x01-y01'][:,1]"
   ]
  },
  {
   "cell_type": "code",
   "execution_count": 25,
   "id": "52e0ed5f-e136-4c7a-b6eb-c9f571e9f2fe",
   "metadata": {},
   "outputs": [],
   "source": [
    "x_edges = (xlow+xhigh)/2"
   ]
  },
  {
   "cell_type": "code",
   "execution_count": 26,
   "id": "f8d15ead-16a9-4863-bc3f-0b15a1589c44",
   "metadata": {},
   "outputs": [
    {
     "data": {
      "text/plain": [
       "array([0.0025, 0.0075, 0.0125, 0.0175, 0.0225, 0.0275, 0.0325, 0.0375,\n",
       "       0.045 , 0.055 , 0.07  , 0.09  , 0.11  , 0.14  , 0.18  , 0.225 ,\n",
       "       0.275 , 0.325 , 0.375 , 0.45  , 0.55  , 0.65  , 0.75  ])"
      ]
     },
     "execution_count": 26,
     "metadata": {},
     "output_type": "execute_result"
    }
   ],
   "source": [
    "x_edges"
   ]
  },
  {
   "cell_type": "code",
   "execution_count": 28,
   "id": "9a8b37a4-8b6e-42ac-89b0-90ebda416a75",
   "metadata": {},
   "outputs": [
    {
     "data": {
      "text/plain": [
       "array([18., 56., 37., 31., 20., 36., 21., 14., 16., 23., 22., 19., 12.,\n",
       "       20., 15., 15.,  6.,  1.,  1.,  3.,  3.,  2.,  0.])"
      ]
     },
     "execution_count": 28,
     "metadata": {},
     "output_type": "execute_result"
    }
   ],
   "source": [
    "numEntries = hmap['/ALEPH_1996_S3486095/d01-x01-y01'][:,6]\n",
    "numEntries"
   ]
  },
  {
   "cell_type": "markdown",
   "id": "84593b86-f85d-4305-8c57-40a27b3a3f6b",
   "metadata": {},
   "source": [
    "$$numEntries = \\frac{(sumw)^2}{sumw2}$$"
   ]
  },
  {
   "cell_type": "code",
   "execution_count": 29,
   "id": "00a60a2f-4b14-4300-a3f1-fc751dbddf1b",
   "metadata": {},
   "outputs": [
    {
     "name": "stderr",
     "output_type": "stream",
     "text": [
      "/tmp/ipykernel_3469/3170809885.py:4: RuntimeWarning: invalid value encountered in divide\n",
      "  sumw**2 /sumw2\n"
     ]
    },
    {
     "data": {
      "text/plain": [
       "array([18.00000851, 55.99999046, 37.0000034 , 31.00000056, 20.00000436,\n",
       "       35.99999392, 21.00000602, 14.00000305, 15.99999738, 23.00000187,\n",
       "       21.99999239, 18.99999488, 12.00000262, 20.00000436, 14.9999986 ,\n",
       "       14.9999986 ,  6.00000131,  1.00000022,  1.00000022,  2.99999911,\n",
       "        2.99999911,  2.00000044,         nan])"
      ]
     },
     "execution_count": 29,
     "metadata": {},
     "output_type": "execute_result"
    }
   ],
   "source": [
    "sumw = hmap['/ALEPH_1996_S3486095/d01-x01-y01'][:,2]\n",
    "sumw2 = hmap['/ALEPH_1996_S3486095/d01-x01-y01'][:,3]\n",
    "\n",
    "sumw**2 /sumw2"
   ]
  },
  {
   "cell_type": "code",
   "execution_count": null,
   "id": "54d4d6b0-1dd4-42fc-8478-87007ca696d3",
   "metadata": {},
   "outputs": [],
   "source": []
  }
 ],
 "metadata": {
  "kernelspec": {
   "display_name": "Python 3 (ipykernel)",
   "language": "python",
   "name": "python3"
  },
  "language_info": {
   "codemirror_mode": {
    "name": "ipython",
    "version": 3
   },
   "file_extension": ".py",
   "mimetype": "text/x-python",
   "name": "python",
   "nbconvert_exporter": "python",
   "pygments_lexer": "ipython3",
   "version": "3.10.12"
  }
 },
 "nbformat": 4,
 "nbformat_minor": 5
}
