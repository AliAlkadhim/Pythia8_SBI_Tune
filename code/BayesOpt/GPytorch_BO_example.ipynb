{
 "cells": [
  {
   "cell_type": "code",
   "execution_count": 1,
   "id": "66c0143c-211b-44b1-8767-f73659d330a1",
   "metadata": {},
   "outputs": [],
   "source": [
    "import numpy as np\n",
    "import torch\n",
    "import gpytorch\n",
    "from gpytorch.means import ConstantMean\n",
    "from gpytorch.kernels import ScaleKernel, RBFKernel\n",
    "from gpytorch.distributions import MultivariateNormal\n",
    "import matplotlib.pyplot as plt"
   ]
  },
  {
   "cell_type": "markdown",
   "id": "09d86375-1fd0-440b-9f49-3b01cb303d4a",
   "metadata": {},
   "source": [
    "## Gaussian Process Regression\n",
    "\n",
    "A data set $\\left (X, \\mathbf{y} \\right ) = \\left \\{ (x_i, y_i), x_i \\in \\mathbb{R}^d, y_i \\in \\mathbb{R} \\right \\}_{i = 1}^N$ is given.  \n",
    "\n",
    "Assumption:\n",
    "$$\n",
    "y = f(x) + \\varepsilon,\n",
    "$$\n",
    "where $f(x)$ is a Gaussian Processes and $\\varepsilon \\sim \\mathcal{N}(0, \\sigma_n^2)$ is a Gaussian noise .\n",
    "\n",
    "Now, given a new data point $x^*$, $y^*$ can be predicted with\n",
    "$$\n",
    "y_* | X, \\mathbf{y}, x_* \\sim \\mathcal{N}(m(x_*), \\sigma(x_*)),\n",
    "$$\n",
    "with predictive mean and variance given by\n",
    "$$\n",
    "m(x_*) = \\mathbf{k}^T \\mathbf{K}_y^{-1} \\mathbf{y} = \\sum_{i = 1}^N \\alpha_i k(x_*, x_i),\n",
    "$$\n",
    "$$\n",
    "\\sigma^2(x_*) = k(x_*, x_*) - \\mathbf{k}^T\\mathbf{K}_y^{-1}\\mathbf{k},\n",
    "$$\n",
    "where\n",
    "$$\n",
    "\\mathbf{k} = \\left ( k(x_*, x_1), \\ldots, k(x_*, x_N) \\right )^T\n",
    "$$\n",
    "$$\n",
    "\\mathbf{K}_y = \\|k(x_i, x_j)\\|_{i, j = 1}^N + \\sigma_n^2 \\mathbf{I}\n",
    "$$\n",
    "\n",
    "The most commonly used kernel is the RBF kernel  $k(x, y) = \\exp\\left ( -\\dfrac{\\|x - y\\|^2}{2l^2}\\right )$,\n",
    "where $l$ is a `lengthscale`.  There is usually a multiplicative constant in front which controls the amplitude, and can be accessed with `ScaleKernel(RBFKernel())`"
   ]
  },
  {
   "cell_type": "code",
   "execution_count": 2,
   "id": "d8998bff-d601-406a-8453-205c0655ea56",
   "metadata": {},
   "outputs": [],
   "source": [
    "def branin(x, y):\n",
    "    a = 1\n",
    "    b = 5.1 / (4*np.pi**2)\n",
    "    c = 5 / np.pi\n",
    "    r = 6\n",
    "    s = 10\n",
    "    t = 1 / (8*np.pi)\n",
    "    return a*(y - b*x**2 + c*x - r)**2 + s*(1-t)*np.cos(x) + s\n",
    "\n",
    "def objective_function(x):\n",
    "    # Objective function with a non-differentiable point at x = 0\n",
    "    return torch.abs(x - 2)  # Shifted to have a minimum at x = 2\n"
   ]
  },
  {
   "cell_type": "markdown",
   "id": "adeb0372-98b2-40ae-9cc0-a7a56253f25b",
   "metadata": {},
   "source": [
    "The `GPModel` class is the thing that calculates the Gaussian process. If you pass it the training set, it calculates the prior distribution. If you pass it some new points, it calculates the conditional distribution given by n\n",
    "$$\n",
    "y_* | X, \\mathbf{y}, x_* \\sim \\mathcal{N}(m(x_*), \\sigma(x_*)),\n",
    "$$"
   ]
  },
  {
   "cell_type": "code",
   "execution_count": 3,
   "id": "b32e212c-2965-4e06-bfe2-2393e03b8188",
   "metadata": {},
   "outputs": [],
   "source": [
    "class GPModel(gpytorch.models.ExactGP):\n",
    "    def __init__(self, train_x, train_y, likelihood):\n",
    "        super(GPModel, self).__init__(train_x, train_y, likelihood)\n",
    "        self.mean_module = ConstantMean()\n",
    "        self.covar_module = ScaleKernel(RBFKernel())\n",
    "\n",
    "    def forward(self, x):\n",
    "        mean_x = self.mean_module(x)\n",
    "        covar_x = self.covar_module(x)\n",
    "        return MultivariateNormal(mean_x, covar_x)\n",
    "\n",
    "    def predict(self, train_x):\n",
    "            self.eval()\n",
    "            with torch.no_grad():\n",
    "                pred = self(train_x)\n",
    "                return self.likelihood(pred)\n",
    "                "
   ]
  },
  {
   "cell_type": "markdown",
   "id": "a1bde14f-117c-4358-ac7e-665f1a43a272",
   "metadata": {},
   "source": [
    "## train on training set"
   ]
  },
  {
   "cell_type": "code",
   "execution_count": 4,
   "id": "35426372-9a73-4def-8bae-83dc625b3927",
   "metadata": {},
   "outputs": [
    {
     "name": "stdout",
     "output_type": "stream",
     "text": [
      "tensor([7.0000, 4.5000, 2.0000, 0.5000, 3.0000], dtype=torch.float64)\n"
     ]
    }
   ],
   "source": [
    "BRANIN=False\n",
    "if BRANIN:\n",
    "    train_x = torch.rand(5,2,dtype=torch.float64)\n",
    "    def calc_output(train_x):\n",
    "        return torch.tensor([branin(x[0], x[1]) for x in train_x],dtype=torch.float64).unsqueeze(-1)\n",
    "    train_y = calc_output(train_x).reshape(-1)\n",
    "else:\n",
    "\n",
    "    train_x = torch.linspace(-5, 5, 5,dtype=torch.float64)\n",
    "    train_y = objective_function(train_x)\n",
    "    print(train_y)\n",
    "    \n"
   ]
  },
  {
   "cell_type": "markdown",
   "id": "a8ebcb51-4184-4d71-aca1-dfe79548ca4a",
   "metadata": {},
   "source": [
    "## Define model and likelihood"
   ]
  },
  {
   "cell_type": "code",
   "execution_count": 5,
   "id": "0938dbdc-1d14-4cd2-821a-8e3aa0fa508e",
   "metadata": {},
   "outputs": [],
   "source": [
    "# GP model\n",
    "likelihood = gpytorch.likelihoods.GaussianLikelihood()\n",
    "model = GPModel(train_x, train_y, likelihood)"
   ]
  },
  {
   "cell_type": "code",
   "execution_count": 6,
   "id": "329b3b19-b438-4e90-85d6-f50b60fdaa0f",
   "metadata": {},
   "outputs": [
    {
     "data": {
      "text/plain": [
       "(tensor([[-5.0000],\n",
       "         [-2.5000],\n",
       "         [ 0.0000],\n",
       "         [ 2.5000],\n",
       "         [ 5.0000]], dtype=torch.float64),)"
      ]
     },
     "execution_count": 6,
     "metadata": {},
     "output_type": "execute_result"
    }
   ],
   "source": [
    "model.train_inputs"
   ]
  },
  {
   "cell_type": "code",
   "execution_count": 7,
   "id": "ce4bbeda-3842-44e7-b0f3-cc525a4bb5fc",
   "metadata": {},
   "outputs": [
    {
     "data": {
      "text/plain": [
       "2"
      ]
     },
     "execution_count": 7,
     "metadata": {},
     "output_type": "execute_result"
    }
   ],
   "source": [
    "model.train_inputs[0].numpy().ndim"
   ]
  },
  {
   "cell_type": "code",
   "execution_count": 8,
   "id": "1050513f-376b-4b52-ad52-e28d7f567e0c",
   "metadata": {},
   "outputs": [
    {
     "data": {
      "text/plain": [
       "(5, 1)"
      ]
     },
     "execution_count": 8,
     "metadata": {},
     "output_type": "execute_result"
    }
   ],
   "source": [
    "model.train_inputs[0].numpy().shape"
   ]
  },
  {
   "cell_type": "code",
   "execution_count": 9,
   "id": "6ebc4ab3-368c-4e2d-b227-3bae410df7cf",
   "metadata": {},
   "outputs": [
    {
     "data": {
      "text/plain": [
       "tensor([7.0000, 4.5000, 2.0000, 0.5000, 3.0000], dtype=torch.float64)"
      ]
     },
     "execution_count": 9,
     "metadata": {},
     "output_type": "execute_result"
    }
   ],
   "source": [
    "model.train_targets"
   ]
  },
  {
   "cell_type": "code",
   "execution_count": 10,
   "id": "c99004ab-f9fd-47ea-8b2f-36aa20f52214",
   "metadata": {},
   "outputs": [],
   "source": [
    "def plot_model(model):\n",
    "    train_x = model.train_inputs[0].numpy()\n",
    "    train_y = model.train_targets.numpy()\n",
    "    if train_x.shape[1] == 1 or train_x.ndim ==1:\n",
    "        x_star = torch.linspace(train_x.min(), train_x.max(), 200)\n",
    "    else:\n",
    "        x_star = torch.tensor(np.random.rand(train_x.shape[0],train_x.shape[1]),)\n",
    "    model.eval()\n",
    "    predictive_distribution = model.predict(x_star)\n",
    "    lower, upper = predictive_distribution.confidence_region()\n",
    "    pred = predictive_distribution.mean.numpy()\n",
    "\n",
    "    \n",
    "    plt.plot(x_star.numpy(), pred, label='Mean Prediction')\n",
    "    plt.fill_between(x_star.numpy(), lower.numpy(), upper.numpy(), alpha=0.5)\n",
    "    plt.plot(train_x, train_y, 'k*', label='Observed Data')\n",
    "    plt.legend()\n",
    "    plt.show()"
   ]
  },
  {
   "cell_type": "code",
   "execution_count": 11,
   "id": "f674822c-0f4f-4d85-b16f-f32be58f69f9",
   "metadata": {},
   "outputs": [
    {
     "data": {
      "image/png": "[encoded data removed]",
      "text/plain": [
       "<Figure size 640x480 with 1 Axes>"
      ]
     },
     "metadata": {},
     "output_type": "display_data"
    }
   ],
   "source": [
    "plot_model(model)"
   ]
  },
  {
   "cell_type": "code",
   "execution_count": 12,
   "id": "119abcf0-7317-4441-9599-3811f1d3622d",
   "metadata": {},
   "outputs": [],
   "source": [
    "def print_parameters(model):\n",
    "    state_dict = model.state_dict()\n",
    "    for param_name, param_tensor in state_dict.items():\n",
    "        print(param_name, param_tensor)"
   ]
  },
  {
   "cell_type": "code",
   "execution_count": 13,
   "id": "50d63131-7cce-4840-8242-6a9c770821bc",
   "metadata": {},
   "outputs": [
    {
     "name": "stdout",
     "output_type": "stream",
     "text": [
      "likelihood.noise_covar.raw_noise tensor([0.])\n",
      "likelihood.noise_covar.raw_noise_constraint.lower_bound tensor(1.0000e-04)\n",
      "likelihood.noise_covar.raw_noise_constraint.upper_bound tensor(inf)\n",
      "mean_module.raw_constant tensor(0.)\n",
      "covar_module.raw_outputscale tensor(0.)\n",
      "covar_module.base_kernel.raw_lengthscale tensor([[0.]])\n",
      "covar_module.base_kernel.raw_lengthscale_constraint.lower_bound tensor(0.)\n",
      "covar_module.base_kernel.raw_lengthscale_constraint.upper_bound tensor(inf)\n",
      "covar_module.raw_outputscale_constraint.lower_bound tensor(0.)\n",
      "covar_module.raw_outputscale_constraint.upper_bound tensor(inf)\n"
     ]
    }
   ],
   "source": [
    "print_parameters(model)"
   ]
  },
  {
   "cell_type": "markdown",
   "id": "51b4c26a-5538-4f2a-bb3b-22c94dd2ff6f",
   "metadata": {},
   "source": [
    "## Train GP model"
   ]
  },
  {
   "cell_type": "code",
   "execution_count": 14,
   "id": "2efe3f47-c35a-43df-9ce6-9b00651b0748",
   "metadata": {},
   "outputs": [],
   "source": [
    "def train_model(model, train_x, train_y, n_epochs, print_=False):\n",
    "    # Use the Adam optimizer\n",
    "    optimizer = torch.optim.Adam(model.parameters(), lr=0.1)  # Includes GaussianLikelihood parameters\n",
    "    likelihood = gpytorch.likelihoods.GaussianLikelihood()\n",
    "    mll = gpytorch.mlls.ExactMarginalLogLikelihood(likelihood, model)\n",
    "    \n",
    "    \n",
    "    # Optimize the model\n",
    "    \n",
    "    for epoch in range(n_epochs):\n",
    "        optimizer.zero_grad()\n",
    "        output = model(train_x)\n",
    "        loss = - mll(output, train_y)\n",
    "        if print_:\n",
    "            print(f'epoch {epoch}, Loss = {loss}')\n",
    "        loss.backward()\n",
    "        optimizer.step()"
   ]
  },
  {
   "cell_type": "code",
   "execution_count": 15,
   "id": "c7802314-d178-4454-bd06-f31b89bb10a2",
   "metadata": {},
   "outputs": [
    {
     "name": "stderr",
     "output_type": "stream",
     "text": [
      "/usr/local/lib/python3.10/dist-packages/gpytorch/models/exact_gp.py:284: GPInputWarning: The input matches the stored training data. Did you forget to call model.train()?\n",
      "  warnings.warn(\n"
     ]
    },
    {
     "name": "stdout",
     "output_type": "stream",
     "text": [
      "epoch 0, Loss = 2.9186248664651373\n",
      "epoch 1, Loss = 2.4692474630995656\n",
      "epoch 2, Loss = 2.071762694993134\n",
      "epoch 3, Loss = 1.730986044923554\n",
      "epoch 4, Loss = 1.4534991288783161\n",
      "epoch 5, Loss = 1.248019804050955\n",
      "epoch 6, Loss = 1.1249891103951974\n",
      "epoch 7, Loss = 1.0924687803624795\n",
      "epoch 8, Loss = 1.1352459346017638\n",
      "epoch 9, Loss = 1.1984377110996791\n",
      "epoch 10, Loss = 1.24326776485874\n",
      "epoch 11, Loss = 1.2587606980241943\n",
      "epoch 12, Loss = 1.2477141740532725\n",
      "epoch 13, Loss = 1.2189690288572959\n",
      "epoch 14, Loss = 1.1821510180342218\n",
      "epoch 15, Loss = 1.1446398434922787\n",
      "epoch 16, Loss = 1.1107790757750529\n",
      "epoch 17, Loss = 1.082522912552595\n",
      "epoch 18, Loss = 1.06045142870695\n",
      "epoch 19, Loss = 1.0444824362889344\n",
      "epoch 20, Loss = 1.0341693489303094\n",
      "epoch 21, Loss = 1.0287661225339446\n",
      "epoch 22, Loss = 1.0272487113444602\n",
      "epoch 23, Loss = 1.028385881465216\n",
      "epoch 24, Loss = 1.030869997279892\n",
      "epoch 25, Loss = 1.0334766244113431\n",
      "epoch 26, Loss = 1.0352138544562541\n",
      "epoch 27, Loss = 1.0354279610183028\n",
      "epoch 28, Loss = 1.0338492614560415\n",
      "epoch 29, Loss = 1.0305744557981218\n",
      "epoch 30, Loss = 1.0259957595187266\n",
      "epoch 31, Loss = 1.0206932248993579\n",
      "epoch 32, Loss = 1.0153114796835774\n",
      "epoch 33, Loss = 1.0104412928720508\n",
      "epoch 34, Loss = 1.0065233938465012\n"
     ]
    }
   ],
   "source": [
    "train_model(model, train_x, train_y, 35,print_=True)"
   ]
  },
  {
   "cell_type": "markdown",
   "id": "9df72f24-522e-4099-97cf-354630c81b89",
   "metadata": {},
   "source": [
    "## observe that the GP model and likelihood parameters have been optimized"
   ]
  },
  {
   "cell_type": "code",
   "execution_count": 16,
   "id": "5e40f5d4-1ab6-40c3-adea-d9a37f91658e",
   "metadata": {},
   "outputs": [
    {
     "name": "stdout",
     "output_type": "stream",
     "text": [
      "likelihood.noise_covar.raw_noise tensor([0.])\n",
      "likelihood.noise_covar.raw_noise_constraint.lower_bound tensor(1.0000e-04)\n",
      "likelihood.noise_covar.raw_noise_constraint.upper_bound tensor(inf)\n",
      "mean_module.raw_constant tensor(0.3587)\n",
      "covar_module.raw_outputscale tensor(0.9246)\n",
      "covar_module.base_kernel.raw_lengthscale tensor([[-0.4343]])\n",
      "covar_module.base_kernel.raw_lengthscale_constraint.lower_bound tensor(0.)\n",
      "covar_module.base_kernel.raw_lengthscale_constraint.upper_bound tensor(inf)\n",
      "covar_module.raw_outputscale_constraint.lower_bound tensor(0.)\n",
      "covar_module.raw_outputscale_constraint.upper_bound tensor(inf)\n"
     ]
    }
   ],
   "source": [
    "print_parameters(model)"
   ]
  },
  {
   "cell_type": "code",
   "execution_count": 17,
   "id": "5dbb865d-fd41-4964-b073-987ca613ef0b",
   "metadata": {},
   "outputs": [
    {
     "data": {
      "image/png": "[encoded data removed]",
      "text/plain": [
       "<Figure size 640x480 with 1 Axes>"
      ]
     },
     "metadata": {},
     "output_type": "display_data"
    }
   ],
   "source": [
    "plot_model(model)"
   ]
  },
  {
   "cell_type": "markdown",
   "id": "33620b4b-99f5-4cc7-bd20-a48f01acc424",
   "metadata": {},
   "source": [
    "## Expected Improvement\n",
    "\n",
    "$$\\operatorname{EI}(x)=\\mathbb{E}\\left[\\max \\left(f_{\\text {best }}-f(x), 0\\right)\\right]$$\n",
    "\n",
    "Assuming $f(x) \\sim \\mathcal{N}\\left(\\mu(x), \\sigma(x)^2\\right)$, the EI can be written as\n",
    "\n",
    "$$\\mathrm{EI}(x)=\\left(\\mu(x)-f_{\\text {best }}-\\xi\\right) \\Phi(Z)+\\sigma(x) \\phi(Z)$$\n",
    "\n",
    "where\n",
    "\n",
    "- $$\\begin{array}{l}\n",
    "Z=\\frac{\\mu(x)-f_{\\text {bost }}-\\xi}{\\sigma(x)} \\text { if } \\sigma(x)>0 \\\\\n",
    "Z=0 \\text { if } \\sigma(x)=0\n",
    "\\end{array}$$\n",
    "\n",
    "- $\\Phi$ is the CDF of the standard normal distribution, $\\phi(x)$ is the PDF of the standard normal  distribution\n",
    "\n",
    "- $\\xi$ is a small non-negative number (often set to zero) to introduce a trade-off between exploitation and exploration. **the larger the $\\xi$ the more exploration** "
   ]
  },
  {
   "cell_type": "code",
   "execution_count": 18,
   "id": "b15974f1-7824-4723-b889-edcab92b693a",
   "metadata": {},
   "outputs": [],
   "source": [
    "def expected_improvement(model, observed_y, candidate_set):\n",
    "    with torch.no_grad(), gpytorch.settings.fast_pred_var():\n",
    "        observed_pred = model.predict(candidate_set)\n",
    "        best_f = observed_y.min()\n",
    "        \n",
    "        mean = observed_pred.mean\n",
    "        sigma = observed_pred.variance.sqrt()\n",
    "        gamma = (best_f - mean) / sigma\n",
    "        ei = sigma * (gamma * torch.distributions.Normal(0, 1).cdf(gamma) + torch.distributions.Normal(0, 1).log_prob(gamma).exp())\n",
    "    return ei\n"
   ]
  },
  {
   "cell_type": "markdown",
   "id": "07718c27-b7ce-433e-a1e4-336a7fc3d706",
   "metadata": {},
   "source": [
    "## Bayesian Optimization Algorithm\n",
    "1. Construct a regression model $\\hat{f}(x)$ of a function $f(x)$ using the sample $D = \\{(x_i, f(x_i))\\}_{i = 1}^n$\n",
    "2. Select a new point that maximize an acquisition function\n",
    "$$\n",
    "x_{new} = \\arg\\max\\limits_x a(x)\n",
    "$$\n",
    "3. Calculate $f(x_{new})$ at the new point.\n",
    "4. Add the pair $(x_{new}, f(x_{new}))$ to the sample $D$.\n",
    "5. Update the model $\\hat{f}(x)$ and go to step 2."
   ]
  },
  {
   "cell_type": "code",
   "execution_count": 19,
   "id": "a5b67081-d98d-4a14-b62b-d4cbdf08f756",
   "metadata": {},
   "outputs": [],
   "source": [
    "def BayesOpt(model, train_x, train_y, n_epochs, retrain_gp=False,print_=False):\n",
    "    # Use the Adam optimizer\n",
    "    likelihood = gpytorch.likelihoods.GaussianLikelihood()\n",
    "\n",
    "\n",
    "    for epoch in range(n_epochs):\n",
    "        model.eval()\n",
    "        likelihood.eval()\n",
    "        x_candidates = torch.linspace(-5,5,100)\n",
    "        ei = expected_improvement(model, train_y, x_candidates)\n",
    "        ei_argmax = ei.argmax()\n",
    "        next_x = x_candidates[ei_argmax]\n",
    "        next_y = objective_function(next_x)\n",
    "        train_x = torch.cat([train_x, next_x.unsqueeze(-1)])\n",
    "        next_y = torch.tensor([next_y])\n",
    "\n",
    "        print(f'epoch {epoch} next_x = {next_x}, next_y = {next_y}')\n",
    "        train_y = torch.cat([train_y, next_y])\n",
    "\n",
    "        # retrain model with updated data\n",
    "        if retrain_gp:\n",
    "            train_model(model, train_x, train_y, n_epochs, print_=print_)\n",
    "        model.set_train_data(inputs=train_x, targets=train_y, strict=False)\n",
    "        \n",
    "        "
   ]
  },
  {
   "cell_type": "markdown",
   "id": "2bb37b42-7ec2-4ab7-857d-fbac79703aee",
   "metadata": {},
   "source": [
    "## perform Bayesian optimization without retraing model with the updated data"
   ]
  },
  {
   "cell_type": "code",
   "execution_count": 20,
   "id": "4f352aae-3b0f-45a4-b644-a8cdf0e91d16",
   "metadata": {},
   "outputs": [
    {
     "name": "stdout",
     "output_type": "stream",
     "text": [
      "epoch 0 next_x = 1.3636364936828613, next_y = tensor([0.6364])\n",
      "epoch 1 next_x = 3.4848484992980957, next_y = tensor([1.4848])\n",
      "epoch 2 next_x = -1.1616162061691284, next_y = tensor([3.1616])\n",
      "epoch 3 next_x = 1.9696969985961914, next_y = tensor([0.0303])\n",
      "epoch 4 next_x = 1.9696969985961914, next_y = tensor([0.0303])\n",
      "epoch 5 next_x = 1.9696969985961914, next_y = tensor([0.0303])\n",
      "epoch 6 next_x = 1.9696969985961914, next_y = tensor([0.0303])\n",
      "epoch 7 next_x = 2.070707082748413, next_y = tensor([0.0707])\n",
      "epoch 8 next_x = 1.9696969985961914, next_y = tensor([0.0303])\n",
      "epoch 9 next_x = 1.9696969985961914, next_y = tensor([0.0303])\n",
      "epoch 10 next_x = 1.9696969985961914, next_y = tensor([0.0303])\n",
      "epoch 11 next_x = 1.9696969985961914, next_y = tensor([0.0303])\n",
      "epoch 12 next_x = 1.9696969985961914, next_y = tensor([0.0303])\n",
      "epoch 13 next_x = 1.9696969985961914, next_y = tensor([0.0303])\n",
      "epoch 14 next_x = 1.9696969985961914, next_y = tensor([0.0303])\n",
      "epoch 15 next_x = 1.9696969985961914, next_y = tensor([0.0303])\n",
      "epoch 16 next_x = 1.9696969985961914, next_y = tensor([0.0303])\n",
      "epoch 17 next_x = 2.070707082748413, next_y = tensor([0.0707])\n",
      "epoch 18 next_x = 1.9696969985961914, next_y = tensor([0.0303])\n",
      "epoch 19 next_x = 1.9696969985961914, next_y = tensor([0.0303])\n",
      "epoch 20 next_x = 1.9696969985961914, next_y = tensor([0.0303])\n",
      "epoch 21 next_x = 1.9696969985961914, next_y = tensor([0.0303])\n",
      "epoch 22 next_x = 1.9696969985961914, next_y = tensor([0.0303])\n",
      "epoch 23 next_x = 1.9696969985961914, next_y = tensor([0.0303])\n",
      "epoch 24 next_x = 1.9696969985961914, next_y = tensor([0.0303])\n"
     ]
    }
   ],
   "source": [
    "BayesOpt(model, train_x, train_y, 25)"
   ]
  },
  {
   "cell_type": "code",
   "execution_count": 21,
   "id": "daaebf19-e8cc-43dd-9b27-f928fc78cca2",
   "metadata": {},
   "outputs": [
    {
     "data": {
      "text/plain": [
       "torch.Size([5])"
      ]
     },
     "execution_count": 21,
     "metadata": {},
     "output_type": "execute_result"
    }
   ],
   "source": [
    "train_x.shape"
   ]
  },
  {
   "cell_type": "code",
   "execution_count": 22,
   "id": "bd469c15-d12f-4c68-b919-b95e1ca30cf9",
   "metadata": {},
   "outputs": [
    {
     "data": {
      "text/plain": [
       "(30, 1)"
      ]
     },
     "execution_count": 22,
     "metadata": {},
     "output_type": "execute_result"
    }
   ],
   "source": [
    "model.train_inputs[0].numpy().shape"
   ]
  },
  {
   "cell_type": "code",
   "execution_count": 23,
   "id": "cd88fee5-fb36-4750-9b40-b569b5663d68",
   "metadata": {},
   "outputs": [
    {
     "data": {
      "image/png": "[encoded data removed]",
      "text/plain": [
       "<Figure size 640x480 with 1 Axes>"
      ]
     },
     "metadata": {},
     "output_type": "display_data"
    }
   ],
   "source": [
    "plot_model(model)"
   ]
  },
  {
   "cell_type": "code",
   "execution_count": 24,
   "id": "5b14a436-9188-4c5f-9f4f-8640acfe61ca",
   "metadata": {},
   "outputs": [],
   "source": [
    "def get_best_parameter(model):\n",
    "    train_x = model.train_inputs[0].numpy()\n",
    "    train_y = model.train_targets.numpy()\n",
    "    best_param_observed_param = train_x[train_y.argmin()]\n",
    "    print(f'best parameter = {best_param_observed_param}')\n",
    "    return best_param_observed_param"
   ]
  },
  {
   "cell_type": "code",
   "execution_count": 25,
   "id": "51c7ed20-8889-4837-99bd-d4eed984eb1a",
   "metadata": {},
   "outputs": [
    {
     "name": "stdout",
     "output_type": "stream",
     "text": [
      "best parameter = [1.969697]\n"
     ]
    },
    {
     "data": {
      "text/plain": [
       "array([1.969697])"
      ]
     },
     "execution_count": 25,
     "metadata": {},
     "output_type": "execute_result"
    }
   ],
   "source": [
    "get_best_parameter(model)"
   ]
  },
  {
   "cell_type": "markdown",
   "id": "2a0f2250-43e4-4ce3-a9d8-e06c50db3bb3",
   "metadata": {},
   "source": [
    "## Perform Bayeian Optimization with retraing model with the updated data"
   ]
  },
  {
   "cell_type": "code",
   "execution_count": 27,
   "id": "054ecf9e-38ba-4d9b-a7e3-6b704805d033",
   "metadata": {},
   "outputs": [
    {
     "name": "stdout",
     "output_type": "stream",
     "text": [
      "epoch 0 next_x = 1.9696969985961914, next_y = tensor([0.0303])\n",
      "epoch 1 next_x = 1.464646577835083, next_y = tensor([0.5354])\n",
      "epoch 2 next_x = 2.1717171669006348, next_y = tensor([0.1717])\n",
      "epoch 3 next_x = 2.1717171669006348, next_y = tensor([0.1717])\n",
      "epoch 4 next_x = 2.070707082748413, next_y = tensor([0.0707])\n",
      "epoch 5 next_x = 2.070707082748413, next_y = tensor([0.0707])\n",
      "epoch 6 next_x = 2.070707082748413, next_y = tensor([0.0707])\n",
      "epoch 7 next_x = 2.070707082748413, next_y = tensor([0.0707])\n",
      "epoch 8 next_x = 2.070707082748413, next_y = tensor([0.0707])\n",
      "epoch 9 next_x = 2.070707082748413, next_y = tensor([0.0707])\n",
      "epoch 10 next_x = 2.070707082748413, next_y = tensor([0.0707])\n",
      "epoch 11 next_x = 2.070707082748413, next_y = tensor([0.0707])\n",
      "epoch 12 next_x = 2.070707082748413, next_y = tensor([0.0707])\n",
      "epoch 13 next_x = 1.9696969985961914, next_y = tensor([0.0303])\n",
      "epoch 14 next_x = 1.9696969985961914, next_y = tensor([0.0303])\n",
      "epoch 15 next_x = 3.1818182468414307, next_y = tensor([1.1818])\n",
      "epoch 16 next_x = 1.9696969985961914, next_y = tensor([0.0303])\n",
      "epoch 17 next_x = 1.9696969985961914, next_y = tensor([0.0303])\n",
      "epoch 18 next_x = 1.9696969985961914, next_y = tensor([0.0303])\n",
      "epoch 19 next_x = 1.9696969985961914, next_y = tensor([0.0303])\n",
      "epoch 20 next_x = 1.9696969985961914, next_y = tensor([0.0303])\n",
      "epoch 21 next_x = -1.0606061220169067, next_y = tensor([3.0606])\n",
      "epoch 22 next_x = 1.8686869144439697, next_y = tensor([0.1313])\n",
      "epoch 23 next_x = 1.9696969985961914, next_y = tensor([0.0303])\n",
      "epoch 24 next_x = 1.9696969985961914, next_y = tensor([0.0303])\n"
     ]
    }
   ],
   "source": [
    "BayesOpt(model, train_x, train_y, 25, retrain_gp=True,print_=False)"
   ]
  },
  {
   "cell_type": "code",
   "execution_count": 28,
   "id": "490a5894-c678-498a-89c8-7bcc685c4aa2",
   "metadata": {},
   "outputs": [
    {
     "data": {
      "image/png": "[encoded data removed]",
      "text/plain": [
       "<Figure size 640x480 with 1 Axes>"
      ]
     },
     "metadata": {},
     "output_type": "display_data"
    }
   ],
   "source": [
    "plot_model(model)"
   ]
  },
  {
   "cell_type": "code",
   "execution_count": 29,
   "id": "bcf2fd1d-919d-4992-ad02-2b472be0b7fc",
   "metadata": {},
   "outputs": [
    {
     "name": "stdout",
     "output_type": "stream",
     "text": [
      "best parameter = [1.969697]\n"
     ]
    },
    {
     "data": {
      "text/plain": [
       "array([1.969697])"
      ]
     },
     "execution_count": 29,
     "metadata": {},
     "output_type": "execute_result"
    }
   ],
   "source": [
    "get_best_parameter(model)"
   ]
  },
  {
   "cell_type": "code",
   "execution_count": 30,
   "id": "ad2b0d7b-269e-4357-87ad-41481942af9f",
   "metadata": {},
   "outputs": [
    {
     "data": {
      "text/plain": [
       "(tensor([[-5.0000],\n",
       "         [-2.5000],\n",
       "         [ 0.0000],\n",
       "         [ 2.5000],\n",
       "         [ 5.0000],\n",
       "         [ 1.9697],\n",
       "         [ 1.4646],\n",
       "         [ 2.1717],\n",
       "         [ 2.1717],\n",
       "         [ 2.0707],\n",
       "         [ 2.0707],\n",
       "         [ 2.0707],\n",
       "         [ 2.0707],\n",
       "         [ 2.0707],\n",
       "         [ 2.0707],\n",
       "         [ 2.0707],\n",
       "         [ 2.0707],\n",
       "         [ 2.0707],\n",
       "         [ 1.9697],\n",
       "         [ 1.9697],\n",
       "         [ 3.1818],\n",
       "         [ 1.9697],\n",
       "         [ 1.9697],\n",
       "         [ 1.9697],\n",
       "         [ 1.9697],\n",
       "         [ 1.9697],\n",
       "         [-1.0606],\n",
       "         [ 1.8687],\n",
       "         [ 1.9697],\n",
       "         [ 1.9697]], dtype=torch.float64),)"
      ]
     },
     "execution_count": 30,
     "metadata": {},
     "output_type": "execute_result"
    }
   ],
   "source": [
    "model.train_inputs"
   ]
  },
  {
   "cell_type": "markdown",
   "id": "aef52c31-836a-4714-a584-f15b5f307726",
   "metadata": {},
   "source": [
    "## save model\n"
   ]
  },
  {
   "cell_type": "code",
   "execution_count": 52,
   "id": "e4ee8a5b-bdbd-4de5-bc26-adb673c712df",
   "metadata": {},
   "outputs": [],
   "source": [
    "path = 'models/test_GP.pth'\n",
    "torch.save(model.state_dict(), path)"
   ]
  },
  {
   "cell_type": "markdown",
   "id": "21622978-b3c3-4732-871a-0047273855b1",
   "metadata": {},
   "source": [
    "## Refresh the kernel (as if opening a new notebook) and load model"
   ]
  },
  {
   "cell_type": "code",
   "execution_count": 53,
   "id": "0351f09b-cc03-4bc3-84fd-4e35aaf3f1ff",
   "metadata": {},
   "outputs": [],
   "source": [
    "import numpy as np\n",
    "import torch\n",
    "import gpytorch\n",
    "from gpytorch.means import ConstantMean\n",
    "from gpytorch.kernels import ScaleKernel, RBFKernel\n",
    "from gpytorch.distributions import MultivariateNormal\n",
    "import matplotlib.pyplot as plt"
   ]
  },
  {
   "cell_type": "code",
   "execution_count": 54,
   "id": "0a783798-f04a-4619-9297-396a8fdab296",
   "metadata": {},
   "outputs": [],
   "source": [
    "def branin(x, y):\n",
    "    a = 1\n",
    "    b = 5.1 / (4*np.pi**2)\n",
    "    c = 5 / np.pi\n",
    "    r = 6\n",
    "    s = 10\n",
    "    t = 1 / (8*np.pi)\n",
    "    return a*(y - b*x**2 + c*x - r)**2 + s*(1-t)*np.cos(x) + s\n",
    "\n",
    "def objective_function(x):\n",
    "    # Objective function with a non-differentiable point at x = 0\n",
    "    return torch.abs(x - 2)  # Shifted to have a minimum at x = 2\n"
   ]
  },
  {
   "cell_type": "code",
   "execution_count": 55,
   "id": "97d22d16-0acb-4a8e-9403-bcc5b07e486f",
   "metadata": {},
   "outputs": [],
   "source": [
    "class GPModel(gpytorch.models.ExactGP):\n",
    "    def __init__(self, train_x, train_y, likelihood):\n",
    "        super(GPModel, self).__init__(train_x, train_y, likelihood)\n",
    "        self.mean_module = ConstantMean()\n",
    "        self.covar_module = ScaleKernel(RBFKernel())\n",
    "\n",
    "    def forward(self, x):\n",
    "        mean_x = self.mean_module(x)\n",
    "        covar_x = self.covar_module(x)\n",
    "        return MultivariateNormal(mean_x, covar_x)\n",
    "\n",
    "    def predict(self, train_x):\n",
    "            self.eval()\n",
    "            with torch.no_grad():\n",
    "                pred = self(train_x)\n",
    "                return self.likelihood(pred)\n",
    "                "
   ]
  },
  {
   "cell_type": "code",
   "execution_count": 56,
   "id": "fc73e623-b137-49bb-a12c-fde67cfa3d25",
   "metadata": {},
   "outputs": [
    {
     "name": "stdout",
     "output_type": "stream",
     "text": [
      "tensor([7.0000, 6.7959, 6.5918, 6.3878, 6.1837, 5.9796, 5.7755, 5.5714, 5.3673,\n",
      "        5.1633, 4.9592, 4.7551, 4.5510, 4.3469, 4.1429, 3.9388, 3.7347, 3.5306,\n",
      "        3.3265, 3.1224, 2.9184, 2.7143, 2.5102, 2.3061, 2.1020, 1.8980, 1.6939,\n",
      "        1.4898, 1.2857, 1.0816, 0.8776, 0.6735, 0.4694, 0.2653, 0.0612, 0.1429,\n",
      "        0.3469, 0.5510, 0.7551, 0.9592, 1.1633, 1.3673, 1.5714, 1.7755, 1.9796,\n",
      "        2.1837, 2.3878, 2.5918, 2.7959, 3.0000])\n"
     ]
    },
    {
     "data": {
      "text/plain": [
       "GPModel(\n",
       "  (likelihood): GaussianLikelihood(\n",
       "    (noise_covar): HomoskedasticNoise(\n",
       "      (raw_noise_constraint): GreaterThan(1.000E-04)\n",
       "    )\n",
       "  )\n",
       "  (mean_module): ConstantMean()\n",
       "  (covar_module): ScaleKernel(\n",
       "    (base_kernel): RBFKernel(\n",
       "      (raw_lengthscale_constraint): Positive()\n",
       "    )\n",
       "    (raw_outputscale_constraint): Positive()\n",
       "  )\n",
       ")"
      ]
     },
     "execution_count": 56,
     "metadata": {},
     "output_type": "execute_result"
    }
   ],
   "source": [
    "BRANIN=False\n",
    "if BRANIN:\n",
    "    train_x = torch.rand(5,2)\n",
    "    def calc_output(train_x):\n",
    "        return torch.tensor([branin(x[0], x[1]) for x in train_x]).unsqueeze(-1)\n",
    "    train_y = calc_output(train_x)\n",
    "else:\n",
    "\n",
    "    train_x = torch.linspace(-5, 5, 50)#.unsqueeze(-1)\n",
    "    train_y = objective_function(train_x)#.unsqueeze(-1)\n",
    "    print(train_y)\n",
    "\n",
    "likelihood = gpytorch.likelihoods.GaussianLikelihood()\n",
    "model = GPModel(train_x, train_y, likelihood)\n",
    "path = 'models/test_GP.pth'\n",
    "model.load_state_dict(torch.load(path))\n",
    "model.eval()"
   ]
  },
  {
   "cell_type": "code",
   "execution_count": 57,
   "id": "4dbb28ae-ae56-485f-9009-67bfff19c327",
   "metadata": {},
   "outputs": [
    {
     "data": {
      "text/plain": [
       "(tensor([[-5.0000],\n",
       "         [-4.7959],\n",
       "         [-4.5918],\n",
       "         [-4.3878],\n",
       "         [-4.1837],\n",
       "         [-3.9796],\n",
       "         [-3.7755],\n",
       "         [-3.5714],\n",
       "         [-3.3673],\n",
       "         [-3.1633],\n",
       "         [-2.9592],\n",
       "         [-2.7551],\n",
       "         [-2.5510],\n",
       "         [-2.3469],\n",
       "         [-2.1429],\n",
       "         [-1.9388],\n",
       "         [-1.7347],\n",
       "         [-1.5306],\n",
       "         [-1.3265],\n",
       "         [-1.1224],\n",
       "         [-0.9184],\n",
       "         [-0.7143],\n",
       "         [-0.5102],\n",
       "         [-0.3061],\n",
       "         [-0.1020],\n",
       "         [ 0.1020],\n",
       "         [ 0.3061],\n",
       "         [ 0.5102],\n",
       "         [ 0.7143],\n",
       "         [ 0.9184],\n",
       "         [ 1.1224],\n",
       "         [ 1.3265],\n",
       "         [ 1.5306],\n",
       "         [ 1.7347],\n",
       "         [ 1.9388],\n",
       "         [ 2.1429],\n",
       "         [ 2.3469],\n",
       "         [ 2.5510],\n",
       "         [ 2.7551],\n",
       "         [ 2.9592],\n",
       "         [ 3.1633],\n",
       "         [ 3.3673],\n",
       "         [ 3.5714],\n",
       "         [ 3.7755],\n",
       "         [ 3.9796],\n",
       "         [ 4.1837],\n",
       "         [ 4.3878],\n",
       "         [ 4.5918],\n",
       "         [ 4.7959],\n",
       "         [ 5.0000]]),)"
      ]
     },
     "execution_count": 57,
     "metadata": {},
     "output_type": "execute_result"
    }
   ],
   "source": [
    "model.train_inputs"
   ]
  },
  {
   "cell_type": "code",
   "execution_count": 58,
   "id": "d4e1d213-efe5-4b93-a2bf-5e794b04ecda",
   "metadata": {},
   "outputs": [
    {
     "data": {
      "image/png": "[encoded data removed]",
      "text/plain": [
       "<Figure size 640x480 with 1 Axes>"
      ]
     },
     "metadata": {},
     "output_type": "display_data"
    }
   ],
   "source": [
    "x = torch.linspace(-5, 5, 10)\n",
    "with torch.no_grad():\n",
    "    pred = model(x.unsqueeze(-1))\n",
    "    lower, upper = pred.confidence_region()\n",
    "\n",
    "plt.plot(x.numpy(), pred.mean.numpy(), label='Mean Prediction')\n",
    "plt.fill_between(x.numpy(), lower.numpy(), upper.numpy(), alpha=0.5)\n",
    "plt.plot(train_x.numpy(), train_y.numpy(), 'k*', label='Observed Data')\n",
    "plt.legend()\n",
    "plt.show()"
   ]
  },
  {
   "cell_type": "code",
   "execution_count": 59,
   "id": "16f61c96-d894-4f31-b07c-cba700f04571",
   "metadata": {},
   "outputs": [
    {
     "name": "stdout",
     "output_type": "stream",
     "text": [
      "minimum of mean value function = 1.6666665077209473\n",
      "observed minimum in data = 1.9387754201889038\n"
     ]
    }
   ],
   "source": [
    "pred_mean = pred.mean.numpy()\n",
    "param = x.numpy()\n",
    "best_x = param[pred_mean.argmin()]\n",
    "print(f'minimum of mean value function = {best_x}')\n",
    "observed_min = train_x[train_y.argmin()]\n",
    "print(f'observed minimum in data = {observed_min}')"
   ]
  },
  {
   "cell_type": "code",
   "execution_count": null,
   "id": "e9f3f838-33e3-41c3-a716-32b22248507a",
   "metadata": {},
   "outputs": [],
   "source": []
  }
 ],
 "metadata": {
  "kernelspec": {
   "display_name": "Python 3 (ipykernel)",
   "language": "python",
   "name": "python3"
  },
  "language_info": {
   "codemirror_mode": {
    "name": "ipython",
    "version": 3
   },
   "file_extension": ".py",
   "mimetype": "text/x-python",
   "name": "python",
   "nbconvert_exporter": "python",
   "pygments_lexer": "ipython3",
   "version": "3.10.12"
  }
 },
 "nbformat": 4,
 "nbformat_minor": 5
}
