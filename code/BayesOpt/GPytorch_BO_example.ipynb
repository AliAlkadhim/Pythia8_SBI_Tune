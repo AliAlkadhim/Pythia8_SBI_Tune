{
 "cells": [
  {
   "cell_type": "code",
   "execution_count": 33,
   "id": "66c0143c-211b-44b1-8767-f73659d330a1",
   "metadata": {},
   "outputs": [],
   "source": [
    "import numpy as np\n",
    "import torch\n",
    "import gpytorch\n",
    "from gpytorch.means import ConstantMean\n",
    "from gpytorch.kernels import ScaleKernel, RBFKernel\n",
    "from gpytorch.distributions import MultivariateNormal\n",
    "import matplotlib.pyplot as plt"
   ]
  },
  {
   "cell_type": "markdown",
   "id": "367bbfc4-6d5b-4b51-9c75-5c683a80a8b7",
   "metadata": {},
   "source": [
    "## Gaussian Process Regression\n",
    "\n",
    "A data set $\\mathcal{D}= \\left (\\mathbf{x}, \\mathbf{y} \\right ) = \\left \\{ (x_i, y_i), x_i \\in \\mathbb{R}^d, y_i \\in \\mathbb{R} \\right \\}_{i = 1}^N$ is given.  \n",
    "\n",
    "The assumption is that the actual observations are a noise-corrupted value of the true model:\n",
    "$$\n",
    "y = f(x) + \\varepsilon, \\tag{1}\n",
    "$$\n",
    "where $f(x)$ is a Gaussian Processes and $\\varepsilon \\sim \\mathcal{N}(0, \\sigma_n^2)$ is a Gaussian noise. FOr example, the model could be $f(\\mathbf{x}) = \\mathbf{w}^T \\mathbf{x}$.  \n",
    "\n",
    "In general, the posterior predictive distribution is:\n",
    "\n",
    "$$ p(y \\mid x, \\mathcal{D}) = \\int p(y, w \\mid x, \\mathcal{D}) d w = \\int p(y \\mid x, w) p(w \\mid \\mathcal{D}) dw \\tag{2}$$\n",
    "\n",
    "Using Eq. (1), one can write the likelihood, which is Gaussian\n",
    "\n",
    "$$p(y \\mid w) = p(y \\mid x, w) = \\mathcal{N}(y; f(x), \\sigma^2)$$\n",
    "\n",
    "However, the integral in Eq. (1) is intractable in closed form. The trick is realizing that the first term in Eq. (1) is a Gaussian. Furthermore, $p(w \\mid \\mathcal{D}) = \\frac{p(\\mathcal{D} \\mid w) p(w)}{Z}$ is a product of Gaussians normalized by a Gaussian, so it is also a Gaussian, therefore, $p(y \\mid x, \\mathcal{D}) $ is a Gaussian."
   ]
  },
  {
   "cell_type": "markdown",
   "id": "09d86375-1fd0-440b-9f49-3b01cb303d4a",
   "metadata": {},
   "source": [
    "\n",
    "$p(\\mathbf{y}\\mid\\mathbf{x})$ is thus fully specified by the Kernel, and it starts out being the Gaussian process prior\n",
    "$$ p(y_1, ... y_n \\mid x_1, .., x_n)  = \\mathcal{N}(y;0, \\Sigma) \\tag{3}$$ \n",
    "Where, $\\Sigma$ can be decomposed as\n",
    "\n",
    "$$ \\Sigma =  \\begin{pmatrix}\n",
    "k & k_* \\\\\n",
    "k_*^T & k_{**}\n",
    "\\end{pmatrix} $$\n",
    "\n",
    "Another way to write Eq. (3) is\n",
    "$$ \\left[\\begin{array}{c}\n",
    "f\\left(x^*\\right) \\\\\n",
    "f\\left(x_1\\right) \\\\\n",
    "\\vdots \\\\\n",
    "f\\left(x_n\\right)\n",
    "\\end{array}\\right] \\sim N\\left(\\left[\\begin{array}{c}\n",
    "0 \\\\\n",
    "0 \\\\\n",
    "\\vdots \\\\\n",
    "0\n",
    "\\end{array}\\right],\\left[\\begin{array}{cc}\n",
    "k\\left(x^*, x^*\\right) & k\\left(x^*, \\mathbf{x}\\right)^T \\\\\n",
    "k\\left(x^*, \\mathbf{x}\\right) & K_{\\mathbf{x x}}\n",
    "\\end{array}\\right]\\right)$$\n",
    "\n",
    "\n",
    "where the the kernel components $k$'s are functions of $x_1,...,x_n$ and $x_*$\n",
    "$$\n",
    "\\mathbf{k} = \\left ( k(x_*, x_1), \\ldots, k(x_*, x_N) \\right )^T\n",
    "$$\n",
    "\n",
    "The most commonly used kernel is the RBF kernel  $\\Sigma_{x,y} = k(x, y) = \\exp\\left ( -\\dfrac{\\|x - y\\|^2}{2l^2}\\right )$,\n",
    "where $l$ is a `lengthscale`.  There is usually a multiplicative constant in front which controls the amplitude, and can be accessed with `ScaleKernel(RBFKernel())`\n",
    "\n",
    "Now, given a new data point $x^*$, $y^*$ can be predicted with\n",
    "$$\n",
    "y_* | \\mathcal{D}, x_* \\sim \\mathcal{N}(m(x_*), \\sigma(x_*)), \\tag{4}\n",
    "$$\n",
    "with predictive mean and variance given by\n",
    "$$\n",
    "m(x_*) = \\mathbf{k}^T \\mathbf{K}_y^{-1} \\mathbf{y} = \\sum_{i = 1}^N \\alpha_i k(x_*, x_i),\n",
    "$$\n",
    "$$\n",
    "\\sigma^2(x_*) = k(x_*, x_*) - \\mathbf{k}^T\\mathbf{K}_y^{-1}\\mathbf{k},\n",
    "$$\n",
    "\n",
    "$$\n",
    "\\mathbf{K}_y = \\|k(x_i, x_j)\\|_{i, j = 1}^N + \\sigma_n^2 \\mathbf{I}\n",
    "$$\n",
    "\n"
   ]
  },
  {
   "cell_type": "code",
   "execution_count": 129,
   "id": "d8998bff-d601-406a-8453-205c0655ea56",
   "metadata": {},
   "outputs": [],
   "source": [
    "def branin(x, y):\n",
    "    a = 1\n",
    "    b = 5.1 / (4*np.pi**2)\n",
    "    c = 5 / np.pi\n",
    "    r = 6\n",
    "    s = 10\n",
    "    t = 1 / (8*np.pi)\n",
    "    return a*(y - b*x**2 + c*x - r)**2 + s*(1-t)*np.cos(x) + s\n",
    "\n",
    "def objective_function(x):\n",
    "    # Objective function with a non-differentiable point at x = 0\n",
    "    return torch.abs(x - 2)  # Shifted to have a minimum at x = 2\n"
   ]
  },
  {
   "cell_type": "markdown",
   "id": "adeb0372-98b2-40ae-9cc0-a7a56253f25b",
   "metadata": {},
   "source": [
    "The `GPModel` class is the thing that calculates the Gaussian process. If you pass it the training set, it calculates the prior distribution. If you pass it some new points, it calculates the conditional distribution given by n\n",
    "$$\n",
    "y_* | X, \\mathbf{y}, x_* \\sim \\mathcal{N}(m(x_*), \\sigma(x_*)),\n",
    "$$"
   ]
  },
  {
   "cell_type": "code",
   "execution_count": 130,
   "id": "b32e212c-2965-4e06-bfe2-2393e03b8188",
   "metadata": {},
   "outputs": [],
   "source": [
    "class GPModel(gpytorch.models.ExactGP):\n",
    "    def __init__(self, train_x, train_y, likelihood):\n",
    "        super(GPModel, self).__init__(train_x, train_y, likelihood)\n",
    "        self.mean_module = ConstantMean()\n",
    "        self.covar_module = ScaleKernel(RBFKernel())\n",
    "\n",
    "    def forward(self, x):\n",
    "        mean_x = self.mean_module(x)\n",
    "        covar_x = self.covar_module(x)\n",
    "        return MultivariateNormal(mean_x, covar_x)\n",
    "\n",
    "    def predict(self, train_x):\n",
    "            self.eval()\n",
    "            with torch.no_grad():\n",
    "                pred = self(train_x)\n",
    "                return self.likelihood(pred)\n",
    "                "
   ]
  },
  {
   "cell_type": "markdown",
   "id": "a1bde14f-117c-4358-ac7e-665f1a43a272",
   "metadata": {},
   "source": [
    "## train on training set"
   ]
  },
  {
   "cell_type": "code",
   "execution_count": 399,
   "id": "35426372-9a73-4def-8bae-83dc625b3927",
   "metadata": {},
   "outputs": [
    {
     "name": "stdout",
     "output_type": "stream",
     "text": [
      "tensor([7.0000, 4.5000, 2.0000, 0.5000, 3.0000], dtype=torch.float64)\n"
     ]
    }
   ],
   "source": [
    "BRANIN=False\n",
    "if BRANIN:\n",
    "    train_x = torch.rand(5,2,dtype=torch.float64)\n",
    "    def calc_output(train_x):\n",
    "        return torch.tensor([branin(x[0], x[1]) for x in train_x],dtype=torch.float64).unsqueeze(-1)\n",
    "    train_y = calc_output(train_x).reshape(-1)\n",
    "else:\n",
    "\n",
    "    train_x = torch.linspace(-5, 5, 5,dtype=torch.float64)\n",
    "    train_y = objective_function(train_x)\n",
    "    print(train_y)\n",
    "    \n"
   ]
  },
  {
   "cell_type": "markdown",
   "id": "a8ebcb51-4184-4d71-aca1-dfe79548ca4a",
   "metadata": {},
   "source": [
    "## Define model and likelihood\n",
    "\n",
    "A likelihood here is a mapping from the latent function values $f(\\mathbf{x})$ to the observed labels $y$, namely $p(y \\mid f(\\mathbf{x}))$. For example $p(y \\mid f(\\mathbf{x})) = f + \\varepsilon$"
   ]
  },
  {
   "cell_type": "code",
   "execution_count": 441,
   "id": "0938dbdc-1d14-4cd2-821a-8e3aa0fa508e",
   "metadata": {},
   "outputs": [],
   "source": [
    "# GP model\n",
    "likelihood = gpytorch.likelihoods.GaussianLikelihood()\n",
    "model = GPModel(train_x, train_y, likelihood)"
   ]
  },
  {
   "cell_type": "code",
   "execution_count": 442,
   "id": "1c65989d-d81a-4e9a-b7a0-8bfa097d0c09",
   "metadata": {},
   "outputs": [
    {
     "data": {
      "text/plain": [
       "0.6932471990585327"
      ]
     },
     "execution_count": 442,
     "metadata": {},
     "output_type": "execute_result"
    }
   ],
   "source": [
    "model.likelihood.noise.item()"
   ]
  },
  {
   "cell_type": "code",
   "execution_count": 443,
   "id": "329b3b19-b438-4e90-85d6-f50b60fdaa0f",
   "metadata": {},
   "outputs": [
    {
     "data": {
      "text/plain": [
       "(tensor([[-5.0000],\n",
       "         [-2.5000],\n",
       "         [ 0.0000],\n",
       "         [ 2.5000],\n",
       "         [ 5.0000]], dtype=torch.float64),)"
      ]
     },
     "execution_count": 443,
     "metadata": {},
     "output_type": "execute_result"
    }
   ],
   "source": [
    "model.train_inputs"
   ]
  },
  {
   "cell_type": "code",
   "execution_count": 444,
   "id": "ce4bbeda-3842-44e7-b0f3-cc525a4bb5fc",
   "metadata": {},
   "outputs": [
    {
     "data": {
      "text/plain": [
       "2"
      ]
     },
     "execution_count": 444,
     "metadata": {},
     "output_type": "execute_result"
    }
   ],
   "source": [
    "model.train_inputs[0].numpy().ndim"
   ]
  },
  {
   "cell_type": "code",
   "execution_count": 404,
   "id": "1050513f-376b-4b52-ad52-e28d7f567e0c",
   "metadata": {},
   "outputs": [
    {
     "data": {
      "text/plain": [
       "(5, 1)"
      ]
     },
     "execution_count": 404,
     "metadata": {},
     "output_type": "execute_result"
    }
   ],
   "source": [
    "model.train_inputs[0].numpy().shape"
   ]
  },
  {
   "cell_type": "code",
   "execution_count": 405,
   "id": "6ebc4ab3-368c-4e2d-b227-3bae410df7cf",
   "metadata": {},
   "outputs": [
    {
     "data": {
      "text/plain": [
       "tensor([7.0000, 4.5000, 2.0000, 0.5000, 3.0000], dtype=torch.float64)"
      ]
     },
     "execution_count": 405,
     "metadata": {},
     "output_type": "execute_result"
    }
   ],
   "source": [
    "model.train_targets"
   ]
  },
  {
   "cell_type": "code",
   "execution_count": 406,
   "id": "c99004ab-f9fd-47ea-8b2f-36aa20f52214",
   "metadata": {},
   "outputs": [],
   "source": [
    "def plot_model(model):\n",
    "    train_x = model.train_inputs[0].numpy()\n",
    "    train_y = model.train_targets.numpy()\n",
    "    if train_x.shape[1] == 1 or train_x.ndim ==1:\n",
    "        x_star = torch.linspace(train_x.min(), train_x.max(), 200)\n",
    "    else:\n",
    "        x_star = torch.tensor(np.random.rand(train_x.shape[0],train_x.shape[1]),)\n",
    "    model.eval()\n",
    "    predictive_distribution = model.predict(x_star)\n",
    "    lower, upper = predictive_distribution.confidence_region()\n",
    "    pred = predictive_distribution.mean.numpy()\n",
    "\n",
    "    \n",
    "    plt.plot(x_star.numpy(), pred, label='Mean Prediction')\n",
    "    plt.fill_between(x_star.numpy(), lower.numpy(), upper.numpy(), alpha=0.5)\n",
    "    plt.plot(train_x, train_y, 'k*', label='Observed Data')\n",
    "    plt.legend()\n",
    "    plt.show()"
   ]
  },
  {
   "cell_type": "code",
   "execution_count": 407,
   "id": "f674822c-0f4f-4d85-b16f-f32be58f69f9",
   "metadata": {},
   "outputs": [
    {
     "data": {
      "image/png": "[encoded data removed]",
      "text/plain": [
       "<Figure size 640x480 with 1 Axes>"
      ]
     },
     "metadata": {},
     "output_type": "display_data"
    }
   ],
   "source": [
    "plot_model(model)"
   ]
  },
  {
   "cell_type": "code",
   "execution_count": 408,
   "id": "119abcf0-7317-4441-9599-3811f1d3622d",
   "metadata": {},
   "outputs": [],
   "source": [
    "def print_parameters(model):\n",
    "    state_dict = model.state_dict()\n",
    "    for param_name, param_tensor in state_dict.items():\n",
    "        print(param_name, param_tensor)"
   ]
  },
  {
   "cell_type": "code",
   "execution_count": 409,
   "id": "50d63131-7cce-4840-8242-6a9c770821bc",
   "metadata": {},
   "outputs": [
    {
     "name": "stdout",
     "output_type": "stream",
     "text": [
      "likelihood.noise_covar.raw_noise tensor([0.])\n",
      "likelihood.noise_covar.raw_noise_constraint.lower_bound tensor(1.0000e-04)\n",
      "likelihood.noise_covar.raw_noise_constraint.upper_bound tensor(inf)\n",
      "mean_module.raw_constant tensor(0.)\n",
      "covar_module.raw_outputscale tensor(0.)\n",
      "covar_module.base_kernel.raw_lengthscale tensor([[0.]])\n",
      "covar_module.base_kernel.raw_lengthscale_constraint.lower_bound tensor(0.)\n",
      "covar_module.base_kernel.raw_lengthscale_constraint.upper_bound tensor(inf)\n",
      "covar_module.raw_outputscale_constraint.lower_bound tensor(0.)\n",
      "covar_module.raw_outputscale_constraint.upper_bound tensor(inf)\n"
     ]
    }
   ],
   "source": [
    "print_parameters(model)"
   ]
  },
  {
   "cell_type": "markdown",
   "id": "51b4c26a-5538-4f2a-bb3b-22c94dd2ff6f",
   "metadata": {},
   "source": [
    "## Train GP model"
   ]
  },
  {
   "cell_type": "code",
   "execution_count": 449,
   "id": "2efe3f47-c35a-43df-9ce6-9b00651b0748",
   "metadata": {},
   "outputs": [],
   "source": [
    "def train_model(model, train_x, train_y, n_epochs, print_=False):\n",
    "    # Use the Adam optimizer\n",
    "    optimizer = torch.optim.Adam(model.parameters(), lr=0.1)  # Includes GaussianLikelihood parameters\n",
    "    mll = gpytorch.mlls.ExactMarginalLogLikelihood(likelihood, model)\n",
    "    \n",
    "    \n",
    "    # Optimize the model\n",
    "    model.train()\n",
    "    for epoch in range(n_epochs):\n",
    "        optimizer.zero_grad()\n",
    "        output = model(train_x)\n",
    "        loss = - mll(output, train_y)\n",
    "        if print_:\n",
    "                print('Epoch %d/%d - Loss: %.3f   lengthscale: %.3f   noise: %.3f' % (\n",
    "        epoch + 1, n_epochs, loss.item(),\n",
    "        model.covar_module.base_kernel.lengthscale.item(),\n",
    "        model.likelihood.noise.item()\n",
    "    ))\n",
    "        loss.backward()\n",
    "        optimizer.step()"
   ]
  },
  {
   "cell_type": "code",
   "execution_count": 450,
   "id": "c7802314-d178-4454-bd06-f31b89bb10a2",
   "metadata": {},
   "outputs": [
    {
     "name": "stdout",
     "output_type": "stream",
     "text": [
      "Epoch 1/50 - Loss: 7.028   lengthscale: 0.693   noise: 0.693\n",
      "Epoch 2/50 - Loss: 6.424   lengthscale: 0.744   noise: 0.744\n",
      "Epoch 3/50 - Loss: 5.893   lengthscale: 0.797   noise: 0.798\n",
      "Epoch 4/50 - Loss: 5.425   lengthscale: 0.851   noise: 0.853\n",
      "Epoch 5/50 - Loss: 5.013   lengthscale: 0.907   noise: 0.910\n",
      "Epoch 6/50 - Loss: 4.652   lengthscale: 0.966   noise: 0.967\n",
      "Epoch 7/50 - Loss: 4.334   lengthscale: 1.028   noise: 1.026\n",
      "Epoch 8/50 - Loss: 4.056   lengthscale: 1.092   noise: 1.084\n",
      "Epoch 9/50 - Loss: 3.813   lengthscale: 1.160   noise: 1.142\n",
      "Epoch 10/50 - Loss: 3.601   lengthscale: 1.231   noise: 1.200\n",
      "Epoch 11/50 - Loss: 3.416   lengthscale: 1.305   noise: 1.257\n",
      "Epoch 12/50 - Loss: 3.257   lengthscale: 1.381   noise: 1.312\n",
      "Epoch 13/50 - Loss: 3.119   lengthscale: 1.459   noise: 1.366\n",
      "Epoch 14/50 - Loss: 3.000   lengthscale: 1.538   noise: 1.418\n",
      "Epoch 15/50 - Loss: 2.898   lengthscale: 1.618   noise: 1.468\n",
      "Epoch 16/50 - Loss: 2.809   lengthscale: 1.698   noise: 1.516\n",
      "Epoch 17/50 - Loss: 2.733   lengthscale: 1.778   noise: 1.562\n",
      "Epoch 18/50 - Loss: 2.667   lengthscale: 1.857   noise: 1.606\n",
      "Epoch 19/50 - Loss: 2.610   lengthscale: 1.934   noise: 1.648\n",
      "Epoch 20/50 - Loss: 2.560   lengthscale: 2.010   noise: 1.687\n",
      "Epoch 21/50 - Loss: 2.517   lengthscale: 2.083   noise: 1.725\n",
      "Epoch 22/50 - Loss: 2.479   lengthscale: 2.153   noise: 1.760\n",
      "Epoch 23/50 - Loss: 2.446   lengthscale: 2.221   noise: 1.793\n",
      "Epoch 24/50 - Loss: 2.417   lengthscale: 2.286   noise: 1.824\n",
      "Epoch 25/50 - Loss: 2.392   lengthscale: 2.347   noise: 1.854\n",
      "Epoch 26/50 - Loss: 2.369   lengthscale: 2.405   noise: 1.881\n",
      "Epoch 27/50 - Loss: 2.350   lengthscale: 2.460   noise: 1.907\n",
      "Epoch 28/50 - Loss: 2.332   lengthscale: 2.512   noise: 1.931\n",
      "Epoch 29/50 - Loss: 2.316   lengthscale: 2.560   noise: 1.953\n",
      "Epoch 30/50 - Loss: 2.302   lengthscale: 2.605   noise: 1.974\n",
      "Epoch 31/50 - Loss: 2.289   lengthscale: 2.646   noise: 1.993\n",
      "Epoch 32/50 - Loss: 2.278   lengthscale: 2.684   noise: 2.011\n",
      "Epoch 33/50 - Loss: 2.268   lengthscale: 2.720   noise: 2.028\n",
      "Epoch 34/50 - Loss: 2.258   lengthscale: 2.751   noise: 2.043\n",
      "Epoch 35/50 - Loss: 2.250   lengthscale: 2.780   noise: 2.058\n",
      "Epoch 36/50 - Loss: 2.242   lengthscale: 2.807   noise: 2.071\n",
      "Epoch 37/50 - Loss: 2.235   lengthscale: 2.830   noise: 2.083\n",
      "Epoch 38/50 - Loss: 2.228   lengthscale: 2.851   noise: 2.094\n",
      "Epoch 39/50 - Loss: 2.222   lengthscale: 2.869   noise: 2.104\n",
      "Epoch 40/50 - Loss: 2.217   lengthscale: 2.885   noise: 2.114\n",
      "Epoch 41/50 - Loss: 2.212   lengthscale: 2.898   noise: 2.123\n",
      "Epoch 42/50 - Loss: 2.207   lengthscale: 2.910   noise: 2.130\n",
      "Epoch 43/50 - Loss: 2.202   lengthscale: 2.919   noise: 2.138\n",
      "Epoch 44/50 - Loss: 2.198   lengthscale: 2.927   noise: 2.144\n",
      "Epoch 45/50 - Loss: 2.194   lengthscale: 2.933   noise: 2.150\n",
      "Epoch 46/50 - Loss: 2.190   lengthscale: 2.937   noise: 2.155\n",
      "Epoch 47/50 - Loss: 2.186   lengthscale: 2.940   noise: 2.160\n",
      "Epoch 48/50 - Loss: 2.183   lengthscale: 2.941   noise: 2.164\n",
      "Epoch 49/50 - Loss: 2.180   lengthscale: 2.941   noise: 2.168\n",
      "Epoch 50/50 - Loss: 2.177   lengthscale: 2.940   noise: 2.171\n"
     ]
    }
   ],
   "source": [
    "train_model(model, train_x, train_y, 50,print_=True)"
   ]
  },
  {
   "cell_type": "code",
   "execution_count": 451,
   "id": "ce3df86c-0160-4842-95d5-eed0dac078c1",
   "metadata": {},
   "outputs": [
    {
     "data": {
      "text/plain": [
       "2.1738152503967285"
      ]
     },
     "execution_count": 451,
     "metadata": {},
     "output_type": "execute_result"
    }
   ],
   "source": [
    "model.likelihood.noise.item()"
   ]
  },
  {
   "cell_type": "markdown",
   "id": "9df72f24-522e-4099-97cf-354630c81b89",
   "metadata": {},
   "source": [
    "## observe that the GP model and likelihood parameters have been optimized"
   ]
  },
  {
   "cell_type": "code",
   "execution_count": 452,
   "id": "5e40f5d4-1ab6-40c3-adea-d9a37f91658e",
   "metadata": {},
   "outputs": [
    {
     "name": "stdout",
     "output_type": "stream",
     "text": [
      "likelihood.noise_covar.raw_noise tensor([2.0530])\n",
      "likelihood.noise_covar.raw_noise_constraint.lower_bound tensor(1.0000e-04)\n",
      "likelihood.noise_covar.raw_noise_constraint.upper_bound tensor(inf)\n",
      "mean_module.raw_constant tensor(2.8189)\n",
      "covar_module.raw_outputscale tensor(2.3031)\n",
      "covar_module.base_kernel.raw_lengthscale tensor([[2.8836]])\n",
      "covar_module.base_kernel.raw_lengthscale_constraint.lower_bound tensor(0.)\n",
      "covar_module.base_kernel.raw_lengthscale_constraint.upper_bound tensor(inf)\n",
      "covar_module.raw_outputscale_constraint.lower_bound tensor(0.)\n",
      "covar_module.raw_outputscale_constraint.upper_bound tensor(inf)\n"
     ]
    }
   ],
   "source": [
    "print_parameters(model)"
   ]
  },
  {
   "cell_type": "code",
   "execution_count": 453,
   "id": "5dbb865d-fd41-4964-b073-987ca613ef0b",
   "metadata": {},
   "outputs": [
    {
     "data": {
      "image/png": "[encoded data removed]",
      "text/plain": [
       "<Figure size 640x480 with 1 Axes>"
      ]
     },
     "metadata": {},
     "output_type": "display_data"
    }
   ],
   "source": [
    "plot_model(model)"
   ]
  },
  {
   "cell_type": "markdown",
   "id": "33620b4b-99f5-4cc7-bd20-a48f01acc424",
   "metadata": {},
   "source": [
    "## Expected Improvement\n",
    "\n",
    "$$\\operatorname{EI}(x)=\\mathbb{E}\\left[\\max \\left(f_{\\text {best }}-f(x), 0\\right)\\right]$$\n",
    "\n",
    "Assuming $f(x) \\sim \\mathcal{N}\\left(\\mu(x), \\sigma(x)^2\\right)$, the EI can be written as\n",
    "\n",
    "$$\\mathrm{EI}(x)=\\left(\\mu(x)-f_{\\text {best }}-\\xi\\right) \\Phi(Z)+\\sigma(x) \\phi(Z)$$\n",
    "\n",
    "where\n",
    "\n",
    "- $$\\begin{array}{l}\n",
    "Z=\\frac{\\mu(x)-f_{\\text {bost }}-\\xi}{\\sigma(x)} \\text { if } \\sigma(x)>0 \\\\\n",
    "Z=0 \\text { if } \\sigma(x)=0\n",
    "\\end{array}$$\n",
    "\n",
    "- $\\Phi$ is the CDF of the standard normal distribution, $\\phi(x)$ is the PDF of the standard normal  distribution\n",
    "\n",
    "- $\\xi$ is a small non-negative number (often set to zero) to introduce a trade-off between exploitation and exploration. **the larger the $\\xi$ the more exploration** "
   ]
  },
  {
   "cell_type": "code",
   "execution_count": 454,
   "id": "b15974f1-7824-4723-b889-edcab92b693a",
   "metadata": {},
   "outputs": [],
   "source": [
    "def expected_improvement(model, observed_y, candidate_set):\n",
    "    with torch.no_grad(), gpytorch.settings.fast_pred_var():\n",
    "        observed_pred = model.predict(candidate_set)\n",
    "        best_f = observed_y.min()\n",
    "        \n",
    "        mean = observed_pred.mean\n",
    "        sigma = observed_pred.variance.sqrt()\n",
    "        gamma = (best_f - mean) / sigma\n",
    "        ei = sigma * (gamma * torch.distributions.Normal(0, 1).cdf(gamma) + torch.distributions.Normal(0, 1).log_prob(gamma).exp())\n",
    "    return ei\n"
   ]
  },
  {
   "cell_type": "markdown",
   "id": "07718c27-b7ce-433e-a1e4-336a7fc3d706",
   "metadata": {},
   "source": [
    "## Bayesian Optimization Algorithm\n",
    "1. Construct a regression model $\\hat{f}(x)$ of a function $f(x)$ using the sample $D = \\{(x_i, f(x_i))\\}_{i = 1}^n$\n",
    "2. Select a new point that maximize an acquisition function\n",
    "$$\n",
    "x_{new} = \\arg\\max\\limits_x a(x)\n",
    "$$\n",
    "3. Calculate $f(x_{new})$ at the new point.\n",
    "4. Add the pair $(x_{new}, f(x_{new}))$ to the sample $D$.\n",
    "5. Update the model $\\hat{f}(x)$ and go to step 2."
   ]
  },
  {
   "cell_type": "code",
   "execution_count": 465,
   "id": "a5b67081-d98d-4a14-b62b-d4cbdf08f756",
   "metadata": {},
   "outputs": [],
   "source": [
    "def BayesOpt(model, train_x, train_y, n_epochs, retrain_gp=False,print_=False):\n",
    "    # Use the Adam optimizer\n",
    "\n",
    "    model.eval()\n",
    "    likelihood.eval()\n",
    "    for epoch in range(n_epochs):\n",
    "\n",
    "        x_candidates = torch.linspace(-5,5,100)\n",
    "        ei = expected_improvement(model, train_y, x_candidates)\n",
    "        ei_argmax = ei.argmax()\n",
    "        next_x = x_candidates[ei_argmax]\n",
    "        next_y = objective_function(next_x)\n",
    "        train_x = torch.cat([train_x, next_x.unsqueeze(-1)])\n",
    "        next_y = torch.tensor([next_y])\n",
    "\n",
    "        print(f'epoch {epoch} next_x = {next_x}, next_y = {next_y}')\n",
    "        train_y = torch.cat([train_y, next_y])\n",
    "\n",
    "        model.set_train_data(inputs=train_x, targets=train_y, strict=False)\n",
    "        \n",
    "        # retrain model with updated data\n",
    "        if retrain_gp:\n",
    "            model.train()\n",
    "            train_model(model, train_x, train_y, n_epochs, print_=print_)\n",
    "        \n",
    "        \n",
    "        "
   ]
  },
  {
   "cell_type": "markdown",
   "id": "2bb37b42-7ec2-4ab7-857d-fbac79703aee",
   "metadata": {},
   "source": [
    "## perform Bayesian optimization without retraing model with the updated data"
   ]
  },
  {
   "cell_type": "code",
   "execution_count": 466,
   "id": "4f352aae-3b0f-45a4-b644-a8cdf0e91d16",
   "metadata": {},
   "outputs": [
    {
     "name": "stdout",
     "output_type": "stream",
     "text": [
      "epoch 0 next_x = 2.1717171669006348, next_y = tensor([0.1717])\n",
      "epoch 1 next_x = 2.1717171669006348, next_y = tensor([0.1717])\n",
      "epoch 2 next_x = 2.1717171669006348, next_y = tensor([0.1717])\n",
      "epoch 3 next_x = 2.1717171669006348, next_y = tensor([0.1717])\n",
      "epoch 4 next_x = 2.1717171669006348, next_y = tensor([0.1717])\n",
      "epoch 5 next_x = 2.1717171669006348, next_y = tensor([0.1717])\n",
      "epoch 6 next_x = 2.1717171669006348, next_y = tensor([0.1717])\n",
      "epoch 7 next_x = 2.1717171669006348, next_y = tensor([0.1717])\n",
      "epoch 8 next_x = 2.1717171669006348, next_y = tensor([0.1717])\n",
      "epoch 9 next_x = 2.1717171669006348, next_y = tensor([0.1717])\n",
      "epoch 10 next_x = 2.1717171669006348, next_y = tensor([0.1717])\n",
      "epoch 11 next_x = 2.1717171669006348, next_y = tensor([0.1717])\n",
      "epoch 12 next_x = 2.1717171669006348, next_y = tensor([0.1717])\n",
      "epoch 13 next_x = 2.1717171669006348, next_y = tensor([0.1717])\n",
      "epoch 14 next_x = 2.1717171669006348, next_y = tensor([0.1717])\n",
      "epoch 15 next_x = 2.1717171669006348, next_y = tensor([0.1717])\n",
      "epoch 16 next_x = 2.1717171669006348, next_y = tensor([0.1717])\n",
      "epoch 17 next_x = 2.1717171669006348, next_y = tensor([0.1717])\n",
      "epoch 18 next_x = 2.1717171669006348, next_y = tensor([0.1717])\n",
      "epoch 19 next_x = 2.1717171669006348, next_y = tensor([0.1717])\n",
      "epoch 20 next_x = 2.1717171669006348, next_y = tensor([0.1717])\n",
      "epoch 21 next_x = 2.1717171669006348, next_y = tensor([0.1717])\n",
      "epoch 22 next_x = 2.1717171669006348, next_y = tensor([0.1717])\n",
      "epoch 23 next_x = 2.1717171669006348, next_y = tensor([0.1717])\n",
      "epoch 24 next_x = 2.1717171669006348, next_y = tensor([0.1717])\n"
     ]
    }
   ],
   "source": [
    "BayesOpt(model, train_x, train_y, 25)"
   ]
  },
  {
   "cell_type": "code",
   "execution_count": 467,
   "id": "daaebf19-e8cc-43dd-9b27-f928fc78cca2",
   "metadata": {},
   "outputs": [
    {
     "data": {
      "text/plain": [
       "torch.Size([5])"
      ]
     },
     "execution_count": 467,
     "metadata": {},
     "output_type": "execute_result"
    }
   ],
   "source": [
    "train_x.shape"
   ]
  },
  {
   "cell_type": "code",
   "execution_count": 468,
   "id": "bd469c15-d12f-4c68-b919-b95e1ca30cf9",
   "metadata": {},
   "outputs": [
    {
     "data": {
      "text/plain": [
       "(30, 1)"
      ]
     },
     "execution_count": 468,
     "metadata": {},
     "output_type": "execute_result"
    }
   ],
   "source": [
    "model.train_inputs[0].numpy().shape"
   ]
  },
  {
   "cell_type": "code",
   "execution_count": 469,
   "id": "cd88fee5-fb36-4750-9b40-b569b5663d68",
   "metadata": {},
   "outputs": [
    {
     "data": {
      "image/png": "[encoded data removed]",
      "text/plain": [
       "<Figure size 640x480 with 1 Axes>"
      ]
     },
     "metadata": {},
     "output_type": "display_data"
    }
   ],
   "source": [
    "plot_model(model)"
   ]
  },
  {
   "cell_type": "code",
   "execution_count": 470,
   "id": "5b14a436-9188-4c5f-9f4f-8640acfe61ca",
   "metadata": {},
   "outputs": [],
   "source": [
    "def get_best_parameter(model):\n",
    "    train_x = model.train_inputs[0].numpy()\n",
    "    train_y = model.train_targets.numpy()\n",
    "    best_param_observed_param = train_x[train_y.argmin()]\n",
    "    print(f'best parameter = {best_param_observed_param}')\n",
    "    return best_param_observed_param"
   ]
  },
  {
   "cell_type": "code",
   "execution_count": 471,
   "id": "51c7ed20-8889-4837-99bd-d4eed984eb1a",
   "metadata": {},
   "outputs": [
    {
     "name": "stdout",
     "output_type": "stream",
     "text": [
      "best parameter = [2.17171717]\n"
     ]
    },
    {
     "data": {
      "text/plain": [
       "array([2.17171717])"
      ]
     },
     "execution_count": 471,
     "metadata": {},
     "output_type": "execute_result"
    }
   ],
   "source": [
    "get_best_parameter(model)"
   ]
  },
  {
   "cell_type": "markdown",
   "id": "2a0f2250-43e4-4ce3-a9d8-e06c50db3bb3",
   "metadata": {},
   "source": [
    "## Perform Bayeian Optimization with retraing model with the updated data"
   ]
  },
  {
   "cell_type": "code",
   "execution_count": 472,
   "id": "054ecf9e-38ba-4d9b-a7e3-6b704805d033",
   "metadata": {},
   "outputs": [
    {
     "name": "stdout",
     "output_type": "stream",
     "text": [
      "epoch 0 next_x = 2.1717171669006348, next_y = tensor([0.1717])\n",
      "epoch 1 next_x = 1.9696969985961914, next_y = tensor([0.0303])\n",
      "epoch 2 next_x = 1.8686869144439697, next_y = tensor([0.1313])\n",
      "epoch 3 next_x = 1.767676830291748, next_y = tensor([0.2323])\n",
      "epoch 4 next_x = 1.767676830291748, next_y = tensor([0.2323])\n",
      "epoch 5 next_x = 1.8686869144439697, next_y = tensor([0.1313])\n",
      "epoch 6 next_x = 1.8686869144439697, next_y = tensor([0.1313])\n",
      "epoch 7 next_x = 1.8686869144439697, next_y = tensor([0.1313])\n",
      "epoch 8 next_x = 3.7878787517547607, next_y = tensor([1.7879])\n",
      "epoch 9 next_x = -0.9595960378646851, next_y = tensor([2.9596])\n",
      "epoch 10 next_x = 2.070707082748413, next_y = tensor([0.0707])\n",
      "epoch 11 next_x = 2.070707082748413, next_y = tensor([0.0707])\n",
      "epoch 12 next_x = -3.5858585834503174, next_y = tensor([5.5859])\n",
      "epoch 13 next_x = 2.070707082748413, next_y = tensor([0.0707])\n",
      "epoch 14 next_x = 2.070707082748413, next_y = tensor([0.0707])\n",
      "epoch 15 next_x = 1.9696969985961914, next_y = tensor([0.0303])\n",
      "epoch 16 next_x = 1.9696969985961914, next_y = tensor([0.0303])\n",
      "epoch 17 next_x = 1.9696969985961914, next_y = tensor([0.0303])\n",
      "epoch 18 next_x = 3.1818182468414307, next_y = tensor([1.1818])\n",
      "epoch 19 next_x = 1.9696969985961914, next_y = tensor([0.0303])\n",
      "epoch 20 next_x = 1.9696969985961914, next_y = tensor([0.0303])\n",
      "epoch 21 next_x = 1.9696969985961914, next_y = tensor([0.0303])\n",
      "epoch 22 next_x = 1.9696969985961914, next_y = tensor([0.0303])\n",
      "epoch 23 next_x = 1.9696969985961914, next_y = tensor([0.0303])\n",
      "epoch 24 next_x = 1.9696969985961914, next_y = tensor([0.0303])\n"
     ]
    }
   ],
   "source": [
    "BayesOpt(model, train_x, train_y, 25, retrain_gp=True,print_=False)"
   ]
  },
  {
   "cell_type": "code",
   "execution_count": 473,
   "id": "490a5894-c678-498a-89c8-7bcc685c4aa2",
   "metadata": {},
   "outputs": [
    {
     "data": {
      "image/png": "[encoded data removed]",
      "text/plain": [
       "<Figure size 640x480 with 1 Axes>"
      ]
     },
     "metadata": {},
     "output_type": "display_data"
    }
   ],
   "source": [
    "plot_model(model)"
   ]
  },
  {
   "cell_type": "code",
   "execution_count": 476,
   "id": "bcf2fd1d-919d-4992-ad02-2b472be0b7fc",
   "metadata": {},
   "outputs": [
    {
     "name": "stdout",
     "output_type": "stream",
     "text": [
      "best parameter = [1.969697]\n"
     ]
    },
    {
     "data": {
      "text/plain": [
       "array([1.969697])"
      ]
     },
     "execution_count": 476,
     "metadata": {},
     "output_type": "execute_result"
    }
   ],
   "source": [
    "get_best_parameter(model)"
   ]
  },
  {
   "cell_type": "code",
   "execution_count": 477,
   "id": "ad2b0d7b-269e-4357-87ad-41481942af9f",
   "metadata": {},
   "outputs": [
    {
     "data": {
      "text/plain": [
       "(tensor([[-5.0000],\n",
       "         [-2.5000],\n",
       "         [ 0.0000],\n",
       "         [ 2.5000],\n",
       "         [ 5.0000],\n",
       "         [ 2.1717],\n",
       "         [ 1.9697],\n",
       "         [ 1.8687],\n",
       "         [ 1.7677],\n",
       "         [ 1.7677],\n",
       "         [ 1.8687],\n",
       "         [ 1.8687],\n",
       "         [ 1.8687],\n",
       "         [ 3.7879],\n",
       "         [-0.9596],\n",
       "         [ 2.0707],\n",
       "         [ 2.0707],\n",
       "         [-3.5859],\n",
       "         [ 2.0707],\n",
       "         [ 2.0707],\n",
       "         [ 1.9697],\n",
       "         [ 1.9697],\n",
       "         [ 1.9697],\n",
       "         [ 3.1818],\n",
       "         [ 1.9697],\n",
       "         [ 1.9697],\n",
       "         [ 1.9697],\n",
       "         [ 1.9697],\n",
       "         [ 1.9697],\n",
       "         [ 1.9697]], dtype=torch.float64),)"
      ]
     },
     "execution_count": 477,
     "metadata": {},
     "output_type": "execute_result"
    }
   ],
   "source": [
    "model.train_inputs"
   ]
  },
  {
   "cell_type": "markdown",
   "id": "aef52c31-836a-4714-a584-f15b5f307726",
   "metadata": {},
   "source": [
    "## save model\n"
   ]
  },
  {
   "cell_type": "code",
   "execution_count": 52,
   "id": "e4ee8a5b-bdbd-4de5-bc26-adb673c712df",
   "metadata": {},
   "outputs": [],
   "source": [
    "path = 'models/test_GP.pth'\n",
    "torch.save(model.state_dict(), path)"
   ]
  },
  {
   "cell_type": "markdown",
   "id": "21622978-b3c3-4732-871a-0047273855b1",
   "metadata": {},
   "source": [
    "## Refresh the kernel (as if opening a new notebook) and load model"
   ]
  },
  {
   "cell_type": "code",
   "execution_count": 53,
   "id": "0351f09b-cc03-4bc3-84fd-4e35aaf3f1ff",
   "metadata": {},
   "outputs": [],
   "source": [
    "import numpy as np\n",
    "import torch\n",
    "import gpytorch\n",
    "from gpytorch.means import ConstantMean\n",
    "from gpytorch.kernels import ScaleKernel, RBFKernel\n",
    "from gpytorch.distributions import MultivariateNormal\n",
    "import matplotlib.pyplot as plt"
   ]
  },
  {
   "cell_type": "code",
   "execution_count": 54,
   "id": "0a783798-f04a-4619-9297-396a8fdab296",
   "metadata": {},
   "outputs": [],
   "source": [
    "def branin(x, y):\n",
    "    a = 1\n",
    "    b = 5.1 / (4*np.pi**2)\n",
    "    c = 5 / np.pi\n",
    "    r = 6\n",
    "    s = 10\n",
    "    t = 1 / (8*np.pi)\n",
    "    return a*(y - b*x**2 + c*x - r)**2 + s*(1-t)*np.cos(x) + s\n",
    "\n",
    "def objective_function(x):\n",
    "    # Objective function with a non-differentiable point at x = 0\n",
    "    return torch.abs(x - 2)  # Shifted to have a minimum at x = 2\n"
   ]
  },
  {
   "cell_type": "code",
   "execution_count": 55,
   "id": "97d22d16-0acb-4a8e-9403-bcc5b07e486f",
   "metadata": {},
   "outputs": [],
   "source": [
    "class GPModel(gpytorch.models.ExactGP):\n",
    "    def __init__(self, train_x, train_y, likelihood):\n",
    "        super(GPModel, self).__init__(train_x, train_y, likelihood)\n",
    "        self.mean_module = ConstantMean()\n",
    "        self.covar_module = ScaleKernel(RBFKernel())\n",
    "\n",
    "    def forward(self, x):\n",
    "        mean_x = self.mean_module(x)\n",
    "        covar_x = self.covar_module(x)\n",
    "        return MultivariateNormal(mean_x, covar_x)\n",
    "\n",
    "    def predict(self, train_x):\n",
    "            self.eval()\n",
    "            with torch.no_grad():\n",
    "                pred = self(train_x)\n",
    "                return self.likelihood(pred)\n",
    "                "
   ]
  },
  {
   "cell_type": "code",
   "execution_count": 56,
   "id": "fc73e623-b137-49bb-a12c-fde67cfa3d25",
   "metadata": {},
   "outputs": [
    {
     "name": "stdout",
     "output_type": "stream",
     "text": [
      "tensor([7.0000, 6.7959, 6.5918, 6.3878, 6.1837, 5.9796, 5.7755, 5.5714, 5.3673,\n",
      "        5.1633, 4.9592, 4.7551, 4.5510, 4.3469, 4.1429, 3.9388, 3.7347, 3.5306,\n",
      "        3.3265, 3.1224, 2.9184, 2.7143, 2.5102, 2.3061, 2.1020, 1.8980, 1.6939,\n",
      "        1.4898, 1.2857, 1.0816, 0.8776, 0.6735, 0.4694, 0.2653, 0.0612, 0.1429,\n",
      "        0.3469, 0.5510, 0.7551, 0.9592, 1.1633, 1.3673, 1.5714, 1.7755, 1.9796,\n",
      "        2.1837, 2.3878, 2.5918, 2.7959, 3.0000])\n"
     ]
    },
    {
     "data": {
      "text/plain": [
       "GPModel(\n",
       "  (likelihood): GaussianLikelihood(\n",
       "    (noise_covar): HomoskedasticNoise(\n",
       "      (raw_noise_constraint): GreaterThan(1.000E-04)\n",
       "    )\n",
       "  )\n",
       "  (mean_module): ConstantMean()\n",
       "  (covar_module): ScaleKernel(\n",
       "    (base_kernel): RBFKernel(\n",
       "      (raw_lengthscale_constraint): Positive()\n",
       "    )\n",
       "    (raw_outputscale_constraint): Positive()\n",
       "  )\n",
       ")"
      ]
     },
     "execution_count": 56,
     "metadata": {},
     "output_type": "execute_result"
    }
   ],
   "source": [
    "BRANIN=False\n",
    "if BRANIN:\n",
    "    train_x = torch.rand(5,2)\n",
    "    def calc_output(train_x):\n",
    "        return torch.tensor([branin(x[0], x[1]) for x in train_x]).unsqueeze(-1)\n",
    "    train_y = calc_output(train_x)\n",
    "else:\n",
    "\n",
    "    train_x = torch.linspace(-5, 5, 50)#.unsqueeze(-1)\n",
    "    train_y = objective_function(train_x)#.unsqueeze(-1)\n",
    "    print(train_y)\n",
    "\n",
    "likelihood = gpytorch.likelihoods.GaussianLikelihood()\n",
    "model = GPModel(train_x, train_y, likelihood)\n",
    "path = 'models/test_GP.pth'\n",
    "model.load_state_dict(torch.load(path))\n",
    "model.eval()"
   ]
  },
  {
   "cell_type": "code",
   "execution_count": 57,
   "id": "4dbb28ae-ae56-485f-9009-67bfff19c327",
   "metadata": {},
   "outputs": [
    {
     "data": {
      "text/plain": [
       "(tensor([[-5.0000],\n",
       "         [-4.7959],\n",
       "         [-4.5918],\n",
       "         [-4.3878],\n",
       "         [-4.1837],\n",
       "         [-3.9796],\n",
       "         [-3.7755],\n",
       "         [-3.5714],\n",
       "         [-3.3673],\n",
       "         [-3.1633],\n",
       "         [-2.9592],\n",
       "         [-2.7551],\n",
       "         [-2.5510],\n",
       "         [-2.3469],\n",
       "         [-2.1429],\n",
       "         [-1.9388],\n",
       "         [-1.7347],\n",
       "         [-1.5306],\n",
       "         [-1.3265],\n",
       "         [-1.1224],\n",
       "         [-0.9184],\n",
       "         [-0.7143],\n",
       "         [-0.5102],\n",
       "         [-0.3061],\n",
       "         [-0.1020],\n",
       "         [ 0.1020],\n",
       "         [ 0.3061],\n",
       "         [ 0.5102],\n",
       "         [ 0.7143],\n",
       "         [ 0.9184],\n",
       "         [ 1.1224],\n",
       "         [ 1.3265],\n",
       "         [ 1.5306],\n",
       "         [ 1.7347],\n",
       "         [ 1.9388],\n",
       "         [ 2.1429],\n",
       "         [ 2.3469],\n",
       "         [ 2.5510],\n",
       "         [ 2.7551],\n",
       "         [ 2.9592],\n",
       "         [ 3.1633],\n",
       "         [ 3.3673],\n",
       "         [ 3.5714],\n",
       "         [ 3.7755],\n",
       "         [ 3.9796],\n",
       "         [ 4.1837],\n",
       "         [ 4.3878],\n",
       "         [ 4.5918],\n",
       "         [ 4.7959],\n",
       "         [ 5.0000]]),)"
      ]
     },
     "execution_count": 57,
     "metadata": {},
     "output_type": "execute_result"
    }
   ],
   "source": [
    "model.train_inputs"
   ]
  },
  {
   "cell_type": "code",
   "execution_count": 58,
   "id": "d4e1d213-efe5-4b93-a2bf-5e794b04ecda",
   "metadata": {},
   "outputs": [
    {
     "data": {
      "image/png": "[encoded data removed]",
      "text/plain": [
       "<Figure size 640x480 with 1 Axes>"
      ]
     },
     "metadata": {},
     "output_type": "display_data"
    }
   ],
   "source": [
    "x = torch.linspace(-5, 5, 10)\n",
    "with torch.no_grad():\n",
    "    pred = model(x.unsqueeze(-1))\n",
    "    lower, upper = pred.confidence_region()\n",
    "\n",
    "plt.plot(x.numpy(), pred.mean.numpy(), label='Mean Prediction')\n",
    "plt.fill_between(x.numpy(), lower.numpy(), upper.numpy(), alpha=0.5)\n",
    "plt.plot(train_x.numpy(), train_y.numpy(), 'k*', label='Observed Data')\n",
    "plt.legend()\n",
    "plt.show()"
   ]
  },
  {
   "cell_type": "code",
   "execution_count": 59,
   "id": "16f61c96-d894-4f31-b07c-cba700f04571",
   "metadata": {},
   "outputs": [
    {
     "name": "stdout",
     "output_type": "stream",
     "text": [
      "minimum of mean value function = 1.6666665077209473\n",
      "observed minimum in data = 1.9387754201889038\n"
     ]
    }
   ],
   "source": [
    "pred_mean = pred.mean.numpy()\n",
    "param = x.numpy()\n",
    "best_x = param[pred_mean.argmin()]\n",
    "print(f'minimum of mean value function = {best_x}')\n",
    "observed_min = train_x[train_y.argmin()]\n",
    "print(f'observed minimum in data = {observed_min}')"
   ]
  },
  {
   "cell_type": "code",
   "execution_count": null,
   "id": "e9f3f838-33e3-41c3-a716-32b22248507a",
   "metadata": {},
   "outputs": [],
   "source": []
  }
 ],
 "metadata": {
  "kernelspec": {
   "display_name": "Python 3 (ipykernel)",
   "language": "python",
   "name": "python3"
  },
  "language_info": {
   "codemirror_mode": {
    "name": "ipython",
    "version": 3
   },
   "file_extension": ".py",
   "mimetype": "text/x-python",
   "name": "python",
   "nbconvert_exporter": "python",
   "pygments_lexer": "ipython3",
   "version": "3.10.12"
  }
 },
 "nbformat": 4,
 "nbformat_minor": 5
}
